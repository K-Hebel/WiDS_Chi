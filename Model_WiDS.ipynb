{
  "nbformat": 4,
  "nbformat_minor": 0,
  "metadata": {
    "colab": {
      "name": "Model_WiDS.ipynb",
      "provenance": [],
      "authorship_tag": "ABX9TyPr2+FfsuWe0soEXugAnDk1",
      "include_colab_link": true
    },
    "kernelspec": {
      "name": "python3",
      "display_name": "Python 3"
    }
  },
  "cells": [
    {
      "cell_type": "markdown",
      "metadata": {
        "id": "view-in-github",
        "colab_type": "text"
      },
      "source": [
        "<a href=\"https://colab.research.google.com/github/K-Hebel/WiDS_Chi/blob/master/Model_WiDS.ipynb\" target=\"_parent\"><img src=\"https://colab.research.google.com/assets/colab-badge.svg\" alt=\"Open In Colab\"/></a>"
      ]
    },
    {
      "cell_type": "markdown",
      "metadata": {
        "id": "h9vhUAjn7LKZ"
      },
      "source": [
        "#Load Libraries"
      ]
    },
    {
      "cell_type": "code",
      "metadata": {
        "colab": {
          "base_uri": "https://localhost:8080/"
        },
        "id": "2Nu79Xd06NEk",
        "outputId": "30ebd4d3-4987-4935-dc66-9599a97aadf5"
      },
      "source": [
        "#@title\n",
        "from google.colab import drive\n",
        "drive.mount('/content/drive')"
      ],
      "execution_count": 191,
      "outputs": [
        {
          "output_type": "stream",
          "text": [
            "Drive already mounted at /content/drive; to attempt to forcibly remount, call drive.mount(\"/content/drive\", force_remount=True).\n"
          ],
          "name": "stdout"
        }
      ]
    },
    {
      "cell_type": "code",
      "metadata": {
        "id": "-3cVDHTD6czm"
      },
      "source": [
        "#@title\n",
        "import pandas as pd\n",
        "import numpy as np\n",
        "import matplotlib.pyplot as plt\n",
        "%matplotlib inline"
      ],
      "execution_count": 192,
      "outputs": []
    },
    {
      "cell_type": "code",
      "metadata": {
        "id": "AQCP0SgB8WMn"
      },
      "source": [
        "from xgboost import XGBClassifier\n",
        "from sklearn.impute import KNNImputer, SimpleImputer\n",
        "from sklearn.ensemble import RandomForestClassifier\n",
        "from sklearn.linear_model import LogisticRegression\n",
        "\n",
        "from sklearn.model_selection import train_test_split, RandomizedSearchCV\n",
        "from sklearn.pipeline import Pipeline\n",
        "from sklearn import metrics "
      ],
      "execution_count": 193,
      "outputs": []
    },
    {
      "cell_type": "code",
      "metadata": {
        "colab": {
          "resources": {
            "http://localhost:8080/nbextensions/google.colab/files.js": {
              "data": "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",
              "ok": true,
              "headers": [
                [
                  "content-type",
                  "application/javascript"
                ]
              ],
              "status": 200,
              "status_text": ""
            }
          },
          "base_uri": "https://localhost:8080/",
          "height": 89
        },
        "id": "pHt6roM0VwqU",
        "outputId": "87274331-a89b-4aa7-a9f5-a2ef21cebdbc"
      },
      "source": [
        "#@title\n",
        "! pip install -q kaggle\n",
        "from google.colab import files\n",
        "\n",
        "files.upload()"
      ],
      "execution_count": 194,
      "outputs": [
        {
          "output_type": "display_data",
          "data": {
            "text/html": [
              "\n",
              "     <input type=\"file\" id=\"files-742bca32-6479-4693-bfa5-e8ad748bef4c\" name=\"files[]\" multiple disabled\n",
              "        style=\"border:none\" />\n",
              "     <output id=\"result-742bca32-6479-4693-bfa5-e8ad748bef4c\">\n",
              "      Upload widget is only available when the cell has been executed in the\n",
              "      current browser session. Please rerun this cell to enable.\n",
              "      </output>\n",
              "      <script src=\"/nbextensions/google.colab/files.js\"></script> "
            ],
            "text/plain": [
              "<IPython.core.display.HTML object>"
            ]
          },
          "metadata": {
            "tags": []
          }
        },
        {
          "output_type": "stream",
          "text": [
            "Saving kaggle.json to kaggle (3).json\n"
          ],
          "name": "stdout"
        },
        {
          "output_type": "execute_result",
          "data": {
            "text/plain": [
              "{'kaggle.json': b'{\"username\":\"khebel\",\"key\":\"11c0f35aedbce6808a3f45f82709accf\"}'}"
            ]
          },
          "metadata": {
            "tags": []
          },
          "execution_count": 194
        }
      ]
    },
    {
      "cell_type": "code",
      "metadata": {
        "colab": {
          "base_uri": "https://localhost:8080/"
        },
        "id": "SZ8q976qVwa1",
        "outputId": "b588341d-c2aa-40f9-9173-3b077826344a"
      },
      "source": [
        "\n",
        "#@title\n",
        "! mkdir ~/.kaggle\n",
        "! cp kaggle.json ~/.kaggle/\n",
        "! chmod 600 ~/.kaggle/kaggle.json\n",
        "! kaggle competitions download -c 'widsdatathon2021'\n",
        "! unzip TrainingWiDS2021.csv.zip -d train\n",
        "! unzip UnlabeledWiDS2021.csv.zip -d train"
      ],
      "execution_count": 195,
      "outputs": [
        {
          "output_type": "stream",
          "text": [
            "mkdir: cannot create directory ‘/root/.kaggle’: File exists\n",
            "Warning: Looks like you're using an outdated API Version, please consider updating (server 1.5.10 / client 1.5.4)\n",
            "UnlabeledWiDS2021.csv.zip: Skipping, found more recently modified local copy (use --force to force download)\n",
            "TrainingWiDS2021.csv.zip: Skipping, found more recently modified local copy (use --force to force download)\n",
            "SampleSubmissionWiDS2021.csv: Skipping, found more recently modified local copy (use --force to force download)\n",
            "DataDictionaryWiDS2021.csv: Skipping, found more recently modified local copy (use --force to force download)\n",
            "SolutionTemplateWiDS2021.csv: Skipping, found more recently modified local copy (use --force to force download)\n",
            "Archive:  TrainingWiDS2021.csv.zip\n",
            "replace train/TrainingWiDS2021.csv? [y]es, [n]o, [A]ll, [N]one, [r]ename: n\n",
            "Archive:  UnlabeledWiDS2021.csv.zip\n",
            "replace train/UnlabeledWiDS2021.csv? [y]es, [n]o, [A]ll, [N]one, [r]ename: n\n"
          ],
          "name": "stdout"
        }
      ]
    },
    {
      "cell_type": "code",
      "metadata": {
        "id": "cSfbhgzn82x8"
      },
      "source": [
        "\n",
        "df=pd.read_csv(\"train/TrainingWiDS2021.csv\")"
      ],
      "execution_count": 196,
      "outputs": []
    },
    {
      "cell_type": "markdown",
      "metadata": {
        "id": "Exj2ExxwVQiz"
      },
      "source": [
        "#Final Model Submitted for WiDS Datathon 2021\n",
        "##Kaggle Acurracy Score= 0.84398\n",
        "###Load Original DataFile of 130,157 records (Clean Based on Proportion of Available Data - df_B)"
      ]
    },
    {
      "cell_type": "markdown",
      "metadata": {
        "id": "oZy0oN6zUUWT"
      },
      "source": [
        "Our model was based on establishing a sample dataset that would be most free of bias and most balanced in its approach. In addition, given its potential for clinical usage, we intentionally sought to reduce the number of features within the model’s sample dataset. The sample was formulated by: \n",
        " \n",
        "1.   A random sampling of the population to produce equal amounts of diabetic and non-diabetic data;\n",
        "\n",
        "2. Dropping features with more than 70% of the data missing (based on 56,302 total records);\n",
        "3. Dropping features not directly related to patient care statistics (e.g. ids, stay types);     \n",
        "4. Encoding ‘gender’ and ‘ethnicity’ data.\n",
        "\n",
        "To account for missing data and avoid faulty imputation, we chose to use the XGBClassisifier model with hyperparameter tuning.   \n"
      ]
    },
    {
      "cell_type": "code",
      "metadata": {
        "id": "ktrGmTosVwOs"
      },
      "source": [
        "#@title\n",
        "df_B=pd.read_csv(\"train/TrainingWiDS2021.csv\")\n",
        "\n"
      ],
      "execution_count": 197,
      "outputs": []
    },
    {
      "cell_type": "markdown",
      "metadata": {
        "id": "lrwnQTxuaD-G"
      },
      "source": [
        "##Create Stratified Sample of df_B dataset to balance target variable value counts for sample size of 56,302 (included all positive diabetes_mellitus from original dataset)"
      ]
    },
    {
      "cell_type": "code",
      "metadata": {
        "colab": {
          "base_uri": "https://localhost:8080/"
        },
        "id": "L0-nPUs4XY5X",
        "outputId": "e8491829-8a97-4eb4-9743-f35f2b4f35e7"
      },
      "source": [
        "df_B['diabetes_mellitus'].value_counts()"
      ],
      "execution_count": 198,
      "outputs": [
        {
          "output_type": "execute_result",
          "data": {
            "text/plain": [
              "0    102006\n",
              "1     28151\n",
              "Name: diabetes_mellitus, dtype: int64"
            ]
          },
          "metadata": {
            "tags": []
          },
          "execution_count": 198
        }
      ]
    },
    {
      "cell_type": "code",
      "metadata": {
        "colab": {
          "base_uri": "https://localhost:8080/",
          "height": 346
        },
        "id": "njlQ5c9dZtUt",
        "outputId": "e918aba4-ef32-42d0-f72c-fe9298d1ffad"
      },
      "source": [
        "df_B=df_B.groupby(['diabetes_mellitus'], group_keys=False).apply(lambda x: x.sample(28151, random_state=40))\n",
        "df_B.describe()"
      ],
      "execution_count": 199,
      "outputs": [
        {
          "output_type": "execute_result",
          "data": {
            "text/html": [
              "<div>\n",
              "<style scoped>\n",
              "    .dataframe tbody tr th:only-of-type {\n",
              "        vertical-align: middle;\n",
              "    }\n",
              "\n",
              "    .dataframe tbody tr th {\n",
              "        vertical-align: top;\n",
              "    }\n",
              "\n",
              "    .dataframe thead th {\n",
              "        text-align: right;\n",
              "    }\n",
              "</style>\n",
              "<table border=\"1\" class=\"dataframe\">\n",
              "  <thead>\n",
              "    <tr style=\"text-align: right;\">\n",
              "      <th></th>\n",
              "      <th>Unnamed: 0</th>\n",
              "      <th>encounter_id</th>\n",
              "      <th>hospital_id</th>\n",
              "      <th>age</th>\n",
              "      <th>bmi</th>\n",
              "      <th>elective_surgery</th>\n",
              "      <th>height</th>\n",
              "      <th>icu_id</th>\n",
              "      <th>pre_icu_los_days</th>\n",
              "      <th>readmission_status</th>\n",
              "      <th>weight</th>\n",
              "      <th>albumin_apache</th>\n",
              "      <th>apache_2_diagnosis</th>\n",
              "      <th>apache_3j_diagnosis</th>\n",
              "      <th>apache_post_operative</th>\n",
              "      <th>arf_apache</th>\n",
              "      <th>bilirubin_apache</th>\n",
              "      <th>bun_apache</th>\n",
              "      <th>creatinine_apache</th>\n",
              "      <th>fio2_apache</th>\n",
              "      <th>gcs_eyes_apache</th>\n",
              "      <th>gcs_motor_apache</th>\n",
              "      <th>gcs_unable_apache</th>\n",
              "      <th>gcs_verbal_apache</th>\n",
              "      <th>glucose_apache</th>\n",
              "      <th>heart_rate_apache</th>\n",
              "      <th>hematocrit_apache</th>\n",
              "      <th>intubated_apache</th>\n",
              "      <th>map_apache</th>\n",
              "      <th>paco2_apache</th>\n",
              "      <th>paco2_for_ph_apache</th>\n",
              "      <th>pao2_apache</th>\n",
              "      <th>ph_apache</th>\n",
              "      <th>resprate_apache</th>\n",
              "      <th>sodium_apache</th>\n",
              "      <th>temp_apache</th>\n",
              "      <th>urineoutput_apache</th>\n",
              "      <th>ventilated_apache</th>\n",
              "      <th>wbc_apache</th>\n",
              "      <th>d1_diasbp_invasive_max</th>\n",
              "      <th>...</th>\n",
              "      <th>h1_hemaglobin_max</th>\n",
              "      <th>h1_hemaglobin_min</th>\n",
              "      <th>h1_hematocrit_max</th>\n",
              "      <th>h1_hematocrit_min</th>\n",
              "      <th>h1_inr_max</th>\n",
              "      <th>h1_inr_min</th>\n",
              "      <th>h1_lactate_max</th>\n",
              "      <th>h1_lactate_min</th>\n",
              "      <th>h1_platelets_max</th>\n",
              "      <th>h1_platelets_min</th>\n",
              "      <th>h1_potassium_max</th>\n",
              "      <th>h1_potassium_min</th>\n",
              "      <th>h1_sodium_max</th>\n",
              "      <th>h1_sodium_min</th>\n",
              "      <th>h1_wbc_max</th>\n",
              "      <th>h1_wbc_min</th>\n",
              "      <th>d1_arterial_pco2_max</th>\n",
              "      <th>d1_arterial_pco2_min</th>\n",
              "      <th>d1_arterial_ph_max</th>\n",
              "      <th>d1_arterial_ph_min</th>\n",
              "      <th>d1_arterial_po2_max</th>\n",
              "      <th>d1_arterial_po2_min</th>\n",
              "      <th>d1_pao2fio2ratio_max</th>\n",
              "      <th>d1_pao2fio2ratio_min</th>\n",
              "      <th>h1_arterial_pco2_max</th>\n",
              "      <th>h1_arterial_pco2_min</th>\n",
              "      <th>h1_arterial_ph_max</th>\n",
              "      <th>h1_arterial_ph_min</th>\n",
              "      <th>h1_arterial_po2_max</th>\n",
              "      <th>h1_arterial_po2_min</th>\n",
              "      <th>h1_pao2fio2ratio_max</th>\n",
              "      <th>h1_pao2fio2ratio_min</th>\n",
              "      <th>aids</th>\n",
              "      <th>cirrhosis</th>\n",
              "      <th>hepatic_failure</th>\n",
              "      <th>immunosuppression</th>\n",
              "      <th>leukemia</th>\n",
              "      <th>lymphoma</th>\n",
              "      <th>solid_tumor_with_metastasis</th>\n",
              "      <th>diabetes_mellitus</th>\n",
              "    </tr>\n",
              "  </thead>\n",
              "  <tbody>\n",
              "    <tr>\n",
              "      <th>count</th>\n",
              "      <td>56302.000000</td>\n",
              "      <td>56302.000000</td>\n",
              "      <td>56302.000000</td>\n",
              "      <td>54522.000000</td>\n",
              "      <td>54395.000000</td>\n",
              "      <td>56302.000000</td>\n",
              "      <td>55478.000000</td>\n",
              "      <td>56302.000000</td>\n",
              "      <td>56302.000000</td>\n",
              "      <td>56302.0</td>\n",
              "      <td>54823.000000</td>\n",
              "      <td>22826.000000</td>\n",
              "      <td>55686.000000</td>\n",
              "      <td>56040.000000</td>\n",
              "      <td>56302.000000</td>\n",
              "      <td>56302.000000</td>\n",
              "      <td>20776.000000</td>\n",
              "      <td>45842.000000</td>\n",
              "      <td>46073.000000</td>\n",
              "      <td>13385.000000</td>\n",
              "      <td>55464.000000</td>\n",
              "      <td>55464.000000</td>\n",
              "      <td>56064.000000</td>\n",
              "      <td>55464.000000</td>\n",
              "      <td>51503.000000</td>\n",
              "      <td>56191.000000</td>\n",
              "      <td>44803.000000</td>\n",
              "      <td>56302.000000</td>\n",
              "      <td>56145.000000</td>\n",
              "      <td>13385.000000</td>\n",
              "      <td>13385.000000</td>\n",
              "      <td>13385.000000</td>\n",
              "      <td>13385.000000</td>\n",
              "      <td>55964.000000</td>\n",
              "      <td>46232.000000</td>\n",
              "      <td>53504.000000</td>\n",
              "      <td>28215.000000</td>\n",
              "      <td>56302.000000</td>\n",
              "      <td>43696.000000</td>\n",
              "      <td>15379.000000</td>\n",
              "      <td>...</td>\n",
              "      <td>12121.000000</td>\n",
              "      <td>12121.000000</td>\n",
              "      <td>12027.000000</td>\n",
              "      <td>12027.000000</td>\n",
              "      <td>21198.000000</td>\n",
              "      <td>21198.000000</td>\n",
              "      <td>5262.000000</td>\n",
              "      <td>5262.000000</td>\n",
              "      <td>10837.000000</td>\n",
              "      <td>10837.000000</td>\n",
              "      <td>13552.000000</td>\n",
              "      <td>13552.000000</td>\n",
              "      <td>13066.000000</td>\n",
              "      <td>13066.000000</td>\n",
              "      <td>10718.000000</td>\n",
              "      <td>10718.000000</td>\n",
              "      <td>20212.000000</td>\n",
              "      <td>20212.000000</td>\n",
              "      <td>20072.000000</td>\n",
              "      <td>20072.000000</td>\n",
              "      <td>20420.000000</td>\n",
              "      <td>20420.000000</td>\n",
              "      <td>16302.000000</td>\n",
              "      <td>16302.000000</td>\n",
              "      <td>10079.000000</td>\n",
              "      <td>10079.000000</td>\n",
              "      <td>10000.000000</td>\n",
              "      <td>10000.000000</td>\n",
              "      <td>10186.000000</td>\n",
              "      <td>10186.000000</td>\n",
              "      <td>7522.000000</td>\n",
              "      <td>7522.000000</td>\n",
              "      <td>56302.000000</td>\n",
              "      <td>56302.000000</td>\n",
              "      <td>56302.000000</td>\n",
              "      <td>56302.000000</td>\n",
              "      <td>56302.000000</td>\n",
              "      <td>56302.000000</td>\n",
              "      <td>56302.000000</td>\n",
              "      <td>56302.000000</td>\n",
              "    </tr>\n",
              "    <tr>\n",
              "      <th>mean</th>\n",
              "      <td>64655.550886</td>\n",
              "      <td>212782.740631</td>\n",
              "      <td>105.763952</td>\n",
              "      <td>62.966802</td>\n",
              "      <td>30.088126</td>\n",
              "      <td>0.189194</td>\n",
              "      <td>169.589446</td>\n",
              "      <td>659.607634</td>\n",
              "      <td>0.880027</td>\n",
              "      <td>0.0</td>\n",
              "      <td>86.536353</td>\n",
              "      <td>2.871011</td>\n",
              "      <td>185.567486</td>\n",
              "      <td>561.430807</td>\n",
              "      <td>0.204558</td>\n",
              "      <td>0.040798</td>\n",
              "      <td>1.148028</td>\n",
              "      <td>27.796896</td>\n",
              "      <td>1.611887</td>\n",
              "      <td>0.590217</td>\n",
              "      <td>3.501154</td>\n",
              "      <td>5.503263</td>\n",
              "      <td>0.010702</td>\n",
              "      <td>4.050898</td>\n",
              "      <td>182.272648</td>\n",
              "      <td>99.565482</td>\n",
              "      <td>32.697951</td>\n",
              "      <td>0.156424</td>\n",
              "      <td>87.213227</td>\n",
              "      <td>42.329880</td>\n",
              "      <td>42.329880</td>\n",
              "      <td>128.974666</td>\n",
              "      <td>7.350237</td>\n",
              "      <td>25.008498</td>\n",
              "      <td>137.790517</td>\n",
              "      <td>36.413557</td>\n",
              "      <td>1818.065343</td>\n",
              "      <td>0.335636</td>\n",
              "      <td>12.197321</td>\n",
              "      <td>78.425190</td>\n",
              "      <td>...</td>\n",
              "      <td>11.102698</td>\n",
              "      <td>10.978591</td>\n",
              "      <td>33.477592</td>\n",
              "      <td>33.082581</td>\n",
              "      <td>1.595339</td>\n",
              "      <td>1.478905</td>\n",
              "      <td>3.022566</td>\n",
              "      <td>2.971556</td>\n",
              "      <td>196.161392</td>\n",
              "      <td>195.331549</td>\n",
              "      <td>4.234279</td>\n",
              "      <td>4.193200</td>\n",
              "      <td>137.989354</td>\n",
              "      <td>137.713746</td>\n",
              "      <td>13.425110</td>\n",
              "      <td>13.371630</td>\n",
              "      <td>45.464702</td>\n",
              "      <td>38.629215</td>\n",
              "      <td>7.385845</td>\n",
              "      <td>7.319480</td>\n",
              "      <td>163.004663</td>\n",
              "      <td>101.419519</td>\n",
              "      <td>287.060059</td>\n",
              "      <td>223.108487</td>\n",
              "      <td>44.689945</td>\n",
              "      <td>43.413494</td>\n",
              "      <td>7.335085</td>\n",
              "      <td>7.324899</td>\n",
              "      <td>161.350738</td>\n",
              "      <td>143.608198</td>\n",
              "      <td>245.075033</td>\n",
              "      <td>236.977194</td>\n",
              "      <td>0.000817</td>\n",
              "      <td>0.017655</td>\n",
              "      <td>0.014547</td>\n",
              "      <td>0.025949</td>\n",
              "      <td>0.007211</td>\n",
              "      <td>0.004387</td>\n",
              "      <td>0.019609</td>\n",
              "      <td>0.500000</td>\n",
              "    </tr>\n",
              "    <tr>\n",
              "      <th>std</th>\n",
              "      <td>37322.197747</td>\n",
              "      <td>38119.387311</td>\n",
              "      <td>63.894105</td>\n",
              "      <td>15.957276</td>\n",
              "      <td>8.632753</td>\n",
              "      <td>0.391666</td>\n",
              "      <td>10.821274</td>\n",
              "      <td>302.351038</td>\n",
              "      <td>2.543398</td>\n",
              "      <td>0.0</td>\n",
              "      <td>25.897005</td>\n",
              "      <td>0.675654</td>\n",
              "      <td>86.330833</td>\n",
              "      <td>461.686481</td>\n",
              "      <td>0.403382</td>\n",
              "      <td>0.197823</td>\n",
              "      <td>2.241411</td>\n",
              "      <td>21.660958</td>\n",
              "      <td>1.653390</td>\n",
              "      <td>0.262116</td>\n",
              "      <td>0.927126</td>\n",
              "      <td>1.249989</td>\n",
              "      <td>0.102897</td>\n",
              "      <td>1.525480</td>\n",
              "      <td>103.282847</td>\n",
              "      <td>30.313777</td>\n",
              "      <td>6.730786</td>\n",
              "      <td>0.363260</td>\n",
              "      <td>42.099895</td>\n",
              "      <td>12.515119</td>\n",
              "      <td>12.515119</td>\n",
              "      <td>82.140011</td>\n",
              "      <td>0.098808</td>\n",
              "      <td>15.061278</td>\n",
              "      <td>5.306175</td>\n",
              "      <td>0.860963</td>\n",
              "      <td>1468.719663</td>\n",
              "      <td>0.472217</td>\n",
              "      <td>6.829036</td>\n",
              "      <td>21.695247</td>\n",
              "      <td>...</td>\n",
              "      <td>2.301571</td>\n",
              "      <td>2.335979</td>\n",
              "      <td>6.648873</td>\n",
              "      <td>6.817623</td>\n",
              "      <td>0.970976</td>\n",
              "      <td>0.753246</td>\n",
              "      <td>2.880175</td>\n",
              "      <td>2.840215</td>\n",
              "      <td>92.882939</td>\n",
              "      <td>93.053916</td>\n",
              "      <td>0.779588</td>\n",
              "      <td>0.771397</td>\n",
              "      <td>5.673122</td>\n",
              "      <td>5.606040</td>\n",
              "      <td>6.863777</td>\n",
              "      <td>6.853997</td>\n",
              "      <td>14.795767</td>\n",
              "      <td>11.208354</td>\n",
              "      <td>0.086445</td>\n",
              "      <td>0.111693</td>\n",
              "      <td>105.064639</td>\n",
              "      <td>59.696393</td>\n",
              "      <td>130.029869</td>\n",
              "      <td>119.051158</td>\n",
              "      <td>14.907696</td>\n",
              "      <td>14.344309</td>\n",
              "      <td>0.107067</td>\n",
              "      <td>0.109611</td>\n",
              "      <td>110.571850</td>\n",
              "      <td>98.442800</td>\n",
              "      <td>131.813594</td>\n",
              "      <td>128.627077</td>\n",
              "      <td>0.028572</td>\n",
              "      <td>0.131694</td>\n",
              "      <td>0.119730</td>\n",
              "      <td>0.158986</td>\n",
              "      <td>0.084612</td>\n",
              "      <td>0.066090</td>\n",
              "      <td>0.138652</td>\n",
              "      <td>0.500004</td>\n",
              "    </tr>\n",
              "    <tr>\n",
              "      <th>min</th>\n",
              "      <td>1.000000</td>\n",
              "      <td>147001.000000</td>\n",
              "      <td>1.000000</td>\n",
              "      <td>0.000000</td>\n",
              "      <td>14.844926</td>\n",
              "      <td>0.000000</td>\n",
              "      <td>137.200000</td>\n",
              "      <td>82.000000</td>\n",
              "      <td>-0.237500</td>\n",
              "      <td>0.0</td>\n",
              "      <td>38.600000</td>\n",
              "      <td>1.200000</td>\n",
              "      <td>101.000000</td>\n",
              "      <td>0.010000</td>\n",
              "      <td>0.000000</td>\n",
              "      <td>0.000000</td>\n",
              "      <td>0.100000</td>\n",
              "      <td>4.000000</td>\n",
              "      <td>0.300000</td>\n",
              "      <td>0.210000</td>\n",
              "      <td>1.000000</td>\n",
              "      <td>1.000000</td>\n",
              "      <td>0.000000</td>\n",
              "      <td>1.000000</td>\n",
              "      <td>39.000000</td>\n",
              "      <td>30.000000</td>\n",
              "      <td>16.200000</td>\n",
              "      <td>0.000000</td>\n",
              "      <td>40.000000</td>\n",
              "      <td>18.000000</td>\n",
              "      <td>18.000000</td>\n",
              "      <td>31.000000</td>\n",
              "      <td>6.960540</td>\n",
              "      <td>4.000000</td>\n",
              "      <td>117.000000</td>\n",
              "      <td>32.100000</td>\n",
              "      <td>0.000000</td>\n",
              "      <td>0.000000</td>\n",
              "      <td>0.900000</td>\n",
              "      <td>37.000000</td>\n",
              "      <td>...</td>\n",
              "      <td>5.100000</td>\n",
              "      <td>5.000000</td>\n",
              "      <td>16.000000</td>\n",
              "      <td>15.500000</td>\n",
              "      <td>0.900000</td>\n",
              "      <td>0.900000</td>\n",
              "      <td>0.400000</td>\n",
              "      <td>0.400000</td>\n",
              "      <td>20.000000</td>\n",
              "      <td>20.000000</td>\n",
              "      <td>2.500000</td>\n",
              "      <td>2.500000</td>\n",
              "      <td>114.000000</td>\n",
              "      <td>114.000000</td>\n",
              "      <td>1.100000</td>\n",
              "      <td>1.089800</td>\n",
              "      <td>18.400000</td>\n",
              "      <td>14.900000</td>\n",
              "      <td>7.054280</td>\n",
              "      <td>6.890000</td>\n",
              "      <td>39.000000</td>\n",
              "      <td>28.000000</td>\n",
              "      <td>54.800000</td>\n",
              "      <td>36.000000</td>\n",
              "      <td>15.000000</td>\n",
              "      <td>14.997000</td>\n",
              "      <td>6.930000</td>\n",
              "      <td>6.900000</td>\n",
              "      <td>34.000000</td>\n",
              "      <td>31.000000</td>\n",
              "      <td>42.000000</td>\n",
              "      <td>38.000000</td>\n",
              "      <td>0.000000</td>\n",
              "      <td>0.000000</td>\n",
              "      <td>0.000000</td>\n",
              "      <td>0.000000</td>\n",
              "      <td>0.000000</td>\n",
              "      <td>0.000000</td>\n",
              "      <td>0.000000</td>\n",
              "      <td>0.000000</td>\n",
              "    </tr>\n",
              "    <tr>\n",
              "      <th>25%</th>\n",
              "      <td>32044.500000</td>\n",
              "      <td>179640.000000</td>\n",
              "      <td>47.000000</td>\n",
              "      <td>54.000000</td>\n",
              "      <td>24.223997</td>\n",
              "      <td>0.000000</td>\n",
              "      <td>162.500000</td>\n",
              "      <td>426.000000</td>\n",
              "      <td>0.047222</td>\n",
              "      <td>0.0</td>\n",
              "      <td>68.200000</td>\n",
              "      <td>2.400000</td>\n",
              "      <td>113.000000</td>\n",
              "      <td>203.010000</td>\n",
              "      <td>0.000000</td>\n",
              "      <td>0.000000</td>\n",
              "      <td>0.400000</td>\n",
              "      <td>13.000000</td>\n",
              "      <td>0.740000</td>\n",
              "      <td>0.400000</td>\n",
              "      <td>3.000000</td>\n",
              "      <td>6.000000</td>\n",
              "      <td>0.000000</td>\n",
              "      <td>4.000000</td>\n",
              "      <td>101.000000</td>\n",
              "      <td>87.000000</td>\n",
              "      <td>27.900000</td>\n",
              "      <td>0.000000</td>\n",
              "      <td>53.000000</td>\n",
              "      <td>34.600000</td>\n",
              "      <td>34.600000</td>\n",
              "      <td>76.400000</td>\n",
              "      <td>7.300000</td>\n",
              "      <td>11.000000</td>\n",
              "      <td>135.000000</td>\n",
              "      <td>36.200000</td>\n",
              "      <td>791.510400</td>\n",
              "      <td>0.000000</td>\n",
              "      <td>7.600000</td>\n",
              "      <td>64.000000</td>\n",
              "      <td>...</td>\n",
              "      <td>9.500000</td>\n",
              "      <td>9.300000</td>\n",
              "      <td>28.900000</td>\n",
              "      <td>28.100000</td>\n",
              "      <td>1.100000</td>\n",
              "      <td>1.100000</td>\n",
              "      <td>1.300000</td>\n",
              "      <td>1.200000</td>\n",
              "      <td>132.000000</td>\n",
              "      <td>131.000000</td>\n",
              "      <td>3.700000</td>\n",
              "      <td>3.700000</td>\n",
              "      <td>135.000000</td>\n",
              "      <td>135.000000</td>\n",
              "      <td>8.700000</td>\n",
              "      <td>8.600000</td>\n",
              "      <td>36.200000</td>\n",
              "      <td>32.000000</td>\n",
              "      <td>7.340000</td>\n",
              "      <td>7.270000</td>\n",
              "      <td>88.000000</td>\n",
              "      <td>68.000000</td>\n",
              "      <td>192.500000</td>\n",
              "      <td>131.666667</td>\n",
              "      <td>36.000000</td>\n",
              "      <td>35.000000</td>\n",
              "      <td>7.290000</td>\n",
              "      <td>7.280000</td>\n",
              "      <td>80.900000</td>\n",
              "      <td>77.000000</td>\n",
              "      <td>141.906250</td>\n",
              "      <td>136.000000</td>\n",
              "      <td>0.000000</td>\n",
              "      <td>0.000000</td>\n",
              "      <td>0.000000</td>\n",
              "      <td>0.000000</td>\n",
              "      <td>0.000000</td>\n",
              "      <td>0.000000</td>\n",
              "      <td>0.000000</td>\n",
              "      <td>0.000000</td>\n",
              "    </tr>\n",
              "    <tr>\n",
              "      <th>50%</th>\n",
              "      <td>64519.500000</td>\n",
              "      <td>212695.000000</td>\n",
              "      <td>112.000000</td>\n",
              "      <td>65.000000</td>\n",
              "      <td>28.480912</td>\n",
              "      <td>0.000000</td>\n",
              "      <td>170.000000</td>\n",
              "      <td>653.000000</td>\n",
              "      <td>0.159722</td>\n",
              "      <td>0.0</td>\n",
              "      <td>82.500000</td>\n",
              "      <td>2.900000</td>\n",
              "      <td>123.000000</td>\n",
              "      <td>410.010000</td>\n",
              "      <td>0.000000</td>\n",
              "      <td>0.000000</td>\n",
              "      <td>0.600000</td>\n",
              "      <td>21.000000</td>\n",
              "      <td>1.050000</td>\n",
              "      <td>0.500000</td>\n",
              "      <td>4.000000</td>\n",
              "      <td>6.000000</td>\n",
              "      <td>0.000000</td>\n",
              "      <td>5.000000</td>\n",
              "      <td>162.000000</td>\n",
              "      <td>104.000000</td>\n",
              "      <td>32.800000</td>\n",
              "      <td>0.000000</td>\n",
              "      <td>66.000000</td>\n",
              "      <td>40.400000</td>\n",
              "      <td>40.400000</td>\n",
              "      <td>101.800000</td>\n",
              "      <td>7.360000</td>\n",
              "      <td>27.000000</td>\n",
              "      <td>138.000000</td>\n",
              "      <td>36.500000</td>\n",
              "      <td>1469.318400</td>\n",
              "      <td>0.000000</td>\n",
              "      <td>10.500000</td>\n",
              "      <td>75.000000</td>\n",
              "      <td>...</td>\n",
              "      <td>11.000000</td>\n",
              "      <td>10.900000</td>\n",
              "      <td>33.400000</td>\n",
              "      <td>33.000000</td>\n",
              "      <td>1.300000</td>\n",
              "      <td>1.200000</td>\n",
              "      <td>2.000000</td>\n",
              "      <td>2.000000</td>\n",
              "      <td>181.000000</td>\n",
              "      <td>180.000000</td>\n",
              "      <td>4.100000</td>\n",
              "      <td>4.100000</td>\n",
              "      <td>138.000000</td>\n",
              "      <td>138.000000</td>\n",
              "      <td>12.200000</td>\n",
              "      <td>12.100000</td>\n",
              "      <td>43.000000</td>\n",
              "      <td>37.000000</td>\n",
              "      <td>7.390000</td>\n",
              "      <td>7.333000</td>\n",
              "      <td>125.000000</td>\n",
              "      <td>85.000000</td>\n",
              "      <td>272.780303</td>\n",
              "      <td>203.291667</td>\n",
              "      <td>42.000000</td>\n",
              "      <td>41.000000</td>\n",
              "      <td>7.350000</td>\n",
              "      <td>7.340000</td>\n",
              "      <td>118.000000</td>\n",
              "      <td>106.000000</td>\n",
              "      <td>225.000000</td>\n",
              "      <td>215.669643</td>\n",
              "      <td>0.000000</td>\n",
              "      <td>0.000000</td>\n",
              "      <td>0.000000</td>\n",
              "      <td>0.000000</td>\n",
              "      <td>0.000000</td>\n",
              "      <td>0.000000</td>\n",
              "      <td>0.000000</td>\n",
              "      <td>0.500000</td>\n",
              "    </tr>\n",
              "    <tr>\n",
              "      <th>75%</th>\n",
              "      <td>96417.250000</td>\n",
              "      <td>245750.500000</td>\n",
              "      <td>165.000000</td>\n",
              "      <td>75.000000</td>\n",
              "      <td>34.086605</td>\n",
              "      <td>0.000000</td>\n",
              "      <td>177.800000</td>\n",
              "      <td>966.000000</td>\n",
              "      <td>0.441667</td>\n",
              "      <td>0.0</td>\n",
              "      <td>100.000000</td>\n",
              "      <td>3.300000</td>\n",
              "      <td>302.000000</td>\n",
              "      <td>703.030000</td>\n",
              "      <td>0.000000</td>\n",
              "      <td>0.000000</td>\n",
              "      <td>1.100000</td>\n",
              "      <td>35.000000</td>\n",
              "      <td>1.700000</td>\n",
              "      <td>0.800000</td>\n",
              "      <td>4.000000</td>\n",
              "      <td>6.000000</td>\n",
              "      <td>0.000000</td>\n",
              "      <td>5.000000</td>\n",
              "      <td>231.000000</td>\n",
              "      <td>119.000000</td>\n",
              "      <td>37.400000</td>\n",
              "      <td>0.000000</td>\n",
              "      <td>124.000000</td>\n",
              "      <td>47.000000</td>\n",
              "      <td>47.000000</td>\n",
              "      <td>152.000000</td>\n",
              "      <td>7.410000</td>\n",
              "      <td>35.000000</td>\n",
              "      <td>141.000000</td>\n",
              "      <td>36.700000</td>\n",
              "      <td>2454.494400</td>\n",
              "      <td>1.000000</td>\n",
              "      <td>15.290000</td>\n",
              "      <td>88.000000</td>\n",
              "      <td>...</td>\n",
              "      <td>12.700000</td>\n",
              "      <td>12.600000</td>\n",
              "      <td>38.000000</td>\n",
              "      <td>37.900000</td>\n",
              "      <td>1.600000</td>\n",
              "      <td>1.500000</td>\n",
              "      <td>3.572500</td>\n",
              "      <td>3.500000</td>\n",
              "      <td>242.000000</td>\n",
              "      <td>241.000000</td>\n",
              "      <td>4.600000</td>\n",
              "      <td>4.600000</td>\n",
              "      <td>141.000000</td>\n",
              "      <td>141.000000</td>\n",
              "      <td>16.767500</td>\n",
              "      <td>16.690000</td>\n",
              "      <td>50.500000</td>\n",
              "      <td>43.300000</td>\n",
              "      <td>7.440000</td>\n",
              "      <td>7.390000</td>\n",
              "      <td>203.000000</td>\n",
              "      <td>114.000000</td>\n",
              "      <td>366.666667</td>\n",
              "      <td>296.666667</td>\n",
              "      <td>49.400000</td>\n",
              "      <td>48.000000</td>\n",
              "      <td>7.402000</td>\n",
              "      <td>7.395000</td>\n",
              "      <td>212.000000</td>\n",
              "      <td>177.750000</td>\n",
              "      <td>328.000000</td>\n",
              "      <td>318.000000</td>\n",
              "      <td>0.000000</td>\n",
              "      <td>0.000000</td>\n",
              "      <td>0.000000</td>\n",
              "      <td>0.000000</td>\n",
              "      <td>0.000000</td>\n",
              "      <td>0.000000</td>\n",
              "      <td>0.000000</td>\n",
              "      <td>1.000000</td>\n",
              "    </tr>\n",
              "    <tr>\n",
              "      <th>max</th>\n",
              "      <td>130155.000000</td>\n",
              "      <td>278997.000000</td>\n",
              "      <td>204.000000</td>\n",
              "      <td>89.000000</td>\n",
              "      <td>67.814990</td>\n",
              "      <td>1.000000</td>\n",
              "      <td>195.590000</td>\n",
              "      <td>1111.000000</td>\n",
              "      <td>159.090972</td>\n",
              "      <td>0.0</td>\n",
              "      <td>186.000000</td>\n",
              "      <td>4.600000</td>\n",
              "      <td>308.000000</td>\n",
              "      <td>2201.050000</td>\n",
              "      <td>1.000000</td>\n",
              "      <td>1.000000</td>\n",
              "      <td>60.200000</td>\n",
              "      <td>127.000000</td>\n",
              "      <td>11.180000</td>\n",
              "      <td>1.000000</td>\n",
              "      <td>4.000000</td>\n",
              "      <td>6.000000</td>\n",
              "      <td>1.000000</td>\n",
              "      <td>5.000000</td>\n",
              "      <td>598.700000</td>\n",
              "      <td>178.000000</td>\n",
              "      <td>51.400000</td>\n",
              "      <td>1.000000</td>\n",
              "      <td>200.000000</td>\n",
              "      <td>95.000000</td>\n",
              "      <td>95.000000</td>\n",
              "      <td>498.000000</td>\n",
              "      <td>7.590000</td>\n",
              "      <td>60.000000</td>\n",
              "      <td>158.000000</td>\n",
              "      <td>39.700000</td>\n",
              "      <td>8716.669632</td>\n",
              "      <td>1.000000</td>\n",
              "      <td>45.800000</td>\n",
              "      <td>181.000000</td>\n",
              "      <td>...</td>\n",
              "      <td>17.400000</td>\n",
              "      <td>17.300000</td>\n",
              "      <td>51.700000</td>\n",
              "      <td>51.500000</td>\n",
              "      <td>7.756000</td>\n",
              "      <td>6.127000</td>\n",
              "      <td>18.100000</td>\n",
              "      <td>18.019500</td>\n",
              "      <td>585.000000</td>\n",
              "      <td>585.000000</td>\n",
              "      <td>7.200000</td>\n",
              "      <td>7.100000</td>\n",
              "      <td>157.000000</td>\n",
              "      <td>157.000000</td>\n",
              "      <td>44.102000</td>\n",
              "      <td>44.102000</td>\n",
              "      <td>111.000000</td>\n",
              "      <td>85.912000</td>\n",
              "      <td>7.620000</td>\n",
              "      <td>7.557860</td>\n",
              "      <td>540.865000</td>\n",
              "      <td>448.892000</td>\n",
              "      <td>834.805000</td>\n",
              "      <td>604.227778</td>\n",
              "      <td>111.505000</td>\n",
              "      <td>107.000000</td>\n",
              "      <td>7.570000</td>\n",
              "      <td>7.563000</td>\n",
              "      <td>534.905000</td>\n",
              "      <td>514.905000</td>\n",
              "      <td>720.000000</td>\n",
              "      <td>654.813793</td>\n",
              "      <td>1.000000</td>\n",
              "      <td>1.000000</td>\n",
              "      <td>1.000000</td>\n",
              "      <td>1.000000</td>\n",
              "      <td>1.000000</td>\n",
              "      <td>1.000000</td>\n",
              "      <td>1.000000</td>\n",
              "      <td>1.000000</td>\n",
              "    </tr>\n",
              "  </tbody>\n",
              "</table>\n",
              "<p>8 rows × 175 columns</p>\n",
              "</div>"
            ],
            "text/plain": [
              "          Unnamed: 0  ...  diabetes_mellitus\n",
              "count   56302.000000  ...       56302.000000\n",
              "mean    64655.550886  ...           0.500000\n",
              "std     37322.197747  ...           0.500004\n",
              "min         1.000000  ...           0.000000\n",
              "25%     32044.500000  ...           0.000000\n",
              "50%     64519.500000  ...           0.500000\n",
              "75%     96417.250000  ...           1.000000\n",
              "max    130155.000000  ...           1.000000\n",
              "\n",
              "[8 rows x 175 columns]"
            ]
          },
          "metadata": {
            "tags": []
          },
          "execution_count": 199
        }
      ]
    },
    {
      "cell_type": "code",
      "metadata": {
        "colab": {
          "base_uri": "https://localhost:8080/"
        },
        "id": "Hal-JC_Akzeq",
        "outputId": "2cb44fd6-50b1-41f8-c47d-7ebc03623595"
      },
      "source": [
        "df_B['diabetes_mellitus'].value_counts()"
      ],
      "execution_count": 200,
      "outputs": [
        {
          "output_type": "execute_result",
          "data": {
            "text/plain": [
              "1    28151\n",
              "0    28151\n",
              "Name: diabetes_mellitus, dtype: int64"
            ]
          },
          "metadata": {
            "tags": []
          },
          "execution_count": 200
        }
      ]
    },
    {
      "cell_type": "markdown",
      "metadata": {
        "id": "-ZE8W6cMWb0Z"
      },
      "source": [
        "##Proportion of Missing Data in df_B by Feature Column and Count of Available data by Feature Column"
      ]
    },
    {
      "cell_type": "code",
      "metadata": {
        "colab": {
          "base_uri": "https://localhost:8080/",
          "height": 419
        },
        "id": "KANJfH4dWVqu",
        "outputId": "0f51d442-defe-4ba6-e9c7-2948a5092d51"
      },
      "source": [
        "missing_data_B= pd.DataFrame(df_B.isna().sum()/df_B['diabetes_mellitus'].count())\n",
        "missing_data_B['Available']= df_B.notna().sum()\n",
        "missing_data_B.sort_values(0,ascending=False)"
      ],
      "execution_count": 201,
      "outputs": [
        {
          "output_type": "execute_result",
          "data": {
            "text/html": [
              "<div>\n",
              "<style scoped>\n",
              "    .dataframe tbody tr th:only-of-type {\n",
              "        vertical-align: middle;\n",
              "    }\n",
              "\n",
              "    .dataframe tbody tr th {\n",
              "        vertical-align: top;\n",
              "    }\n",
              "\n",
              "    .dataframe thead th {\n",
              "        text-align: right;\n",
              "    }\n",
              "</style>\n",
              "<table border=\"1\" class=\"dataframe\">\n",
              "  <thead>\n",
              "    <tr style=\"text-align: right;\">\n",
              "      <th></th>\n",
              "      <th>0</th>\n",
              "      <th>Available</th>\n",
              "    </tr>\n",
              "  </thead>\n",
              "  <tbody>\n",
              "    <tr>\n",
              "      <th>h1_bilirubin_min</th>\n",
              "      <td>0.918173</td>\n",
              "      <td>4607</td>\n",
              "    </tr>\n",
              "    <tr>\n",
              "      <th>h1_bilirubin_max</th>\n",
              "      <td>0.918173</td>\n",
              "      <td>4607</td>\n",
              "    </tr>\n",
              "    <tr>\n",
              "      <th>h1_albumin_max</th>\n",
              "      <td>0.910696</td>\n",
              "      <td>5028</td>\n",
              "    </tr>\n",
              "    <tr>\n",
              "      <th>h1_albumin_min</th>\n",
              "      <td>0.910696</td>\n",
              "      <td>5028</td>\n",
              "    </tr>\n",
              "    <tr>\n",
              "      <th>h1_lactate_min</th>\n",
              "      <td>0.906540</td>\n",
              "      <td>5262</td>\n",
              "    </tr>\n",
              "    <tr>\n",
              "      <th>...</th>\n",
              "      <td>...</td>\n",
              "      <td>...</td>\n",
              "    </tr>\n",
              "    <tr>\n",
              "      <th>icu_stay_type</th>\n",
              "      <td>0.000000</td>\n",
              "      <td>56302</td>\n",
              "    </tr>\n",
              "    <tr>\n",
              "      <th>icu_id</th>\n",
              "      <td>0.000000</td>\n",
              "      <td>56302</td>\n",
              "    </tr>\n",
              "    <tr>\n",
              "      <th>elective_surgery</th>\n",
              "      <td>0.000000</td>\n",
              "      <td>56302</td>\n",
              "    </tr>\n",
              "    <tr>\n",
              "      <th>hospital_id</th>\n",
              "      <td>0.000000</td>\n",
              "      <td>56302</td>\n",
              "    </tr>\n",
              "    <tr>\n",
              "      <th>diabetes_mellitus</th>\n",
              "      <td>0.000000</td>\n",
              "      <td>56302</td>\n",
              "    </tr>\n",
              "  </tbody>\n",
              "</table>\n",
              "<p>181 rows × 2 columns</p>\n",
              "</div>"
            ],
            "text/plain": [
              "                          0  Available\n",
              "h1_bilirubin_min   0.918173       4607\n",
              "h1_bilirubin_max   0.918173       4607\n",
              "h1_albumin_max     0.910696       5028\n",
              "h1_albumin_min     0.910696       5028\n",
              "h1_lactate_min     0.906540       5262\n",
              "...                     ...        ...\n",
              "icu_stay_type      0.000000      56302\n",
              "icu_id             0.000000      56302\n",
              "elective_surgery   0.000000      56302\n",
              "hospital_id        0.000000      56302\n",
              "diabetes_mellitus  0.000000      56302\n",
              "\n",
              "[181 rows x 2 columns]"
            ]
          },
          "metadata": {
            "tags": []
          },
          "execution_count": 201
        }
      ]
    },
    {
      "cell_type": "markdown",
      "metadata": {
        "id": "q1KYbCMPWxmS"
      },
      "source": [
        "##Drop Columns with missing data >=70% from df_B"
      ]
    },
    {
      "cell_type": "code",
      "metadata": {
        "colab": {
          "base_uri": "https://localhost:8080/"
        },
        "id": "979OcQBKWpdP",
        "outputId": "f7f36fcb-41bf-47f0-a588-fb0587c11c2d"
      },
      "source": [
        "col_drop=missing_data_B[missing_data_B[0]>= 0.70].sort_values(by=0, ascending=False)\n",
        "df_B= df_B.drop(list(col_drop.index), axis=1) #[0].sort_values\n",
        "df_B.shape"
      ],
      "execution_count": 202,
      "outputs": [
        {
          "output_type": "execute_result",
          "data": {
            "text/plain": [
              "(56302, 126)"
            ]
          },
          "metadata": {
            "tags": []
          },
          "execution_count": 202
        }
      ]
    },
    {
      "cell_type": "markdown",
      "metadata": {
        "id": "YH2DJ3_jbX7-"
      },
      "source": [
        "##Drop Features Not Associated with Patient Vitals"
      ]
    },
    {
      "cell_type": "code",
      "metadata": {
        "colab": {
          "base_uri": "https://localhost:8080/"
        },
        "id": "v6pr7PVba9P0",
        "outputId": "4deb7586-00d0-49cf-ee20-34379f9dae22"
      },
      "source": [
        "drop_cols2 =['Unnamed: 0',\n",
        " 'encounter_id',\n",
        " 'hospital_id',\n",
        " 'elective_surgery',\n",
        " 'hospital_admit_source',\n",
        " 'icu_admit_source',\n",
        " 'icu_id',\n",
        " 'icu_stay_type',\n",
        " 'icu_type',\n",
        " 'pre_icu_los_days',\n",
        " 'readmission_status',\n",
        " ]\n",
        "\n",
        "df_B2=df_B.drop(drop_cols2, axis=1)\n",
        "df_B2.shape"
      ],
      "execution_count": 203,
      "outputs": [
        {
          "output_type": "execute_result",
          "data": {
            "text/plain": [
              "(56302, 115)"
            ]
          },
          "metadata": {
            "tags": []
          },
          "execution_count": 203
        }
      ]
    },
    {
      "cell_type": "markdown",
      "metadata": {
        "id": "-hUK1GDTdV7W"
      },
      "source": [
        "##Encode Categorical Data in sample_df_B2 (Sample set of df_B)"
      ]
    },
    {
      "cell_type": "code",
      "metadata": {
        "colab": {
          "base_uri": "https://localhost:8080/"
        },
        "id": "TFTYs1oocgQF",
        "outputId": "ef091921-e5cf-44a4-caf1-5e9d2d51325b"
      },
      "source": [
        "df_B2.select_dtypes(include=['object']).columns"
      ],
      "execution_count": 204,
      "outputs": [
        {
          "output_type": "execute_result",
          "data": {
            "text/plain": [
              "Index(['ethnicity', 'gender'], dtype='object')"
            ]
          },
          "metadata": {
            "tags": []
          },
          "execution_count": 204
        }
      ]
    },
    {
      "cell_type": "code",
      "metadata": {
        "colab": {
          "base_uri": "https://localhost:8080/"
        },
        "id": "nisLnoJqdo3H",
        "outputId": "6f37d4ca-602c-4d41-acdd-dc5a7ed999f8"
      },
      "source": [
        "\n",
        "df_B3=df_B2.drop(['gender','ethnicity'], axis=1)\n",
        "df_B3.shape"
      ],
      "execution_count": 205,
      "outputs": [
        {
          "output_type": "execute_result",
          "data": {
            "text/plain": [
              "(56302, 113)"
            ]
          },
          "metadata": {
            "tags": []
          },
          "execution_count": 205
        }
      ]
    },
    {
      "cell_type": "markdown",
      "metadata": {
        "id": "pT2ybWdDgzoj"
      },
      "source": [
        "##Set Features and Target (sample of df_B) & Training, Test Split"
      ]
    },
    {
      "cell_type": "code",
      "metadata": {
        "id": "Y9BYidCOe7ES"
      },
      "source": [
        "y_b=df_B3['diabetes_mellitus']\n",
        "X_b=df_B3.drop(['diabetes_mellitus'], axis=1)\n",
        "\n",
        "X_b_train, X_b_test, y_b_train,y_b_test =train_test_split(X_b,y_b, random_state=40)"
      ],
      "execution_count": 206,
      "outputs": []
    },
    {
      "cell_type": "code",
      "metadata": {
        "colab": {
          "base_uri": "https://localhost:8080/"
        },
        "id": "z7Q-WgP0RUmZ",
        "outputId": "231f18df-d913-4ece-8f38-e560123c0859"
      },
      "source": [
        "y_b_train.shape, X_b_train.shape"
      ],
      "execution_count": 207,
      "outputs": [
        {
          "output_type": "execute_result",
          "data": {
            "text/plain": [
              "((42226,), (42226, 112))"
            ]
          },
          "metadata": {
            "tags": []
          },
          "execution_count": 207
        }
      ]
    },
    {
      "cell_type": "code",
      "metadata": {
        "colab": {
          "base_uri": "https://localhost:8080/"
        },
        "id": "IVx5fpXnR-N1",
        "outputId": "5c4c9b53-b916-40bc-deec-a5be735799df"
      },
      "source": [
        "y_b_test.shape, X_b_test.shape"
      ],
      "execution_count": 208,
      "outputs": [
        {
          "output_type": "execute_result",
          "data": {
            "text/plain": [
              "((14076,), (14076, 112))"
            ]
          },
          "metadata": {
            "tags": []
          },
          "execution_count": 208
        }
      ]
    },
    {
      "cell_type": "markdown",
      "metadata": {
        "id": "e_ck_WlLYkJV"
      },
      "source": [
        "##Create Training and Predictive Models For df_B (Sample set of 56,302)"
      ]
    },
    {
      "cell_type": "code",
      "metadata": {
        "id": "Qs-lqYGRzLvX"
      },
      "source": [
        "model_1_B= XGBClassifier(booster='dart', max_depth=3, n_estimators=300, n_jobs=2, random_state=40, importance_type=\"weight\") #used to manage datasets with missing values"
      ],
      "execution_count": 209,
      "outputs": []
    },
    {
      "cell_type": "markdown",
      "metadata": {
        "id": "WVTtwlMaZFiA"
      },
      "source": [
        "## XGBClassifier Model 1 - df_B"
      ]
    },
    {
      "cell_type": "code",
      "metadata": {
        "colab": {
          "base_uri": "https://localhost:8080/"
        },
        "id": "v9YWxWVAX0MB",
        "outputId": "8ffdcc5f-4e59-4ce7-92b9-8064b9c4f233"
      },
      "source": [
        "model_1_B.fit(X_b_train,y_b_train)"
      ],
      "execution_count": 210,
      "outputs": [
        {
          "output_type": "execute_result",
          "data": {
            "text/plain": [
              "XGBClassifier(base_score=0.5, booster='dart', colsample_bylevel=1,\n",
              "              colsample_bynode=1, colsample_bytree=1, gamma=0,\n",
              "              learning_rate=0.1, max_delta_step=0, max_depth=3,\n",
              "              min_child_weight=1, missing=None, n_estimators=300, n_jobs=2,\n",
              "              nthread=None, objective='binary:logistic', random_state=40,\n",
              "              reg_alpha=0, reg_lambda=1, scale_pos_weight=1, seed=None,\n",
              "              silent=None, subsample=1, verbosity=1)"
            ]
          },
          "metadata": {
            "tags": []
          },
          "execution_count": 210
        }
      ]
    },
    {
      "cell_type": "code",
      "metadata": {
        "colab": {
          "base_uri": "https://localhost:8080/"
        },
        "id": "AbTw96_TY16A",
        "outputId": "98b487d8-283b-47d8-c08f-9774be0b179c"
      },
      "source": [
        "\n",
        "model_1_B.score(X_b_test,y_b_test)"
      ],
      "execution_count": 211,
      "outputs": [
        {
          "output_type": "execute_result",
          "data": {
            "text/plain": [
              "0.7747229326513214"
            ]
          },
          "metadata": {
            "tags": []
          },
          "execution_count": 211
        }
      ]
    },
    {
      "cell_type": "code",
      "metadata": {
        "colab": {
          "base_uri": "https://localhost:8080/",
          "height": 279
        },
        "id": "vcurGGPrZA5t",
        "outputId": "3b148074-7bdf-4ece-d7f3-e88f5a146d99"
      },
      "source": [
        "from sklearn.metrics import plot_confusion_matrix\n",
        "\n",
        "plot_confusion_matrix(model_1_B, X_b_test, y_b_test)  \n",
        "plt.show()"
      ],
      "execution_count": 257,
      "outputs": [
        {
          "output_type": "display_data",
          "data": {
            "image/png": "[encoded data removed]",
            "text/plain": [
              "<Figure size 432x288 with 2 Axes>"
            ]
          },
          "metadata": {
            "tags": [],
            "needs_background": "light"
          }
        }
      ]
    },
    {
      "cell_type": "code",
      "metadata": {
        "colab": {
          "base_uri": "https://localhost:8080/",
          "height": 295
        },
        "id": "Q___NoqDI4_4",
        "outputId": "d057380d-e567-4bf0-b81a-1fd8f14ff9ac"
      },
      "source": [
        "from xgboost import plot_importance\n",
        "plot_importance(model_1_B)\n",
        "plt.show()"
      ],
      "execution_count": 212,
      "outputs": [
        {
          "output_type": "display_data",
          "data": {
            "image/png": "[encoded data removed]",
            "text/plain": [
              "<Figure size 432x288 with 1 Axes>"
            ]
          },
          "metadata": {
            "tags": [],
            "needs_background": "light"
          }
        }
      ]
    },
    {
      "cell_type": "markdown",
      "metadata": {
        "id": "f9tMb3Pj7S-k"
      },
      "source": [
        "##Predictions based on model_B XGBClassifier"
      ]
    },
    {
      "cell_type": "code",
      "metadata": {
        "id": "14FI_82bd6Dx"
      },
      "source": [
        "test_df_B=pd.read_csv('train/UnlabeledWiDS2021.csv')"
      ],
      "execution_count": 213,
      "outputs": []
    },
    {
      "cell_type": "code",
      "metadata": {
        "id": "cNlvJVGMtLqt"
      },
      "source": [
        "test_col_B=list(X_b.columns)\n"
      ],
      "execution_count": 214,
      "outputs": []
    },
    {
      "cell_type": "code",
      "metadata": {
        "id": "3H9QS0HPoYud",
        "colab": {
          "base_uri": "https://localhost:8080/",
          "height": 0
        },
        "outputId": "494ad75e-a536-40e1-e5af-1269b0322cc9"
      },
      "source": [
        "test_df_B['diabetes_mellitus']=model_1_B.predict_proba(test_df_B[test_col_B])[:,1]\n",
        "submit_B = test_df_B[['encounter_id','diabetes_mellitus']]\n",
        "submit_B"
      ],
      "execution_count": 215,
      "outputs": [
        {
          "output_type": "execute_result",
          "data": {
            "text/html": [
              "<div>\n",
              "<style scoped>\n",
              "    .dataframe tbody tr th:only-of-type {\n",
              "        vertical-align: middle;\n",
              "    }\n",
              "\n",
              "    .dataframe tbody tr th {\n",
              "        vertical-align: top;\n",
              "    }\n",
              "\n",
              "    .dataframe thead th {\n",
              "        text-align: right;\n",
              "    }\n",
              "</style>\n",
              "<table border=\"1\" class=\"dataframe\">\n",
              "  <thead>\n",
              "    <tr style=\"text-align: right;\">\n",
              "      <th></th>\n",
              "      <th>encounter_id</th>\n",
              "      <th>diabetes_mellitus</th>\n",
              "    </tr>\n",
              "  </thead>\n",
              "  <tbody>\n",
              "    <tr>\n",
              "      <th>0</th>\n",
              "      <td>144740</td>\n",
              "      <td>0.161971</td>\n",
              "    </tr>\n",
              "    <tr>\n",
              "      <th>1</th>\n",
              "      <td>141990</td>\n",
              "      <td>0.431168</td>\n",
              "    </tr>\n",
              "    <tr>\n",
              "      <th>2</th>\n",
              "      <td>142038</td>\n",
              "      <td>0.420837</td>\n",
              "    </tr>\n",
              "    <tr>\n",
              "      <th>3</th>\n",
              "      <td>138628</td>\n",
              "      <td>0.177768</td>\n",
              "    </tr>\n",
              "    <tr>\n",
              "      <th>4</th>\n",
              "      <td>141682</td>\n",
              "      <td>0.579420</td>\n",
              "    </tr>\n",
              "    <tr>\n",
              "      <th>...</th>\n",
              "      <td>...</td>\n",
              "      <td>...</td>\n",
              "    </tr>\n",
              "    <tr>\n",
              "      <th>10229</th>\n",
              "      <td>143750</td>\n",
              "      <td>0.169106</td>\n",
              "    </tr>\n",
              "    <tr>\n",
              "      <th>10230</th>\n",
              "      <td>143813</td>\n",
              "      <td>0.325099</td>\n",
              "    </tr>\n",
              "    <tr>\n",
              "      <th>10231</th>\n",
              "      <td>137126</td>\n",
              "      <td>0.387309</td>\n",
              "    </tr>\n",
              "    <tr>\n",
              "      <th>10232</th>\n",
              "      <td>135652</td>\n",
              "      <td>0.058531</td>\n",
              "    </tr>\n",
              "    <tr>\n",
              "      <th>10233</th>\n",
              "      <td>136852</td>\n",
              "      <td>0.062369</td>\n",
              "    </tr>\n",
              "  </tbody>\n",
              "</table>\n",
              "<p>10234 rows × 2 columns</p>\n",
              "</div>"
            ],
            "text/plain": [
              "       encounter_id  diabetes_mellitus\n",
              "0            144740           0.161971\n",
              "1            141990           0.431168\n",
              "2            142038           0.420837\n",
              "3            138628           0.177768\n",
              "4            141682           0.579420\n",
              "...             ...                ...\n",
              "10229        143750           0.169106\n",
              "10230        143813           0.325099\n",
              "10231        137126           0.387309\n",
              "10232        135652           0.058531\n",
              "10233        136852           0.062369\n",
              "\n",
              "[10234 rows x 2 columns]"
            ]
          },
          "metadata": {
            "tags": []
          },
          "execution_count": 215
        }
      ]
    },
    {
      "cell_type": "code",
      "metadata": {
        "id": "mMpLg2tnvGxu",
        "colab": {
          "base_uri": "https://localhost:8080/"
        },
        "outputId": "d848c213-6690-470d-da0c-0ad343b76c89"
      },
      "source": [
        "test_df_B['diabetes_mellitus'].sum()"
      ],
      "execution_count": 216,
      "outputs": [
        {
          "output_type": "execute_result",
          "data": {
            "text/plain": [
              "3997.5369"
            ]
          },
          "metadata": {
            "tags": []
          },
          "execution_count": 216
        }
      ]
    },
    {
      "cell_type": "code",
      "metadata": {
        "id": "C7cPobMAxWUB"
      },
      "source": [
        "submit_B.to_csv('Boost_Class_B.csv',index=False)"
      ],
      "execution_count": 217,
      "outputs": []
    },
    {
      "cell_type": "markdown",
      "metadata": {
        "id": "WbDszzJ97P14"
      },
      "source": [
        "#Alternative Model - Model_A\n",
        "##Kaggle Accuracy Score= 0.82124\n",
        "###Reduce data Set to 50,000 record sample of orginal training dataset (Cleaned Based on EDA comments -df_A)"
      ]
    },
    {
      "cell_type": "markdown",
      "metadata": {
        "id": "EpUNQJElWTl8"
      },
      "source": [
        "Sample to balance ethnicity and use replace to fill rows"
      ]
    },
    {
      "cell_type": "code",
      "metadata": {
        "colab": {
          "base_uri": "https://localhost:8080/"
        },
        "id": "KeZGQrO1T7he",
        "outputId": "6d968c3e-3ea8-4cdb-f76c-b5ead38c9c47"
      },
      "source": [
        "df.ethnicity.value_counts()"
      ],
      "execution_count": 218,
      "outputs": [
        {
          "output_type": "execute_result",
          "data": {
            "text/plain": [
              "Caucasian           100236\n",
              "African American     13911\n",
              "Other/Unknown         6261\n",
              "Hispanic              5049\n",
              "Asian                 2198\n",
              "Native American        915\n",
              "Name: ethnicity, dtype: int64"
            ]
          },
          "metadata": {
            "tags": []
          },
          "execution_count": 218
        }
      ]
    },
    {
      "cell_type": "code",
      "metadata": {
        "id": "icqYvtGS6ySj"
      },
      "source": [
        "df_A=df.groupby('ethnicity', group_keys=False).apply(lambda x: x.sample(1000, replace=True))"
      ],
      "execution_count": 219,
      "outputs": []
    },
    {
      "cell_type": "code",
      "metadata": {
        "colab": {
          "base_uri": "https://localhost:8080/"
        },
        "id": "rSVjaTWSXgUv",
        "outputId": "5632c4d6-0243-4657-dcb5-0fd1352b9609"
      },
      "source": [
        "df_A.ethnicity.value_counts()"
      ],
      "execution_count": 220,
      "outputs": [
        {
          "output_type": "execute_result",
          "data": {
            "text/plain": [
              "Caucasian           1000\n",
              "Native American     1000\n",
              "Other/Unknown       1000\n",
              "Asian               1000\n",
              "Hispanic            1000\n",
              "African American    1000\n",
              "Name: ethnicity, dtype: int64"
            ]
          },
          "metadata": {
            "tags": []
          },
          "execution_count": 220
        }
      ]
    },
    {
      "cell_type": "markdown",
      "metadata": {
        "id": "TK027ipbWloF"
      },
      "source": [
        "Sample of sample to balance target variable values"
      ]
    },
    {
      "cell_type": "code",
      "metadata": {
        "colab": {
          "base_uri": "https://localhost:8080/"
        },
        "id": "4crR7YvaVWSm",
        "outputId": "c886d4d3-cfc2-40a0-8934-1934e4776fe8"
      },
      "source": [
        "df_A['diabetes_mellitus'].value_counts()"
      ],
      "execution_count": 221,
      "outputs": [
        {
          "output_type": "execute_result",
          "data": {
            "text/plain": [
              "0    4455\n",
              "1    1545\n",
              "Name: diabetes_mellitus, dtype: int64"
            ]
          },
          "metadata": {
            "tags": []
          },
          "execution_count": 221
        }
      ]
    },
    {
      "cell_type": "code",
      "metadata": {
        "id": "3i2YIQjjdcRJ"
      },
      "source": [
        "df_A=df.groupby('diabetes_mellitus', group_keys=False).apply(lambda x: x.sample(2000, replace=True, random_state=40))"
      ],
      "execution_count": 222,
      "outputs": []
    },
    {
      "cell_type": "code",
      "metadata": {
        "colab": {
          "base_uri": "https://localhost:8080/"
        },
        "id": "L6ch1xondpo0",
        "outputId": "08585d01-ff7a-4f1e-99cd-9b7e175cdc4d"
      },
      "source": [
        "df_A['diabetes_mellitus'].value_counts()"
      ],
      "execution_count": 223,
      "outputs": [
        {
          "output_type": "execute_result",
          "data": {
            "text/plain": [
              "1    2000\n",
              "0    2000\n",
              "Name: diabetes_mellitus, dtype: int64"
            ]
          },
          "metadata": {
            "tags": []
          },
          "execution_count": 223
        }
      ]
    },
    {
      "cell_type": "markdown",
      "metadata": {
        "id": "71QZCFXleZqd"
      },
      "source": [
        "## Initial Categories to Drop Based on Being Patient Vitals Agnostic"
      ]
    },
    {
      "cell_type": "code",
      "metadata": {
        "id": "PtiLq_GIegnm"
      },
      "source": [
        "drop_cat=['Unnamed: 0'\t,'encounter_id','hospital_id','elective_surgery','icu_id',\t'pre_icu_los_days',\t'readmission_status',\\\n",
        "          'hospital_admit_source',\t'icu_admit_source',\t'icu_stay_type',\t'icu_type']\n",
        "\n",
        "df_A=df_A.drop(drop_cat, axis=1)"
      ],
      "execution_count": 224,
      "outputs": []
    },
    {
      "cell_type": "code",
      "metadata": {
        "colab": {
          "base_uri": "https://localhost:8080/"
        },
        "id": "s_IENJUWfU1o",
        "outputId": "6acdc541-b531-4a4b-e66a-2c7e10d4bb84"
      },
      "source": [
        "df_A.shape"
      ],
      "execution_count": 225,
      "outputs": [
        {
          "output_type": "execute_result",
          "data": {
            "text/plain": [
              "(4000, 170)"
            ]
          },
          "metadata": {
            "tags": []
          },
          "execution_count": 225
        }
      ]
    },
    {
      "cell_type": "markdown",
      "metadata": {
        "id": "WOBs7-uF_fKd"
      },
      "source": [
        "##Calculate BMI and replace 'height' and 'weight' columns"
      ]
    },
    {
      "cell_type": "code",
      "metadata": {
        "id": "D-01ugIYFUEm"
      },
      "source": [
        "df_A['bmi']= df_A['weight']/((df_A['height']/100)**2)"
      ],
      "execution_count": 226,
      "outputs": []
    },
    {
      "cell_type": "code",
      "metadata": {
        "id": "sdMeNkYuF42a"
      },
      "source": [
        "df_A_2=df_A.drop(['height', 'weight', 'gender','ethnicity'], axis = 1)"
      ],
      "execution_count": 227,
      "outputs": []
    },
    {
      "cell_type": "markdown",
      "metadata": {
        "id": "Yhhkuf0PYmrO"
      },
      "source": [
        "##Proportion of Missing Data in df_A by Feature Column and Count of Available data by Feature Column"
      ]
    },
    {
      "cell_type": "code",
      "metadata": {
        "colab": {
          "base_uri": "https://localhost:8080/",
          "height": 0
        },
        "id": "bbkQaqutcftL",
        "outputId": "a7db1023-119f-42ae-d706-220a51069d72"
      },
      "source": [
        "missing_data= pd.DataFrame(df_A_2.isna().sum()/df_A_2['diabetes_mellitus'].count())\n",
        "missing_data['Available']= df_A_2.notna().sum()\n",
        "missing_data.sort_values(0,ascending=False)"
      ],
      "execution_count": 228,
      "outputs": [
        {
          "output_type": "execute_result",
          "data": {
            "text/html": [
              "<div>\n",
              "<style scoped>\n",
              "    .dataframe tbody tr th:only-of-type {\n",
              "        vertical-align: middle;\n",
              "    }\n",
              "\n",
              "    .dataframe tbody tr th {\n",
              "        vertical-align: top;\n",
              "    }\n",
              "\n",
              "    .dataframe thead th {\n",
              "        text-align: right;\n",
              "    }\n",
              "</style>\n",
              "<table border=\"1\" class=\"dataframe\">\n",
              "  <thead>\n",
              "    <tr style=\"text-align: right;\">\n",
              "      <th></th>\n",
              "      <th>0</th>\n",
              "      <th>Available</th>\n",
              "    </tr>\n",
              "  </thead>\n",
              "  <tbody>\n",
              "    <tr>\n",
              "      <th>h1_bilirubin_max</th>\n",
              "      <td>0.92225</td>\n",
              "      <td>311</td>\n",
              "    </tr>\n",
              "    <tr>\n",
              "      <th>h1_bilirubin_min</th>\n",
              "      <td>0.92225</td>\n",
              "      <td>311</td>\n",
              "    </tr>\n",
              "    <tr>\n",
              "      <th>h1_albumin_min</th>\n",
              "      <td>0.91375</td>\n",
              "      <td>345</td>\n",
              "    </tr>\n",
              "    <tr>\n",
              "      <th>h1_albumin_max</th>\n",
              "      <td>0.91375</td>\n",
              "      <td>345</td>\n",
              "    </tr>\n",
              "    <tr>\n",
              "      <th>h1_lactate_min</th>\n",
              "      <td>0.91100</td>\n",
              "      <td>356</td>\n",
              "    </tr>\n",
              "    <tr>\n",
              "      <th>...</th>\n",
              "      <td>...</td>\n",
              "      <td>...</td>\n",
              "    </tr>\n",
              "    <tr>\n",
              "      <th>d1_sysbp_min</th>\n",
              "      <td>0.00000</td>\n",
              "      <td>4000</td>\n",
              "    </tr>\n",
              "    <tr>\n",
              "      <th>intubated_apache</th>\n",
              "      <td>0.00000</td>\n",
              "      <td>4000</td>\n",
              "    </tr>\n",
              "    <tr>\n",
              "      <th>apache_post_operative</th>\n",
              "      <td>0.00000</td>\n",
              "      <td>4000</td>\n",
              "    </tr>\n",
              "    <tr>\n",
              "      <th>arf_apache</th>\n",
              "      <td>0.00000</td>\n",
              "      <td>4000</td>\n",
              "    </tr>\n",
              "    <tr>\n",
              "      <th>diabetes_mellitus</th>\n",
              "      <td>0.00000</td>\n",
              "      <td>4000</td>\n",
              "    </tr>\n",
              "  </tbody>\n",
              "</table>\n",
              "<p>166 rows × 2 columns</p>\n",
              "</div>"
            ],
            "text/plain": [
              "                             0  Available\n",
              "h1_bilirubin_max       0.92225        311\n",
              "h1_bilirubin_min       0.92225        311\n",
              "h1_albumin_min         0.91375        345\n",
              "h1_albumin_max         0.91375        345\n",
              "h1_lactate_min         0.91100        356\n",
              "...                        ...        ...\n",
              "d1_sysbp_min           0.00000       4000\n",
              "intubated_apache       0.00000       4000\n",
              "apache_post_operative  0.00000       4000\n",
              "arf_apache             0.00000       4000\n",
              "diabetes_mellitus      0.00000       4000\n",
              "\n",
              "[166 rows x 2 columns]"
            ]
          },
          "metadata": {
            "tags": []
          },
          "execution_count": 228
        }
      ]
    },
    {
      "cell_type": "markdown",
      "metadata": {
        "id": "4gmp2NY2Ifmr"
      },
      "source": [
        "## Drop Features where total available data is less than 20% of data set"
      ]
    },
    {
      "cell_type": "code",
      "metadata": {
        "id": "hIK8YxbcGZGE"
      },
      "source": [
        "features_under_20per =[]\n",
        "\n",
        "for col in list(df_A_2.columns):\n",
        "  if df_A_2[col].count()/df_A_2.count()[-1]< .2:\n",
        "    features_under_20per.append(col)"
      ],
      "execution_count": 229,
      "outputs": []
    },
    {
      "cell_type": "code",
      "metadata": {
        "id": "5P8rJVsaIIiS"
      },
      "source": [
        "df_A_3 = df_A_2.drop(features_under_20per, axis=1)"
      ],
      "execution_count": 230,
      "outputs": []
    },
    {
      "cell_type": "code",
      "metadata": {
        "colab": {
          "base_uri": "https://localhost:8080/"
        },
        "id": "ly-QdvAUeBFu",
        "outputId": "f82e9c12-2fe6-4b7a-e470-a3e5010baf19"
      },
      "source": [
        "df_A_3.shape"
      ],
      "execution_count": 231,
      "outputs": [
        {
          "output_type": "execute_result",
          "data": {
            "text/plain": [
              "(4000, 144)"
            ]
          },
          "metadata": {
            "tags": []
          },
          "execution_count": 231
        }
      ]
    },
    {
      "cell_type": "markdown",
      "metadata": {
        "id": "eTeMBtPi7iTj"
      },
      "source": [
        "##Set Features and Target (df_A) and Train_Test_split"
      ]
    },
    {
      "cell_type": "code",
      "metadata": {
        "id": "ymK6URZV7Jya"
      },
      "source": [
        "y_a=df_A_3['diabetes_mellitus']\n",
        "X_a=df_A_3.drop(['diabetes_mellitus'], axis=1)\n",
        "\n",
        "X_a_train, X_a_test,y_a_train, y_a_test =train_test_split(X_a,y_a, random_state=40)"
      ],
      "execution_count": 232,
      "outputs": []
    },
    {
      "cell_type": "code",
      "metadata": {
        "colab": {
          "base_uri": "https://localhost:8080/"
        },
        "id": "NsNZhFlrRJ9a",
        "outputId": "84f8e37a-13d4-408b-878c-d44c515bec11"
      },
      "source": [
        "y_a.shape, X_a.shape"
      ],
      "execution_count": 233,
      "outputs": [
        {
          "output_type": "execute_result",
          "data": {
            "text/plain": [
              "((4000,), (4000, 143))"
            ]
          },
          "metadata": {
            "tags": []
          },
          "execution_count": 233
        }
      ]
    },
    {
      "cell_type": "code",
      "metadata": {
        "colab": {
          "base_uri": "https://localhost:8080/"
        },
        "id": "ciL1yg1fSTF5",
        "outputId": "36759709-79b6-4830-9299-91ace6cb77ec"
      },
      "source": [
        "y_a_train.shape, X_a_train.shape"
      ],
      "execution_count": 234,
      "outputs": [
        {
          "output_type": "execute_result",
          "data": {
            "text/plain": [
              "((3000,), (3000, 143))"
            ]
          },
          "metadata": {
            "tags": []
          },
          "execution_count": 234
        }
      ]
    },
    {
      "cell_type": "markdown",
      "metadata": {
        "id": "_fmlxLLUkXx8"
      },
      "source": [
        "##Create Training and Predictive Models For df_A (Sample set of 50,000)"
      ]
    },
    {
      "cell_type": "code",
      "metadata": {
        "id": "bz8DChb0kC6A"
      },
      "source": [
        "model_1_A= XGBClassifier(booster='dart', max_depth=3, n_estimators=300, n_jobs=3, random_state=40) #used to manage datasets with missing values"
      ],
      "execution_count": 235,
      "outputs": []
    },
    {
      "cell_type": "markdown",
      "metadata": {
        "id": "FUNT_BJrX7Td"
      },
      "source": [
        "## XGBClassifier Model 1 - df_A"
      ]
    },
    {
      "cell_type": "code",
      "metadata": {
        "colab": {
          "base_uri": "https://localhost:8080/"
        },
        "id": "D2yjS-97QFsL",
        "outputId": "b0da4c44-5076-42ae-9371-6639e07ad4f5"
      },
      "source": [
        "model_1_A.fit(X_a_train,y_a_train)\n"
      ],
      "execution_count": 236,
      "outputs": [
        {
          "output_type": "execute_result",
          "data": {
            "text/plain": [
              "XGBClassifier(base_score=0.5, booster='dart', colsample_bylevel=1,\n",
              "              colsample_bynode=1, colsample_bytree=1, gamma=0,\n",
              "              learning_rate=0.1, max_delta_step=0, max_depth=3,\n",
              "              min_child_weight=1, missing=None, n_estimators=300, n_jobs=3,\n",
              "              nthread=None, objective='binary:logistic', random_state=40,\n",
              "              reg_alpha=0, reg_lambda=1, scale_pos_weight=1, seed=None,\n",
              "              silent=None, subsample=1, verbosity=1)"
            ]
          },
          "metadata": {
            "tags": []
          },
          "execution_count": 236
        }
      ]
    },
    {
      "cell_type": "code",
      "metadata": {
        "colab": {
          "base_uri": "https://localhost:8080/"
        },
        "id": "MPfWJ0YRQ6c6",
        "outputId": "edcefd24-f337-4feb-fa30-ce9366df7c9b"
      },
      "source": [
        "model_1_A.score(X_a_test,y_a_test)"
      ],
      "execution_count": 237,
      "outputs": [
        {
          "output_type": "execute_result",
          "data": {
            "text/plain": [
              "0.736"
            ]
          },
          "metadata": {
            "tags": []
          },
          "execution_count": 237
        }
      ]
    },
    {
      "cell_type": "code",
      "metadata": {
        "colab": {
          "base_uri": "https://localhost:8080/",
          "height": 279
        },
        "id": "aCuaBZGhZzjs",
        "outputId": "0bfb0beb-0cf2-4aa4-892b-08525b57dbbb"
      },
      "source": [
        "plot_confusion_matrix(model_1_A, X_a_test, y_a_test)  \n",
        "plt.show()"
      ],
      "execution_count": 258,
      "outputs": [
        {
          "output_type": "display_data",
          "data": {
            "image/png": "[encoded data removed]",
            "text/plain": [
              "<Figure size 432x288 with 2 Axes>"
            ]
          },
          "metadata": {
            "tags": [],
            "needs_background": "light"
          }
        }
      ]
    },
    {
      "cell_type": "code",
      "metadata": {
        "colab": {
          "base_uri": "https://localhost:8080/",
          "height": 295
        },
        "id": "H2b4oDorTny4",
        "outputId": "8666e35e-648f-4dbc-b3f0-552c0fdb9ea4"
      },
      "source": [
        "plot_importance(model_1_A)\n",
        "plt.show()"
      ],
      "execution_count": 238,
      "outputs": [
        {
          "output_type": "display_data",
          "data": {
            "image/png": "[encoded data removed]",
            "text/plain": [
              "<Figure size 432x288 with 1 Axes>"
            ]
          },
          "metadata": {
            "tags": [],
            "needs_background": "light"
          }
        }
      ]
    },
    {
      "cell_type": "markdown",
      "metadata": {
        "id": "ubCbD15mr6ym"
      },
      "source": [
        "##Predictions based on model_A XGBClassifier"
      ]
    },
    {
      "cell_type": "code",
      "metadata": {
        "id": "QKm4lBdlkO4g"
      },
      "source": [
        "test_df_A=pd.read_csv('train/UnlabeledWiDS2021.csv')"
      ],
      "execution_count": 239,
      "outputs": []
    },
    {
      "cell_type": "code",
      "metadata": {
        "id": "uiNRl46Ul02k"
      },
      "source": [
        "test_col_A=list(X_a.columns)"
      ],
      "execution_count": 240,
      "outputs": []
    },
    {
      "cell_type": "code",
      "metadata": {
        "colab": {
          "base_uri": "https://localhost:8080/",
          "height": 0
        },
        "id": "EaCXIcMK381A",
        "outputId": "e74df7f2-38df-49d5-bf8c-930650d18c3e"
      },
      "source": [
        "test_df_A['diabetes_mellitus']=model_1_A.predict_proba(test_df_A[test_col_A]) [:,1]\n",
        "submit_A = test_df_A[['encounter_id','diabetes_mellitus']]\n",
        "submit_A"
      ],
      "execution_count": 241,
      "outputs": [
        {
          "output_type": "execute_result",
          "data": {
            "text/html": [
              "<div>\n",
              "<style scoped>\n",
              "    .dataframe tbody tr th:only-of-type {\n",
              "        vertical-align: middle;\n",
              "    }\n",
              "\n",
              "    .dataframe tbody tr th {\n",
              "        vertical-align: top;\n",
              "    }\n",
              "\n",
              "    .dataframe thead th {\n",
              "        text-align: right;\n",
              "    }\n",
              "</style>\n",
              "<table border=\"1\" class=\"dataframe\">\n",
              "  <thead>\n",
              "    <tr style=\"text-align: right;\">\n",
              "      <th></th>\n",
              "      <th>encounter_id</th>\n",
              "      <th>diabetes_mellitus</th>\n",
              "    </tr>\n",
              "  </thead>\n",
              "  <tbody>\n",
              "    <tr>\n",
              "      <th>0</th>\n",
              "      <td>144740</td>\n",
              "      <td>0.319310</td>\n",
              "    </tr>\n",
              "    <tr>\n",
              "      <th>1</th>\n",
              "      <td>141990</td>\n",
              "      <td>0.342009</td>\n",
              "    </tr>\n",
              "    <tr>\n",
              "      <th>2</th>\n",
              "      <td>142038</td>\n",
              "      <td>0.391538</td>\n",
              "    </tr>\n",
              "    <tr>\n",
              "      <th>3</th>\n",
              "      <td>138628</td>\n",
              "      <td>0.105751</td>\n",
              "    </tr>\n",
              "    <tr>\n",
              "      <th>4</th>\n",
              "      <td>141682</td>\n",
              "      <td>0.870084</td>\n",
              "    </tr>\n",
              "    <tr>\n",
              "      <th>...</th>\n",
              "      <td>...</td>\n",
              "      <td>...</td>\n",
              "    </tr>\n",
              "    <tr>\n",
              "      <th>10229</th>\n",
              "      <td>143750</td>\n",
              "      <td>0.167511</td>\n",
              "    </tr>\n",
              "    <tr>\n",
              "      <th>10230</th>\n",
              "      <td>143813</td>\n",
              "      <td>0.341109</td>\n",
              "    </tr>\n",
              "    <tr>\n",
              "      <th>10231</th>\n",
              "      <td>137126</td>\n",
              "      <td>0.649254</td>\n",
              "    </tr>\n",
              "    <tr>\n",
              "      <th>10232</th>\n",
              "      <td>135652</td>\n",
              "      <td>0.023002</td>\n",
              "    </tr>\n",
              "    <tr>\n",
              "      <th>10233</th>\n",
              "      <td>136852</td>\n",
              "      <td>0.033810</td>\n",
              "    </tr>\n",
              "  </tbody>\n",
              "</table>\n",
              "<p>10234 rows × 2 columns</p>\n",
              "</div>"
            ],
            "text/plain": [
              "       encounter_id  diabetes_mellitus\n",
              "0            144740           0.319310\n",
              "1            141990           0.342009\n",
              "2            142038           0.391538\n",
              "3            138628           0.105751\n",
              "4            141682           0.870084\n",
              "...             ...                ...\n",
              "10229        143750           0.167511\n",
              "10230        143813           0.341109\n",
              "10231        137126           0.649254\n",
              "10232        135652           0.023002\n",
              "10233        136852           0.033810\n",
              "\n",
              "[10234 rows x 2 columns]"
            ]
          },
          "metadata": {
            "tags": []
          },
          "execution_count": 241
        }
      ]
    },
    {
      "cell_type": "code",
      "metadata": {
        "colab": {
          "base_uri": "https://localhost:8080/",
          "height": 0
        },
        "id": "5GLM-K8e47Lj",
        "outputId": "0ca7673b-058e-4a19-c916-bc4737e35c73"
      },
      "source": [
        "test_df_A['diabetes_mellitus01']=model_1_A.predict(test_df_A[test_col_A])\n",
        "submit_0 = test_df_A[['encounter_id','diabetes_mellitus','diabetes_mellitus01']]\n",
        "submit_0"
      ],
      "execution_count": 242,
      "outputs": [
        {
          "output_type": "execute_result",
          "data": {
            "text/html": [
              "<div>\n",
              "<style scoped>\n",
              "    .dataframe tbody tr th:only-of-type {\n",
              "        vertical-align: middle;\n",
              "    }\n",
              "\n",
              "    .dataframe tbody tr th {\n",
              "        vertical-align: top;\n",
              "    }\n",
              "\n",
              "    .dataframe thead th {\n",
              "        text-align: right;\n",
              "    }\n",
              "</style>\n",
              "<table border=\"1\" class=\"dataframe\">\n",
              "  <thead>\n",
              "    <tr style=\"text-align: right;\">\n",
              "      <th></th>\n",
              "      <th>encounter_id</th>\n",
              "      <th>diabetes_mellitus</th>\n",
              "      <th>diabetes_mellitus01</th>\n",
              "    </tr>\n",
              "  </thead>\n",
              "  <tbody>\n",
              "    <tr>\n",
              "      <th>0</th>\n",
              "      <td>144740</td>\n",
              "      <td>0.319310</td>\n",
              "      <td>0</td>\n",
              "    </tr>\n",
              "    <tr>\n",
              "      <th>1</th>\n",
              "      <td>141990</td>\n",
              "      <td>0.342009</td>\n",
              "      <td>0</td>\n",
              "    </tr>\n",
              "    <tr>\n",
              "      <th>2</th>\n",
              "      <td>142038</td>\n",
              "      <td>0.391538</td>\n",
              "      <td>0</td>\n",
              "    </tr>\n",
              "    <tr>\n",
              "      <th>3</th>\n",
              "      <td>138628</td>\n",
              "      <td>0.105751</td>\n",
              "      <td>0</td>\n",
              "    </tr>\n",
              "    <tr>\n",
              "      <th>4</th>\n",
              "      <td>141682</td>\n",
              "      <td>0.870084</td>\n",
              "      <td>1</td>\n",
              "    </tr>\n",
              "    <tr>\n",
              "      <th>...</th>\n",
              "      <td>...</td>\n",
              "      <td>...</td>\n",
              "      <td>...</td>\n",
              "    </tr>\n",
              "    <tr>\n",
              "      <th>10229</th>\n",
              "      <td>143750</td>\n",
              "      <td>0.167511</td>\n",
              "      <td>0</td>\n",
              "    </tr>\n",
              "    <tr>\n",
              "      <th>10230</th>\n",
              "      <td>143813</td>\n",
              "      <td>0.341109</td>\n",
              "      <td>0</td>\n",
              "    </tr>\n",
              "    <tr>\n",
              "      <th>10231</th>\n",
              "      <td>137126</td>\n",
              "      <td>0.649254</td>\n",
              "      <td>1</td>\n",
              "    </tr>\n",
              "    <tr>\n",
              "      <th>10232</th>\n",
              "      <td>135652</td>\n",
              "      <td>0.023002</td>\n",
              "      <td>0</td>\n",
              "    </tr>\n",
              "    <tr>\n",
              "      <th>10233</th>\n",
              "      <td>136852</td>\n",
              "      <td>0.033810</td>\n",
              "      <td>0</td>\n",
              "    </tr>\n",
              "  </tbody>\n",
              "</table>\n",
              "<p>10234 rows × 3 columns</p>\n",
              "</div>"
            ],
            "text/plain": [
              "       encounter_id  diabetes_mellitus  diabetes_mellitus01\n",
              "0            144740           0.319310                    0\n",
              "1            141990           0.342009                    0\n",
              "2            142038           0.391538                    0\n",
              "3            138628           0.105751                    0\n",
              "4            141682           0.870084                    1\n",
              "...             ...                ...                  ...\n",
              "10229        143750           0.167511                    0\n",
              "10230        143813           0.341109                    0\n",
              "10231        137126           0.649254                    1\n",
              "10232        135652           0.023002                    0\n",
              "10233        136852           0.033810                    0\n",
              "\n",
              "[10234 rows x 3 columns]"
            ]
          },
          "metadata": {
            "tags": []
          },
          "execution_count": 242
        }
      ]
    },
    {
      "cell_type": "code",
      "metadata": {
        "colab": {
          "base_uri": "https://localhost:8080/"
        },
        "id": "h_66qEJDmsyo",
        "outputId": "da7f3788-a4bd-40ba-f6f1-b38427200e60"
      },
      "source": [
        "test_df_A['diabetes_mellitus'].sum()"
      ],
      "execution_count": 243,
      "outputs": [
        {
          "output_type": "execute_result",
          "data": {
            "text/plain": [
              "3984.7769"
            ]
          },
          "metadata": {
            "tags": []
          },
          "execution_count": 243
        }
      ]
    },
    {
      "cell_type": "code",
      "metadata": {
        "id": "A1R0itGZm9js"
      },
      "source": [
        "submit_A.to_csv('Boost_Class_A.csv',index=False)"
      ],
      "execution_count": 244,
      "outputs": []
    },
    {
      "cell_type": "markdown",
      "metadata": {
        "id": "vVAT6nQc8XP9"
      },
      "source": [
        "#Alternative Model_C\n",
        "##Kaggle Accuracy Score= 0.69186   \n",
        "###3rd Smaller and more balanced sample set\n"
      ]
    },
    {
      "cell_type": "code",
      "metadata": {
        "id": "z20PkhIC8ctA"
      },
      "source": [
        "my_samp=pd.read_csv('/content/drive/My Drive/my_sample.csv')"
      ],
      "execution_count": 245,
      "outputs": []
    },
    {
      "cell_type": "code",
      "metadata": {
        "id": "d5yfpiNi8xiL"
      },
      "source": [
        "y_s=my_samp['diabetes_mellitus']\n",
        "X_s=my_samp.drop(['diabetes_mellitus'], axis=1)\n",
        "\n",
        "X_s_train, X_s_test, y_s_train,y_s_test =train_test_split(X_s,y_s, random_state=40)"
      ],
      "execution_count": 246,
      "outputs": []
    },
    {
      "cell_type": "code",
      "metadata": {
        "colab": {
          "base_uri": "https://localhost:8080/"
        },
        "id": "AVi4X4FzCA1F",
        "outputId": "0bce8764-158e-4931-dcc7-eb5bd754794b"
      },
      "source": [
        "X_s_train.shape"
      ],
      "execution_count": 247,
      "outputs": [
        {
          "output_type": "execute_result",
          "data": {
            "text/plain": [
              "(23157, 65)"
            ]
          },
          "metadata": {
            "tags": []
          },
          "execution_count": 247
        }
      ]
    },
    {
      "cell_type": "code",
      "metadata": {
        "id": "IHyKHqga9P3t"
      },
      "source": [
        "model_3= XGBClassifier(booster='dart', max_depth=3, n_estimators=300, n_jobs=2, random_state=40, importance_type=\"weight\") #used to manage datasets with missing values"
      ],
      "execution_count": 248,
      "outputs": []
    },
    {
      "cell_type": "code",
      "metadata": {
        "colab": {
          "base_uri": "https://localhost:8080/"
        },
        "id": "PiDSNYeZ9X9k",
        "outputId": "eed71411-13ad-4ff9-fdde-a84e979691b3"
      },
      "source": [
        "model_3.fit(X_s_train,y_s_train)"
      ],
      "execution_count": 249,
      "outputs": [
        {
          "output_type": "execute_result",
          "data": {
            "text/plain": [
              "XGBClassifier(base_score=0.5, booster='dart', colsample_bylevel=1,\n",
              "              colsample_bynode=1, colsample_bytree=1, gamma=0,\n",
              "              learning_rate=0.1, max_delta_step=0, max_depth=3,\n",
              "              min_child_weight=1, missing=None, n_estimators=300, n_jobs=2,\n",
              "              nthread=None, objective='binary:logistic', random_state=40,\n",
              "              reg_alpha=0, reg_lambda=1, scale_pos_weight=1, seed=None,\n",
              "              silent=None, subsample=1, verbosity=1)"
            ]
          },
          "metadata": {
            "tags": []
          },
          "execution_count": 249
        }
      ]
    },
    {
      "cell_type": "code",
      "metadata": {
        "colab": {
          "base_uri": "https://localhost:8080/"
        },
        "id": "MklKEO-P9epx",
        "outputId": "e9d7e0cd-3146-489c-9ef1-7bfe5fb737d2"
      },
      "source": [
        "model_3.score(X_s_test,y_s_test)"
      ],
      "execution_count": 250,
      "outputs": [
        {
          "output_type": "execute_result",
          "data": {
            "text/plain": [
              "0.9104806322062443"
            ]
          },
          "metadata": {
            "tags": []
          },
          "execution_count": 250
        }
      ]
    },
    {
      "cell_type": "code",
      "metadata": {
        "colab": {
          "base_uri": "https://localhost:8080/",
          "height": 279
        },
        "id": "S1GL7b-PaGo9",
        "outputId": "fdf1c646-b54b-4ffa-f29c-956f3bb92e9d"
      },
      "source": [
        "plot_confusion_matrix(model_3, X_s_test, y_s_test)  \n",
        "plt.show()"
      ],
      "execution_count": 259,
      "outputs": [
        {
          "output_type": "display_data",
          "data": {
            "image/png": "[encoded data removed]",
            "text/plain": [
              "<Figure size 432x288 with 2 Axes>"
            ]
          },
          "metadata": {
            "tags": [],
            "needs_background": "light"
          }
        }
      ]
    },
    {
      "cell_type": "code",
      "metadata": {
        "colab": {
          "base_uri": "https://localhost:8080/",
          "height": 295
        },
        "id": "-Lc_yiPN_-Z1",
        "outputId": "d2db3993-46eb-4e01-b48a-5be0e1c323d2"
      },
      "source": [
        "plot_importance(model_3)\n",
        "plt.show()"
      ],
      "execution_count": 256,
      "outputs": [
        {
          "output_type": "display_data",
          "data": {
            "image/png": "[encoded data removed]",
            "text/plain": [
              "<Figure size 432x288 with 1 Axes>"
            ]
          },
          "metadata": {
            "tags": [],
            "needs_background": "light"
          }
        }
      ]
    },
    {
      "cell_type": "code",
      "metadata": {
        "id": "ZuivS85H-Ewm"
      },
      "source": [
        "test_samp=pd.read_csv('train/UnlabeledWiDS2021.csv')"
      ],
      "execution_count": 251,
      "outputs": []
    },
    {
      "cell_type": "code",
      "metadata": {
        "id": "Hvqg_EBc-0T0"
      },
      "source": [
        "samp_encode=pd.get_dummies(test_samp[['ethnicity','gender']])\n",
        "test_samp=test_samp.join(samp_encode)"
      ],
      "execution_count": 252,
      "outputs": []
    },
    {
      "cell_type": "code",
      "metadata": {
        "id": "7C1IwgXW9tvD"
      },
      "source": [
        "test_col_samp=list(X_s.columns)"
      ],
      "execution_count": 253,
      "outputs": []
    },
    {
      "cell_type": "code",
      "metadata": {
        "colab": {
          "base_uri": "https://localhost:8080/",
          "height": 419
        },
        "id": "4koXxN969kcJ",
        "outputId": "87588189-4e5c-420e-d824-93c3aa5eea03"
      },
      "source": [
        "test_samp['diabetes_mellitus']=model_3.predict_proba(test_samp[test_col_samp])[:,1]\n",
        "submit_samp = test_samp[['encounter_id','diabetes_mellitus']]\n",
        "submit_samp"
      ],
      "execution_count": 254,
      "outputs": [
        {
          "output_type": "execute_result",
          "data": {
            "text/html": [
              "<div>\n",
              "<style scoped>\n",
              "    .dataframe tbody tr th:only-of-type {\n",
              "        vertical-align: middle;\n",
              "    }\n",
              "\n",
              "    .dataframe tbody tr th {\n",
              "        vertical-align: top;\n",
              "    }\n",
              "\n",
              "    .dataframe thead th {\n",
              "        text-align: right;\n",
              "    }\n",
              "</style>\n",
              "<table border=\"1\" class=\"dataframe\">\n",
              "  <thead>\n",
              "    <tr style=\"text-align: right;\">\n",
              "      <th></th>\n",
              "      <th>encounter_id</th>\n",
              "      <th>diabetes_mellitus</th>\n",
              "    </tr>\n",
              "  </thead>\n",
              "  <tbody>\n",
              "    <tr>\n",
              "      <th>0</th>\n",
              "      <td>144740</td>\n",
              "      <td>0.855997</td>\n",
              "    </tr>\n",
              "    <tr>\n",
              "      <th>1</th>\n",
              "      <td>141990</td>\n",
              "      <td>0.814279</td>\n",
              "    </tr>\n",
              "    <tr>\n",
              "      <th>2</th>\n",
              "      <td>142038</td>\n",
              "      <td>0.813597</td>\n",
              "    </tr>\n",
              "    <tr>\n",
              "      <th>3</th>\n",
              "      <td>138628</td>\n",
              "      <td>0.677599</td>\n",
              "    </tr>\n",
              "    <tr>\n",
              "      <th>4</th>\n",
              "      <td>141682</td>\n",
              "      <td>0.936660</td>\n",
              "    </tr>\n",
              "    <tr>\n",
              "      <th>...</th>\n",
              "      <td>...</td>\n",
              "      <td>...</td>\n",
              "    </tr>\n",
              "    <tr>\n",
              "      <th>10229</th>\n",
              "      <td>143750</td>\n",
              "      <td>0.696279</td>\n",
              "    </tr>\n",
              "    <tr>\n",
              "      <th>10230</th>\n",
              "      <td>143813</td>\n",
              "      <td>0.619401</td>\n",
              "    </tr>\n",
              "    <tr>\n",
              "      <th>10231</th>\n",
              "      <td>137126</td>\n",
              "      <td>0.707040</td>\n",
              "    </tr>\n",
              "    <tr>\n",
              "      <th>10232</th>\n",
              "      <td>135652</td>\n",
              "      <td>0.558066</td>\n",
              "    </tr>\n",
              "    <tr>\n",
              "      <th>10233</th>\n",
              "      <td>136852</td>\n",
              "      <td>0.006693</td>\n",
              "    </tr>\n",
              "  </tbody>\n",
              "</table>\n",
              "<p>10234 rows × 2 columns</p>\n",
              "</div>"
            ],
            "text/plain": [
              "       encounter_id  diabetes_mellitus\n",
              "0            144740           0.855997\n",
              "1            141990           0.814279\n",
              "2            142038           0.813597\n",
              "3            138628           0.677599\n",
              "4            141682           0.936660\n",
              "...             ...                ...\n",
              "10229        143750           0.696279\n",
              "10230        143813           0.619401\n",
              "10231        137126           0.707040\n",
              "10232        135652           0.558066\n",
              "10233        136852           0.006693\n",
              "\n",
              "[10234 rows x 2 columns]"
            ]
          },
          "metadata": {
            "tags": []
          },
          "execution_count": 254
        }
      ]
    },
    {
      "cell_type": "code",
      "metadata": {
        "id": "P1-xjMlH-tUX"
      },
      "source": [
        "submit_samp.to_csv('Boost_Class_C.csv',index=False)"
      ],
      "execution_count": 255,
      "outputs": []
    },
    {
      "cell_type": "code",
      "metadata": {
        "id": "u8MnUgziAq3Q"
      },
      "source": [
        ""
      ],
      "execution_count": 256,
      "outputs": []
    }
  ]
}