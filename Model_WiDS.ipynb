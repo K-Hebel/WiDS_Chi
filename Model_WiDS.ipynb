{
  "nbformat": 4,
  "nbformat_minor": 0,
  "metadata": {
    "colab": {
      "name": "Model_WiDS.ipynb",
      "provenance": [],
      "toc_visible": true,
      "authorship_tag": "ABX9TyMrL3wMx27JyLeClWImjtsT",
      "include_colab_link": true
    },
    "kernelspec": {
      "name": "python3",
      "display_name": "Python 3"
    }
  },
  "cells": [
    {
      "cell_type": "markdown",
      "metadata": {
        "id": "view-in-github",
        "colab_type": "text"
      },
      "source": [
        "<a href=\"https://colab.research.google.com/github/K-Hebel/WiDS_Chi/blob/master/Model_WiDS.ipynb\" target=\"_parent\"><img src=\"https://colab.research.google.com/assets/colab-badge.svg\" alt=\"Open In Colab\"/></a>"
      ]
    },
    {
      "cell_type": "markdown",
      "metadata": {
        "id": "h9vhUAjn7LKZ"
      },
      "source": [
        "#Load Libraries"
      ]
    },
    {
      "cell_type": "code",
      "metadata": {
        "colab": {
          "base_uri": "https://localhost:8080/"
        },
        "id": "2Nu79Xd06NEk",
        "outputId": "995a1ccc-c6a5-4996-a18c-eabf53aa1ba3"
      },
      "source": [
        "#@title\n",
        "from google.colab import drive\n",
        "drive.mount('/content/drive')"
      ],
      "execution_count": 1,
      "outputs": [
        {
          "output_type": "stream",
          "text": [
            "Mounted at /content/drive\n"
          ],
          "name": "stdout"
        }
      ]
    },
    {
      "cell_type": "code",
      "metadata": {
        "id": "-3cVDHTD6czm"
      },
      "source": [
        "#@title\n",
        "import pandas as pd\n",
        "import numpy as np\n",
        "import matplotlib.pyplot as plt\n",
        "%matplotlib inline"
      ],
      "execution_count": 2,
      "outputs": []
    },
    {
      "cell_type": "code",
      "metadata": {
        "id": "AQCP0SgB8WMn"
      },
      "source": [
        "from xgboost import XGBClassifier\n",
        "from sklearn.naive_bayes import GaussianNB \n",
        "from sklearn.impute import KNNImputer, SimpleImputer\n",
        "from sklearn.svm import LinearSVC\n",
        "from sklearn.ensemble import RandomForestClassifier\n",
        "\n",
        "from sklearn.model_selection import train_test_split\n",
        "from sklearn.pipeline import Pipeline\n",
        "from sklearn import metrics "
      ],
      "execution_count": 108,
      "outputs": []
    },
    {
      "cell_type": "markdown",
      "metadata": {
        "id": "WbDszzJ97P14"
      },
      "source": [
        "#Load DataFile 'final_sample.csv' - A 50,000 record sample of orginal training dataset (Cleaned Based on EDA comments -df_A)"
      ]
    },
    {
      "cell_type": "code",
      "metadata": {
        "id": "icqYvtGS6ySj"
      },
      "source": [
        "df_A=pd.read_csv('/content/drive/My Drive/final_sample.csv')"
      ],
      "execution_count": 11,
      "outputs": []
    },
    {
      "cell_type": "code",
      "metadata": {
        "colab": {
          "base_uri": "https://localhost:8080/",
          "height": 317
        },
        "id": "wCb2X60Q0vVo",
        "outputId": "f26af885-81d0-4593-8c0d-f77a0af06afd"
      },
      "source": [
        "df_A.describe()"
      ],
      "execution_count": 12,
      "outputs": [
        {
          "output_type": "execute_result",
          "data": {
            "text/html": [
              "<div>\n",
              "<style scoped>\n",
              "    .dataframe tbody tr th:only-of-type {\n",
              "        vertical-align: middle;\n",
              "    }\n",
              "\n",
              "    .dataframe tbody tr th {\n",
              "        vertical-align: top;\n",
              "    }\n",
              "\n",
              "    .dataframe thead th {\n",
              "        text-align: right;\n",
              "    }\n",
              "</style>\n",
              "<table border=\"1\" class=\"dataframe\">\n",
              "  <thead>\n",
              "    <tr style=\"text-align: right;\">\n",
              "      <th></th>\n",
              "      <th>Unnamed: 0</th>\n",
              "      <th>age</th>\n",
              "      <th>bmi</th>\n",
              "      <th>weight</th>\n",
              "      <th>arf_apache</th>\n",
              "      <th>bun_apache</th>\n",
              "      <th>creatinine_apache</th>\n",
              "      <th>glucose_apache</th>\n",
              "      <th>d1_diasbp_invasive_min</th>\n",
              "      <th>d1_bun_max</th>\n",
              "      <th>d1_bun_min</th>\n",
              "      <th>d1_creatinine_max</th>\n",
              "      <th>d1_creatinine_min</th>\n",
              "      <th>d1_glucose_max</th>\n",
              "      <th>d1_glucose_min</th>\n",
              "      <th>d1_hemaglobin_max</th>\n",
              "      <th>d1_potassium_max</th>\n",
              "      <th>h1_bun_max</th>\n",
              "      <th>h1_bun_min</th>\n",
              "      <th>h1_creatinine_max</th>\n",
              "      <th>h1_creatinine_min</th>\n",
              "      <th>h1_glucose_max</th>\n",
              "      <th>h1_glucose_min</th>\n",
              "      <th>h1_potassium_max</th>\n",
              "      <th>h1_potassium_min</th>\n",
              "      <th>aids</th>\n",
              "      <th>cirrhosis</th>\n",
              "      <th>hepatic_failure</th>\n",
              "      <th>solid_tumor_with_metastasis</th>\n",
              "      <th>diabetes_mellitus</th>\n",
              "    </tr>\n",
              "  </thead>\n",
              "  <tbody>\n",
              "    <tr>\n",
              "      <th>count</th>\n",
              "      <td>50000.00000</td>\n",
              "      <td>48413.000000</td>\n",
              "      <td>48297.000000</td>\n",
              "      <td>48671.000000</td>\n",
              "      <td>50000.000000</td>\n",
              "      <td>40759.000000</td>\n",
              "      <td>40961.000000</td>\n",
              "      <td>45802.000000</td>\n",
              "      <td>13461.000000</td>\n",
              "      <td>45143.000000</td>\n",
              "      <td>45143.000000</td>\n",
              "      <td>45312.000000</td>\n",
              "      <td>45312.000000</td>\n",
              "      <td>47683.000000</td>\n",
              "      <td>47683.000000</td>\n",
              "      <td>43867.000000</td>\n",
              "      <td>45627.000000</td>\n",
              "      <td>10142.000000</td>\n",
              "      <td>10142.000000</td>\n",
              "      <td>10219.000000</td>\n",
              "      <td>10219.000000</td>\n",
              "      <td>23530.000000</td>\n",
              "      <td>23530.000000</td>\n",
              "      <td>11878.000000</td>\n",
              "      <td>11878.000000</td>\n",
              "      <td>50000.000000</td>\n",
              "      <td>50000.000000</td>\n",
              "      <td>50000.00000</td>\n",
              "      <td>50000.00000</td>\n",
              "      <td>50000.000000</td>\n",
              "    </tr>\n",
              "    <tr>\n",
              "      <th>mean</th>\n",
              "      <td>64517.25396</td>\n",
              "      <td>0.706565</td>\n",
              "      <td>0.287905</td>\n",
              "      <td>0.325286</td>\n",
              "      <td>0.041300</td>\n",
              "      <td>0.193007</td>\n",
              "      <td>0.120662</td>\n",
              "      <td>0.256355</td>\n",
              "      <td>0.491915</td>\n",
              "      <td>0.193565</td>\n",
              "      <td>0.202304</td>\n",
              "      <td>0.119614</td>\n",
              "      <td>0.122323</td>\n",
              "      <td>0.232773</td>\n",
              "      <td>0.333383</td>\n",
              "      <td>0.436856</td>\n",
              "      <td>0.356713</td>\n",
              "      <td>0.179845</td>\n",
              "      <td>0.179676</td>\n",
              "      <td>0.116601</td>\n",
              "      <td>0.116768</td>\n",
              "      <td>0.202849</td>\n",
              "      <td>0.215413</td>\n",
              "      <td>0.367910</td>\n",
              "      <td>0.367195</td>\n",
              "      <td>0.000780</td>\n",
              "      <td>0.017040</td>\n",
              "      <td>0.01368</td>\n",
              "      <td>0.01968</td>\n",
              "      <td>0.500000</td>\n",
              "    </tr>\n",
              "    <tr>\n",
              "      <th>std</th>\n",
              "      <td>37304.10042</td>\n",
              "      <td>0.179790</td>\n",
              "      <td>0.162890</td>\n",
              "      <td>0.175116</td>\n",
              "      <td>0.198985</td>\n",
              "      <td>0.175740</td>\n",
              "      <td>0.152694</td>\n",
              "      <td>0.185362</td>\n",
              "      <td>0.149649</td>\n",
              "      <td>0.175884</td>\n",
              "      <td>0.177891</td>\n",
              "      <td>0.153284</td>\n",
              "      <td>0.150881</td>\n",
              "      <td>0.184414</td>\n",
              "      <td>0.167973</td>\n",
              "      <td>0.204684</td>\n",
              "      <td>0.163933</td>\n",
              "      <td>0.170784</td>\n",
              "      <td>0.170673</td>\n",
              "      <td>0.149090</td>\n",
              "      <td>0.149336</td>\n",
              "      <td>0.170662</td>\n",
              "      <td>0.162622</td>\n",
              "      <td>0.166125</td>\n",
              "      <td>0.168320</td>\n",
              "      <td>0.027918</td>\n",
              "      <td>0.129422</td>\n",
              "      <td>0.11616</td>\n",
              "      <td>0.13890</td>\n",
              "      <td>0.500005</td>\n",
              "    </tr>\n",
              "    <tr>\n",
              "      <th>min</th>\n",
              "      <td>0.00000</td>\n",
              "      <td>0.000000</td>\n",
              "      <td>0.000000</td>\n",
              "      <td>0.000000</td>\n",
              "      <td>0.000000</td>\n",
              "      <td>0.000000</td>\n",
              "      <td>0.000000</td>\n",
              "      <td>0.000000</td>\n",
              "      <td>0.000000</td>\n",
              "      <td>0.000000</td>\n",
              "      <td>0.000000</td>\n",
              "      <td>0.000000</td>\n",
              "      <td>0.000000</td>\n",
              "      <td>0.000000</td>\n",
              "      <td>0.000000</td>\n",
              "      <td>0.000000</td>\n",
              "      <td>0.000000</td>\n",
              "      <td>0.000000</td>\n",
              "      <td>0.000000</td>\n",
              "      <td>0.000000</td>\n",
              "      <td>0.000000</td>\n",
              "      <td>0.000000</td>\n",
              "      <td>0.000000</td>\n",
              "      <td>0.000000</td>\n",
              "      <td>0.000000</td>\n",
              "      <td>0.000000</td>\n",
              "      <td>0.000000</td>\n",
              "      <td>0.00000</td>\n",
              "      <td>0.00000</td>\n",
              "      <td>0.000000</td>\n",
              "    </tr>\n",
              "    <tr>\n",
              "      <th>25%</th>\n",
              "      <td>31991.25000</td>\n",
              "      <td>0.606742</td>\n",
              "      <td>0.177694</td>\n",
              "      <td>0.200814</td>\n",
              "      <td>0.000000</td>\n",
              "      <td>0.073171</td>\n",
              "      <td>0.040441</td>\n",
              "      <td>0.110774</td>\n",
              "      <td>0.404762</td>\n",
              "      <td>0.073770</td>\n",
              "      <td>0.081751</td>\n",
              "      <td>0.041783</td>\n",
              "      <td>0.045653</td>\n",
              "      <td>0.102230</td>\n",
              "      <td>0.227451</td>\n",
              "      <td>0.278846</td>\n",
              "      <td>0.238095</td>\n",
              "      <td>0.068702</td>\n",
              "      <td>0.068702</td>\n",
              "      <td>0.041688</td>\n",
              "      <td>0.041811</td>\n",
              "      <td>0.092761</td>\n",
              "      <td>0.111465</td>\n",
              "      <td>0.255319</td>\n",
              "      <td>0.260870</td>\n",
              "      <td>0.000000</td>\n",
              "      <td>0.000000</td>\n",
              "      <td>0.00000</td>\n",
              "      <td>0.00000</td>\n",
              "      <td>0.000000</td>\n",
              "    </tr>\n",
              "    <tr>\n",
              "      <th>50%</th>\n",
              "      <td>64325.50000</td>\n",
              "      <td>0.730337</td>\n",
              "      <td>0.258489</td>\n",
              "      <td>0.298507</td>\n",
              "      <td>0.000000</td>\n",
              "      <td>0.130081</td>\n",
              "      <td>0.068934</td>\n",
              "      <td>0.219761</td>\n",
              "      <td>0.488095</td>\n",
              "      <td>0.131148</td>\n",
              "      <td>0.145336</td>\n",
              "      <td>0.067781</td>\n",
              "      <td>0.072630</td>\n",
              "      <td>0.182156</td>\n",
              "      <td>0.301961</td>\n",
              "      <td>0.432692</td>\n",
              "      <td>0.333333</td>\n",
              "      <td>0.122137</td>\n",
              "      <td>0.122137</td>\n",
              "      <td>0.066524</td>\n",
              "      <td>0.066720</td>\n",
              "      <td>0.150933</td>\n",
              "      <td>0.167197</td>\n",
              "      <td>0.340426</td>\n",
              "      <td>0.347826</td>\n",
              "      <td>0.000000</td>\n",
              "      <td>0.000000</td>\n",
              "      <td>0.00000</td>\n",
              "      <td>0.00000</td>\n",
              "      <td>0.500000</td>\n",
              "    </tr>\n",
              "    <tr>\n",
              "      <th>75%</th>\n",
              "      <td>96233.75000</td>\n",
              "      <td>0.842697</td>\n",
              "      <td>0.363143</td>\n",
              "      <td>0.416554</td>\n",
              "      <td>0.000000</td>\n",
              "      <td>0.252033</td>\n",
              "      <td>0.128676</td>\n",
              "      <td>0.343041</td>\n",
              "      <td>0.571429</td>\n",
              "      <td>0.245902</td>\n",
              "      <td>0.263421</td>\n",
              "      <td>0.126277</td>\n",
              "      <td>0.127621</td>\n",
              "      <td>0.306691</td>\n",
              "      <td>0.403922</td>\n",
              "      <td>0.576923</td>\n",
              "      <td>0.428571</td>\n",
              "      <td>0.229008</td>\n",
              "      <td>0.229008</td>\n",
              "      <td>0.121516</td>\n",
              "      <td>0.121875</td>\n",
              "      <td>0.253127</td>\n",
              "      <td>0.265924</td>\n",
              "      <td>0.446809</td>\n",
              "      <td>0.456522</td>\n",
              "      <td>0.000000</td>\n",
              "      <td>0.000000</td>\n",
              "      <td>0.00000</td>\n",
              "      <td>0.00000</td>\n",
              "      <td>1.000000</td>\n",
              "    </tr>\n",
              "    <tr>\n",
              "      <th>max</th>\n",
              "      <td>130155.00000</td>\n",
              "      <td>1.000000</td>\n",
              "      <td>1.000000</td>\n",
              "      <td>1.000000</td>\n",
              "      <td>1.000000</td>\n",
              "      <td>1.000000</td>\n",
              "      <td>1.000000</td>\n",
              "      <td>1.000000</td>\n",
              "      <td>1.000000</td>\n",
              "      <td>1.000000</td>\n",
              "      <td>1.000000</td>\n",
              "      <td>1.000000</td>\n",
              "      <td>1.000000</td>\n",
              "      <td>1.000000</td>\n",
              "      <td>1.000000</td>\n",
              "      <td>1.000000</td>\n",
              "      <td>1.000000</td>\n",
              "      <td>1.000000</td>\n",
              "      <td>1.000000</td>\n",
              "      <td>1.000000</td>\n",
              "      <td>1.000000</td>\n",
              "      <td>1.000000</td>\n",
              "      <td>1.000000</td>\n",
              "      <td>1.000000</td>\n",
              "      <td>1.000000</td>\n",
              "      <td>1.000000</td>\n",
              "      <td>1.000000</td>\n",
              "      <td>1.00000</td>\n",
              "      <td>1.00000</td>\n",
              "      <td>1.000000</td>\n",
              "    </tr>\n",
              "  </tbody>\n",
              "</table>\n",
              "</div>"
            ],
            "text/plain": [
              "         Unnamed: 0  ...  diabetes_mellitus\n",
              "count   50000.00000  ...       50000.000000\n",
              "mean    64517.25396  ...           0.500000\n",
              "std     37304.10042  ...           0.500005\n",
              "min         0.00000  ...           0.000000\n",
              "25%     31991.25000  ...           0.000000\n",
              "50%     64325.50000  ...           0.500000\n",
              "75%     96233.75000  ...           1.000000\n",
              "max    130155.00000  ...           1.000000\n",
              "\n",
              "[8 rows x 30 columns]"
            ]
          },
          "metadata": {
            "tags": []
          },
          "execution_count": 12
        }
      ]
    },
    {
      "cell_type": "markdown",
      "metadata": {
        "id": "Yhhkuf0PYmrO"
      },
      "source": [
        "##Proportion of Missing Data in df_A by Feature Column and Count of Available data by Feature Column"
      ]
    },
    {
      "cell_type": "code",
      "metadata": {
        "colab": {
          "base_uri": "https://localhost:8080/",
          "height": 979
        },
        "id": "bbkQaqutcftL",
        "outputId": "d994585d-bfe7-4a11-db91-e489f06a9c50"
      },
      "source": [
        "missing_data= pd.DataFrame(df_A.isna().sum()/df_A['diabetes_mellitus'].count())\n",
        "missing_data['Available']= df_A.notna().sum()\n",
        "missing_data.sort_values(0,ascending=False)"
      ],
      "execution_count": 13,
      "outputs": [
        {
          "output_type": "execute_result",
          "data": {
            "text/html": [
              "<div>\n",
              "<style scoped>\n",
              "    .dataframe tbody tr th:only-of-type {\n",
              "        vertical-align: middle;\n",
              "    }\n",
              "\n",
              "    .dataframe tbody tr th {\n",
              "        vertical-align: top;\n",
              "    }\n",
              "\n",
              "    .dataframe thead th {\n",
              "        text-align: right;\n",
              "    }\n",
              "</style>\n",
              "<table border=\"1\" class=\"dataframe\">\n",
              "  <thead>\n",
              "    <tr style=\"text-align: right;\">\n",
              "      <th></th>\n",
              "      <th>0</th>\n",
              "      <th>Available</th>\n",
              "    </tr>\n",
              "  </thead>\n",
              "  <tbody>\n",
              "    <tr>\n",
              "      <th>h1_bun_max</th>\n",
              "      <td>0.79716</td>\n",
              "      <td>10142</td>\n",
              "    </tr>\n",
              "    <tr>\n",
              "      <th>h1_bun_min</th>\n",
              "      <td>0.79716</td>\n",
              "      <td>10142</td>\n",
              "    </tr>\n",
              "    <tr>\n",
              "      <th>h1_creatinine_max</th>\n",
              "      <td>0.79562</td>\n",
              "      <td>10219</td>\n",
              "    </tr>\n",
              "    <tr>\n",
              "      <th>h1_creatinine_min</th>\n",
              "      <td>0.79562</td>\n",
              "      <td>10219</td>\n",
              "    </tr>\n",
              "    <tr>\n",
              "      <th>h1_potassium_min</th>\n",
              "      <td>0.76244</td>\n",
              "      <td>11878</td>\n",
              "    </tr>\n",
              "    <tr>\n",
              "      <th>h1_potassium_max</th>\n",
              "      <td>0.76244</td>\n",
              "      <td>11878</td>\n",
              "    </tr>\n",
              "    <tr>\n",
              "      <th>d1_diasbp_invasive_min</th>\n",
              "      <td>0.73078</td>\n",
              "      <td>13461</td>\n",
              "    </tr>\n",
              "    <tr>\n",
              "      <th>h1_glucose_max</th>\n",
              "      <td>0.52940</td>\n",
              "      <td>23530</td>\n",
              "    </tr>\n",
              "    <tr>\n",
              "      <th>h1_glucose_min</th>\n",
              "      <td>0.52940</td>\n",
              "      <td>23530</td>\n",
              "    </tr>\n",
              "    <tr>\n",
              "      <th>bun_apache</th>\n",
              "      <td>0.18482</td>\n",
              "      <td>40759</td>\n",
              "    </tr>\n",
              "    <tr>\n",
              "      <th>creatinine_apache</th>\n",
              "      <td>0.18078</td>\n",
              "      <td>40961</td>\n",
              "    </tr>\n",
              "    <tr>\n",
              "      <th>d1_hemaglobin_max</th>\n",
              "      <td>0.12266</td>\n",
              "      <td>43867</td>\n",
              "    </tr>\n",
              "    <tr>\n",
              "      <th>d1_bun_min</th>\n",
              "      <td>0.09714</td>\n",
              "      <td>45143</td>\n",
              "    </tr>\n",
              "    <tr>\n",
              "      <th>d1_bun_max</th>\n",
              "      <td>0.09714</td>\n",
              "      <td>45143</td>\n",
              "    </tr>\n",
              "    <tr>\n",
              "      <th>d1_creatinine_min</th>\n",
              "      <td>0.09376</td>\n",
              "      <td>45312</td>\n",
              "    </tr>\n",
              "    <tr>\n",
              "      <th>d1_creatinine_max</th>\n",
              "      <td>0.09376</td>\n",
              "      <td>45312</td>\n",
              "    </tr>\n",
              "    <tr>\n",
              "      <th>d1_potassium_max</th>\n",
              "      <td>0.08746</td>\n",
              "      <td>45627</td>\n",
              "    </tr>\n",
              "    <tr>\n",
              "      <th>glucose_apache</th>\n",
              "      <td>0.08396</td>\n",
              "      <td>45802</td>\n",
              "    </tr>\n",
              "    <tr>\n",
              "      <th>d1_glucose_max</th>\n",
              "      <td>0.04634</td>\n",
              "      <td>47683</td>\n",
              "    </tr>\n",
              "    <tr>\n",
              "      <th>d1_glucose_min</th>\n",
              "      <td>0.04634</td>\n",
              "      <td>47683</td>\n",
              "    </tr>\n",
              "    <tr>\n",
              "      <th>bmi</th>\n",
              "      <td>0.03406</td>\n",
              "      <td>48297</td>\n",
              "    </tr>\n",
              "    <tr>\n",
              "      <th>age</th>\n",
              "      <td>0.03174</td>\n",
              "      <td>48413</td>\n",
              "    </tr>\n",
              "    <tr>\n",
              "      <th>weight</th>\n",
              "      <td>0.02658</td>\n",
              "      <td>48671</td>\n",
              "    </tr>\n",
              "    <tr>\n",
              "      <th>cirrhosis</th>\n",
              "      <td>0.00000</td>\n",
              "      <td>50000</td>\n",
              "    </tr>\n",
              "    <tr>\n",
              "      <th>solid_tumor_with_metastasis</th>\n",
              "      <td>0.00000</td>\n",
              "      <td>50000</td>\n",
              "    </tr>\n",
              "    <tr>\n",
              "      <th>hepatic_failure</th>\n",
              "      <td>0.00000</td>\n",
              "      <td>50000</td>\n",
              "    </tr>\n",
              "    <tr>\n",
              "      <th>Unnamed: 0</th>\n",
              "      <td>0.00000</td>\n",
              "      <td>50000</td>\n",
              "    </tr>\n",
              "    <tr>\n",
              "      <th>aids</th>\n",
              "      <td>0.00000</td>\n",
              "      <td>50000</td>\n",
              "    </tr>\n",
              "    <tr>\n",
              "      <th>arf_apache</th>\n",
              "      <td>0.00000</td>\n",
              "      <td>50000</td>\n",
              "    </tr>\n",
              "    <tr>\n",
              "      <th>diabetes_mellitus</th>\n",
              "      <td>0.00000</td>\n",
              "      <td>50000</td>\n",
              "    </tr>\n",
              "  </tbody>\n",
              "</table>\n",
              "</div>"
            ],
            "text/plain": [
              "                                   0  Available\n",
              "h1_bun_max                   0.79716      10142\n",
              "h1_bun_min                   0.79716      10142\n",
              "h1_creatinine_max            0.79562      10219\n",
              "h1_creatinine_min            0.79562      10219\n",
              "h1_potassium_min             0.76244      11878\n",
              "h1_potassium_max             0.76244      11878\n",
              "d1_diasbp_invasive_min       0.73078      13461\n",
              "h1_glucose_max               0.52940      23530\n",
              "h1_glucose_min               0.52940      23530\n",
              "bun_apache                   0.18482      40759\n",
              "creatinine_apache            0.18078      40961\n",
              "d1_hemaglobin_max            0.12266      43867\n",
              "d1_bun_min                   0.09714      45143\n",
              "d1_bun_max                   0.09714      45143\n",
              "d1_creatinine_min            0.09376      45312\n",
              "d1_creatinine_max            0.09376      45312\n",
              "d1_potassium_max             0.08746      45627\n",
              "glucose_apache               0.08396      45802\n",
              "d1_glucose_max               0.04634      47683\n",
              "d1_glucose_min               0.04634      47683\n",
              "bmi                          0.03406      48297\n",
              "age                          0.03174      48413\n",
              "weight                       0.02658      48671\n",
              "cirrhosis                    0.00000      50000\n",
              "solid_tumor_with_metastasis  0.00000      50000\n",
              "hepatic_failure              0.00000      50000\n",
              "Unnamed: 0                   0.00000      50000\n",
              "aids                         0.00000      50000\n",
              "arf_apache                   0.00000      50000\n",
              "diabetes_mellitus            0.00000      50000"
            ]
          },
          "metadata": {
            "tags": []
          },
          "execution_count": 13
        }
      ]
    },
    {
      "cell_type": "markdown",
      "metadata": {
        "id": "eTeMBtPi7iTj"
      },
      "source": [
        "##Set Features and Target (df_A) and Train_Test_split"
      ]
    },
    {
      "cell_type": "code",
      "metadata": {
        "id": "ymK6URZV7Jya"
      },
      "source": [
        "y_a=df_A['diabetes_mellitus']\n",
        "X_a=df_A.drop(['diabetes_mellitus'], axis=1)\n",
        "\n",
        "X_a_train, X_a_test,y_a_train, y_a_test =train_test_split(X_a,y_a, random_state=40)"
      ],
      "execution_count": 87,
      "outputs": []
    },
    {
      "cell_type": "code",
      "metadata": {
        "colab": {
          "base_uri": "https://localhost:8080/"
        },
        "id": "NsNZhFlrRJ9a",
        "outputId": "8471d2d3-ab18-447c-aed3-619db2cff12d"
      },
      "source": [
        "y_a.shape, X_a.shape"
      ],
      "execution_count": 88,
      "outputs": [
        {
          "output_type": "execute_result",
          "data": {
            "text/plain": [
              "((50000,), (50000, 29))"
            ]
          },
          "metadata": {
            "tags": []
          },
          "execution_count": 88
        }
      ]
    },
    {
      "cell_type": "code",
      "metadata": {
        "colab": {
          "base_uri": "https://localhost:8080/"
        },
        "id": "ciL1yg1fSTF5",
        "outputId": "2da65726-3938-49af-b76b-e5245474aec9"
      },
      "source": [
        "y_a_train.shape, X_a_train.shape"
      ],
      "execution_count": 90,
      "outputs": [
        {
          "output_type": "execute_result",
          "data": {
            "text/plain": [
              "((37500,), (37500, 29))"
            ]
          },
          "metadata": {
            "tags": []
          },
          "execution_count": 90
        }
      ]
    },
    {
      "cell_type": "markdown",
      "metadata": {
        "id": "Exj2ExxwVQiz"
      },
      "source": [
        "#Load Original DataFile fo 130,157 records (Clean Based on Prop of Available Data - df_B)"
      ]
    },
    {
      "cell_type": "code",
      "metadata": {
        "colab": {
          "resources": {
            "http://localhost:8080/nbextensions/google.colab/files.js": {
              "data": "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",
              "ok": true,
              "headers": [
                [
                  "content-type",
                  "application/javascript"
                ]
              ],
              "status": 200,
              "status_text": ""
            }
          },
          "base_uri": "https://localhost:8080/",
          "height": 89
        },
        "id": "pHt6roM0VwqU",
        "outputId": "f138b0e0-1f2f-4cc9-e2db-59e64a70c9f9"
      },
      "source": [
        "#@title\n",
        "! pip install -q kaggle\n",
        "from google.colab import files\n",
        "\n",
        "files.upload()"
      ],
      "execution_count": 19,
      "outputs": [
        {
          "output_type": "display_data",
          "data": {
            "text/html": [
              "\n",
              "     <input type=\"file\" id=\"files-756249a4-cd47-492d-b1ca-a561b9004598\" name=\"files[]\" multiple disabled\n",
              "        style=\"border:none\" />\n",
              "     <output id=\"result-756249a4-cd47-492d-b1ca-a561b9004598\">\n",
              "      Upload widget is only available when the cell has been executed in the\n",
              "      current browser session. Please rerun this cell to enable.\n",
              "      </output>\n",
              "      <script src=\"/nbextensions/google.colab/files.js\"></script> "
            ],
            "text/plain": [
              "<IPython.core.display.HTML object>"
            ]
          },
          "metadata": {
            "tags": []
          }
        },
        {
          "output_type": "stream",
          "text": [
            "Saving kaggle.json to kaggle.json\n"
          ],
          "name": "stdout"
        },
        {
          "output_type": "execute_result",
          "data": {
            "text/plain": [
              "{'kaggle.json': b'{\"username\":\"khebel\",\"key\":\"11c0f35aedbce6808a3f45f82709accf\"}'}"
            ]
          },
          "metadata": {
            "tags": []
          },
          "execution_count": 19
        }
      ]
    },
    {
      "cell_type": "code",
      "metadata": {
        "colab": {
          "base_uri": "https://localhost:8080/"
        },
        "id": "SZ8q976qVwa1",
        "outputId": "1183387d-26d8-4816-bb2a-8438f61da49b"
      },
      "source": [
        "#@title\n",
        "! mkdir ~/.kaggle\n",
        "! cp kaggle.json ~/.kaggle/\n",
        "! chmod 600 ~/.kaggle/kaggle.json\n",
        "! kaggle competitions download -c 'widsdatathon2021'\n",
        "! unzip TrainingWiDS2021.csv.zip -d train"
      ],
      "execution_count": 21,
      "outputs": [
        {
          "output_type": "stream",
          "text": [
            "mkdir: cannot create directory ‘/root/.kaggle’: File exists\n",
            "Warning: Looks like you're using an outdated API Version, please consider updating (server 1.5.10 / client 1.5.4)\n",
            "DataDictionaryWiDS2021.csv: Skipping, found more recently modified local copy (use --force to force download)\n",
            "UnlabeledWiDS2021.csv.zip: Skipping, found more recently modified local copy (use --force to force download)\n",
            "SampleSubmissionWiDS2021.csv: Skipping, found more recently modified local copy (use --force to force download)\n",
            "TrainingWiDS2021.csv.zip: Skipping, found more recently modified local copy (use --force to force download)\n",
            "SolutionTemplateWiDS2021.csv: Skipping, found more recently modified local copy (use --force to force download)\n",
            "Archive:  TrainingWiDS2021.csv.zip\n",
            "  inflating: train/TrainingWiDS2021.csv  \n"
          ],
          "name": "stdout"
        }
      ]
    },
    {
      "cell_type": "code",
      "metadata": {
        "id": "ktrGmTosVwOs"
      },
      "source": [
        "#@title\n",
        "df_B=pd.read_csv(\"train/TrainingWiDS2021.csv\")\n",
        "\n"
      ],
      "execution_count": 42,
      "outputs": []
    },
    {
      "cell_type": "markdown",
      "metadata": {
        "id": "-ZE8W6cMWb0Z"
      },
      "source": [
        "##Proportion of Missing Data in df_B by Feature Column and Count of Available data by Feature Column"
      ]
    },
    {
      "cell_type": "code",
      "metadata": {
        "colab": {
          "base_uri": "https://localhost:8080/",
          "height": 419
        },
        "id": "KANJfH4dWVqu",
        "outputId": "1bac0672-4569-4dcf-a6a1-e543dce219bb"
      },
      "source": [
        "missing_data_B= pd.DataFrame(df_B.isna().sum()/df_B['diabetes_mellitus'].count())\n",
        "missing_data_B['Available']= df_B.notna().sum()\n",
        "missing_data_B.sort_values(0,ascending=False)"
      ],
      "execution_count": 68,
      "outputs": [
        {
          "output_type": "execute_result",
          "data": {
            "text/html": [
              "<div>\n",
              "<style scoped>\n",
              "    .dataframe tbody tr th:only-of-type {\n",
              "        vertical-align: middle;\n",
              "    }\n",
              "\n",
              "    .dataframe tbody tr th {\n",
              "        vertical-align: top;\n",
              "    }\n",
              "\n",
              "    .dataframe thead th {\n",
              "        text-align: right;\n",
              "    }\n",
              "</style>\n",
              "<table border=\"1\" class=\"dataframe\">\n",
              "  <thead>\n",
              "    <tr style=\"text-align: right;\">\n",
              "      <th></th>\n",
              "      <th>0</th>\n",
              "      <th>Available</th>\n",
              "    </tr>\n",
              "  </thead>\n",
              "  <tbody>\n",
              "    <tr>\n",
              "      <th>d1_arterial_ph_min</th>\n",
              "      <td>0.651575</td>\n",
              "      <td>45350</td>\n",
              "    </tr>\n",
              "    <tr>\n",
              "      <th>d1_arterial_ph_max</th>\n",
              "      <td>0.651575</td>\n",
              "      <td>45350</td>\n",
              "    </tr>\n",
              "    <tr>\n",
              "      <th>d1_arterial_pco2_max</th>\n",
              "      <td>0.648916</td>\n",
              "      <td>45696</td>\n",
              "    </tr>\n",
              "    <tr>\n",
              "      <th>d1_arterial_pco2_min</th>\n",
              "      <td>0.648916</td>\n",
              "      <td>45696</td>\n",
              "    </tr>\n",
              "    <tr>\n",
              "      <th>d1_arterial_po2_max</th>\n",
              "      <td>0.645451</td>\n",
              "      <td>46147</td>\n",
              "    </tr>\n",
              "    <tr>\n",
              "      <th>...</th>\n",
              "      <td>...</td>\n",
              "      <td>...</td>\n",
              "    </tr>\n",
              "    <tr>\n",
              "      <th>icu_stay_type</th>\n",
              "      <td>0.000000</td>\n",
              "      <td>130157</td>\n",
              "    </tr>\n",
              "    <tr>\n",
              "      <th>icu_id</th>\n",
              "      <td>0.000000</td>\n",
              "      <td>130157</td>\n",
              "    </tr>\n",
              "    <tr>\n",
              "      <th>elective_surgery</th>\n",
              "      <td>0.000000</td>\n",
              "      <td>130157</td>\n",
              "    </tr>\n",
              "    <tr>\n",
              "      <th>hospital_id</th>\n",
              "      <td>0.000000</td>\n",
              "      <td>130157</td>\n",
              "    </tr>\n",
              "    <tr>\n",
              "      <th>diabetes_mellitus</th>\n",
              "      <td>0.000000</td>\n",
              "      <td>130157</td>\n",
              "    </tr>\n",
              "  </tbody>\n",
              "</table>\n",
              "<p>126 rows × 2 columns</p>\n",
              "</div>"
            ],
            "text/plain": [
              "                             0  Available\n",
              "d1_arterial_ph_min    0.651575      45350\n",
              "d1_arterial_ph_max    0.651575      45350\n",
              "d1_arterial_pco2_max  0.648916      45696\n",
              "d1_arterial_pco2_min  0.648916      45696\n",
              "d1_arterial_po2_max   0.645451      46147\n",
              "...                        ...        ...\n",
              "icu_stay_type         0.000000     130157\n",
              "icu_id                0.000000     130157\n",
              "elective_surgery      0.000000     130157\n",
              "hospital_id           0.000000     130157\n",
              "diabetes_mellitus     0.000000     130157\n",
              "\n",
              "[126 rows x 2 columns]"
            ]
          },
          "metadata": {
            "tags": []
          },
          "execution_count": 68
        }
      ]
    },
    {
      "cell_type": "markdown",
      "metadata": {
        "id": "q1KYbCMPWxmS"
      },
      "source": [
        "##Drop Columns with missing data >=70% from df_B"
      ]
    },
    {
      "cell_type": "code",
      "metadata": {
        "colab": {
          "base_uri": "https://localhost:8080/"
        },
        "id": "979OcQBKWpdP",
        "outputId": "c33eea13-825e-4dc9-9522-cf0c616cbca7"
      },
      "source": [
        "col_drop=missing_data_B[missing_data_B[0]>= 0.70].sort_values(by=0, ascending=False)\n",
        "df_B= df_B.drop(list(col_drop.index), axis=1) #[0].sort_values\n",
        "df_B.shape"
      ],
      "execution_count": 70,
      "outputs": [
        {
          "output_type": "execute_result",
          "data": {
            "text/plain": [
              "(130157, 126)"
            ]
          },
          "metadata": {
            "tags": []
          },
          "execution_count": 70
        }
      ]
    },
    {
      "cell_type": "markdown",
      "metadata": {
        "id": "lrwnQTxuaD-G"
      },
      "source": [
        "##Create Stratified Sample of df_B dataset to balance target variable value counts for sample size of 56,302 (included all positive diabetes_mellitus from original dataset)"
      ]
    },
    {
      "cell_type": "code",
      "metadata": {
        "colab": {
          "base_uri": "https://localhost:8080/"
        },
        "id": "L0-nPUs4XY5X",
        "outputId": "e8b700b6-b230-4b0f-9e27-bf49a17119c3"
      },
      "source": [
        "df_B['diabetes_mellitus'].value_counts()"
      ],
      "execution_count": 47,
      "outputs": [
        {
          "output_type": "execute_result",
          "data": {
            "text/plain": [
              "0    102006\n",
              "1     28151\n",
              "Name: diabetes_mellitus, dtype: int64"
            ]
          },
          "metadata": {
            "tags": []
          },
          "execution_count": 47
        }
      ]
    },
    {
      "cell_type": "code",
      "metadata": {
        "colab": {
          "base_uri": "https://localhost:8080/",
          "height": 346
        },
        "id": "njlQ5c9dZtUt",
        "outputId": "ad136f09-4d58-4558-b3bb-2ef5b149bca6"
      },
      "source": [
        "sample_df_B=df_B.groupby('diabetes_mellitus', group_keys=False).apply(lambda x: x.sample(28151))\n",
        "sample_df_B.describe()"
      ],
      "execution_count": 48,
      "outputs": [
        {
          "output_type": "execute_result",
          "data": {
            "text/html": [
              "<div>\n",
              "<style scoped>\n",
              "    .dataframe tbody tr th:only-of-type {\n",
              "        vertical-align: middle;\n",
              "    }\n",
              "\n",
              "    .dataframe tbody tr th {\n",
              "        vertical-align: top;\n",
              "    }\n",
              "\n",
              "    .dataframe thead th {\n",
              "        text-align: right;\n",
              "    }\n",
              "</style>\n",
              "<table border=\"1\" class=\"dataframe\">\n",
              "  <thead>\n",
              "    <tr style=\"text-align: right;\">\n",
              "      <th></th>\n",
              "      <th>Unnamed: 0</th>\n",
              "      <th>encounter_id</th>\n",
              "      <th>hospital_id</th>\n",
              "      <th>age</th>\n",
              "      <th>bmi</th>\n",
              "      <th>elective_surgery</th>\n",
              "      <th>height</th>\n",
              "      <th>icu_id</th>\n",
              "      <th>pre_icu_los_days</th>\n",
              "      <th>readmission_status</th>\n",
              "      <th>weight</th>\n",
              "      <th>albumin_apache</th>\n",
              "      <th>apache_2_diagnosis</th>\n",
              "      <th>apache_3j_diagnosis</th>\n",
              "      <th>apache_post_operative</th>\n",
              "      <th>arf_apache</th>\n",
              "      <th>bilirubin_apache</th>\n",
              "      <th>bun_apache</th>\n",
              "      <th>creatinine_apache</th>\n",
              "      <th>gcs_eyes_apache</th>\n",
              "      <th>gcs_motor_apache</th>\n",
              "      <th>gcs_unable_apache</th>\n",
              "      <th>gcs_verbal_apache</th>\n",
              "      <th>glucose_apache</th>\n",
              "      <th>heart_rate_apache</th>\n",
              "      <th>hematocrit_apache</th>\n",
              "      <th>intubated_apache</th>\n",
              "      <th>map_apache</th>\n",
              "      <th>resprate_apache</th>\n",
              "      <th>sodium_apache</th>\n",
              "      <th>temp_apache</th>\n",
              "      <th>urineoutput_apache</th>\n",
              "      <th>ventilated_apache</th>\n",
              "      <th>wbc_apache</th>\n",
              "      <th>d1_diasbp_max</th>\n",
              "      <th>d1_diasbp_min</th>\n",
              "      <th>d1_diasbp_noninvasive_max</th>\n",
              "      <th>d1_diasbp_noninvasive_min</th>\n",
              "      <th>d1_heartrate_max</th>\n",
              "      <th>d1_heartrate_min</th>\n",
              "      <th>...</th>\n",
              "      <th>d1_calcium_max</th>\n",
              "      <th>d1_calcium_min</th>\n",
              "      <th>d1_creatinine_max</th>\n",
              "      <th>d1_creatinine_min</th>\n",
              "      <th>d1_glucose_max</th>\n",
              "      <th>d1_glucose_min</th>\n",
              "      <th>d1_hco3_max</th>\n",
              "      <th>d1_hco3_min</th>\n",
              "      <th>d1_hemaglobin_max</th>\n",
              "      <th>d1_hemaglobin_min</th>\n",
              "      <th>d1_hematocrit_max</th>\n",
              "      <th>d1_hematocrit_min</th>\n",
              "      <th>d1_inr_max</th>\n",
              "      <th>d1_inr_min</th>\n",
              "      <th>d1_platelets_max</th>\n",
              "      <th>d1_platelets_min</th>\n",
              "      <th>d1_potassium_max</th>\n",
              "      <th>d1_potassium_min</th>\n",
              "      <th>d1_sodium_max</th>\n",
              "      <th>d1_sodium_min</th>\n",
              "      <th>d1_wbc_max</th>\n",
              "      <th>d1_wbc_min</th>\n",
              "      <th>h1_glucose_max</th>\n",
              "      <th>h1_glucose_min</th>\n",
              "      <th>h1_inr_max</th>\n",
              "      <th>h1_inr_min</th>\n",
              "      <th>d1_arterial_pco2_max</th>\n",
              "      <th>d1_arterial_pco2_min</th>\n",
              "      <th>d1_arterial_ph_max</th>\n",
              "      <th>d1_arterial_ph_min</th>\n",
              "      <th>d1_arterial_po2_max</th>\n",
              "      <th>d1_arterial_po2_min</th>\n",
              "      <th>aids</th>\n",
              "      <th>cirrhosis</th>\n",
              "      <th>hepatic_failure</th>\n",
              "      <th>immunosuppression</th>\n",
              "      <th>leukemia</th>\n",
              "      <th>lymphoma</th>\n",
              "      <th>solid_tumor_with_metastasis</th>\n",
              "      <th>diabetes_mellitus</th>\n",
              "    </tr>\n",
              "  </thead>\n",
              "  <tbody>\n",
              "    <tr>\n",
              "      <th>count</th>\n",
              "      <td>56302.000000</td>\n",
              "      <td>56302.000000</td>\n",
              "      <td>56302.000000</td>\n",
              "      <td>54456.000000</td>\n",
              "      <td>54415.000000</td>\n",
              "      <td>56302.000000</td>\n",
              "      <td>55514.000000</td>\n",
              "      <td>56302.000000</td>\n",
              "      <td>56302.000000</td>\n",
              "      <td>56302.0</td>\n",
              "      <td>54811.000000</td>\n",
              "      <td>22834.000000</td>\n",
              "      <td>55689.000000</td>\n",
              "      <td>56021.000000</td>\n",
              "      <td>56302.000000</td>\n",
              "      <td>56302.000000</td>\n",
              "      <td>20820.000000</td>\n",
              "      <td>45897.000000</td>\n",
              "      <td>46114.000000</td>\n",
              "      <td>55450.000000</td>\n",
              "      <td>55450.000000</td>\n",
              "      <td>56054.000000</td>\n",
              "      <td>55450.000000</td>\n",
              "      <td>51507.000000</td>\n",
              "      <td>56192.000000</td>\n",
              "      <td>44851.000000</td>\n",
              "      <td>56302.000000</td>\n",
              "      <td>56148.000000</td>\n",
              "      <td>55971.000000</td>\n",
              "      <td>46269.000000</td>\n",
              "      <td>53472.000000</td>\n",
              "      <td>28174.000000</td>\n",
              "      <td>56302.000000</td>\n",
              "      <td>43748.000000</td>\n",
              "      <td>56197.000000</td>\n",
              "      <td>56197.000000</td>\n",
              "      <td>55590.000000</td>\n",
              "      <td>55590.000000</td>\n",
              "      <td>56203.000000</td>\n",
              "      <td>56203.000000</td>\n",
              "      <td>...</td>\n",
              "      <td>49726.000000</td>\n",
              "      <td>49726.000000</td>\n",
              "      <td>51091.000000</td>\n",
              "      <td>51091.000000</td>\n",
              "      <td>53674.000000</td>\n",
              "      <td>53674.000000</td>\n",
              "      <td>48096.000000</td>\n",
              "      <td>48096.000000</td>\n",
              "      <td>49462.000000</td>\n",
              "      <td>49462.000000</td>\n",
              "      <td>49696.000000</td>\n",
              "      <td>49696.000000</td>\n",
              "      <td>21150.000000</td>\n",
              "      <td>21150.000000</td>\n",
              "      <td>48505.000000</td>\n",
              "      <td>48505.000000</td>\n",
              "      <td>51441.000000</td>\n",
              "      <td>51441.000000</td>\n",
              "      <td>51083.000000</td>\n",
              "      <td>51083.000000</td>\n",
              "      <td>48964.000000</td>\n",
              "      <td>48964.000000</td>\n",
              "      <td>26572.000000</td>\n",
              "      <td>26572.000000</td>\n",
              "      <td>21150.000000</td>\n",
              "      <td>21150.000000</td>\n",
              "      <td>20159.000000</td>\n",
              "      <td>20159.000000</td>\n",
              "      <td>20020.00000</td>\n",
              "      <td>20020.000000</td>\n",
              "      <td>20387.000000</td>\n",
              "      <td>20387.000000</td>\n",
              "      <td>56302.000000</td>\n",
              "      <td>56302.000000</td>\n",
              "      <td>56302.000000</td>\n",
              "      <td>56302.000000</td>\n",
              "      <td>56302.000000</td>\n",
              "      <td>56302.000000</td>\n",
              "      <td>56302.000000</td>\n",
              "      <td>56302.000000</td>\n",
              "    </tr>\n",
              "    <tr>\n",
              "      <th>mean</th>\n",
              "      <td>64424.550513</td>\n",
              "      <td>212973.132997</td>\n",
              "      <td>106.245231</td>\n",
              "      <td>62.943037</td>\n",
              "      <td>30.068993</td>\n",
              "      <td>0.188572</td>\n",
              "      <td>169.593615</td>\n",
              "      <td>657.825637</td>\n",
              "      <td>0.885478</td>\n",
              "      <td>0.0</td>\n",
              "      <td>86.499782</td>\n",
              "      <td>2.869318</td>\n",
              "      <td>185.476037</td>\n",
              "      <td>562.464101</td>\n",
              "      <td>0.204078</td>\n",
              "      <td>0.040336</td>\n",
              "      <td>1.149357</td>\n",
              "      <td>27.820901</td>\n",
              "      <td>1.611007</td>\n",
              "      <td>3.504382</td>\n",
              "      <td>5.505951</td>\n",
              "      <td>0.010775</td>\n",
              "      <td>4.054734</td>\n",
              "      <td>182.402553</td>\n",
              "      <td>99.683781</td>\n",
              "      <td>32.714352</td>\n",
              "      <td>0.156229</td>\n",
              "      <td>87.297849</td>\n",
              "      <td>25.111608</td>\n",
              "      <td>137.776704</td>\n",
              "      <td>36.416280</td>\n",
              "      <td>1801.914782</td>\n",
              "      <td>0.336187</td>\n",
              "      <td>12.227421</td>\n",
              "      <td>88.325231</td>\n",
              "      <td>49.406463</td>\n",
              "      <td>88.497518</td>\n",
              "      <td>49.462943</td>\n",
              "      <td>103.037525</td>\n",
              "      <td>70.697258</td>\n",
              "      <td>...</td>\n",
              "      <td>8.401655</td>\n",
              "      <td>8.177044</td>\n",
              "      <td>1.626701</td>\n",
              "      <td>1.479934</td>\n",
              "      <td>198.158065</td>\n",
              "      <td>118.152178</td>\n",
              "      <td>24.409660</td>\n",
              "      <td>23.015768</td>\n",
              "      <td>11.339398</td>\n",
              "      <td>10.798219</td>\n",
              "      <td>34.257196</td>\n",
              "      <td>32.685317</td>\n",
              "      <td>1.596001</td>\n",
              "      <td>1.478947</td>\n",
              "      <td>206.694506</td>\n",
              "      <td>195.810425</td>\n",
              "      <td>4.298250</td>\n",
              "      <td>3.945443</td>\n",
              "      <td>139.066474</td>\n",
              "      <td>137.502167</td>\n",
              "      <td>12.573523</td>\n",
              "      <td>11.343461</td>\n",
              "      <td>188.326685</td>\n",
              "      <td>177.554757</td>\n",
              "      <td>1.596001</td>\n",
              "      <td>1.478947</td>\n",
              "      <td>45.280180</td>\n",
              "      <td>38.520225</td>\n",
              "      <td>7.38656</td>\n",
              "      <td>7.320925</td>\n",
              "      <td>163.180031</td>\n",
              "      <td>101.333011</td>\n",
              "      <td>0.000764</td>\n",
              "      <td>0.017903</td>\n",
              "      <td>0.014440</td>\n",
              "      <td>0.025079</td>\n",
              "      <td>0.007797</td>\n",
              "      <td>0.004227</td>\n",
              "      <td>0.019644</td>\n",
              "      <td>0.500000</td>\n",
              "    </tr>\n",
              "    <tr>\n",
              "      <th>std</th>\n",
              "      <td>37291.625559</td>\n",
              "      <td>38096.168668</td>\n",
              "      <td>63.857614</td>\n",
              "      <td>16.020970</td>\n",
              "      <td>8.639522</td>\n",
              "      <td>0.391172</td>\n",
              "      <td>10.822080</td>\n",
              "      <td>302.156631</td>\n",
              "      <td>2.633754</td>\n",
              "      <td>0.0</td>\n",
              "      <td>25.908529</td>\n",
              "      <td>0.677663</td>\n",
              "      <td>86.341779</td>\n",
              "      <td>461.950791</td>\n",
              "      <td>0.403030</td>\n",
              "      <td>0.196748</td>\n",
              "      <td>2.250188</td>\n",
              "      <td>21.672706</td>\n",
              "      <td>1.648329</td>\n",
              "      <td>0.924472</td>\n",
              "      <td>1.248249</td>\n",
              "      <td>0.103244</td>\n",
              "      <td>1.523138</td>\n",
              "      <td>103.904120</td>\n",
              "      <td>30.364243</td>\n",
              "      <td>6.730470</td>\n",
              "      <td>0.363075</td>\n",
              "      <td>42.235812</td>\n",
              "      <td>15.039625</td>\n",
              "      <td>5.325971</td>\n",
              "      <td>0.865847</td>\n",
              "      <td>1457.303278</td>\n",
              "      <td>0.472408</td>\n",
              "      <td>6.854296</td>\n",
              "      <td>20.380211</td>\n",
              "      <td>13.287439</td>\n",
              "      <td>20.359052</td>\n",
              "      <td>13.325862</td>\n",
              "      <td>21.770584</td>\n",
              "      <td>17.128556</td>\n",
              "      <td>...</td>\n",
              "      <td>0.736436</td>\n",
              "      <td>0.785279</td>\n",
              "      <td>1.637415</td>\n",
              "      <td>1.446166</td>\n",
              "      <td>99.445274</td>\n",
              "      <td>42.816732</td>\n",
              "      <td>4.462235</td>\n",
              "      <td>5.258082</td>\n",
              "      <td>2.129080</td>\n",
              "      <td>2.306092</td>\n",
              "      <td>6.135988</td>\n",
              "      <td>6.709575</td>\n",
              "      <td>0.970202</td>\n",
              "      <td>0.752923</td>\n",
              "      <td>89.213067</td>\n",
              "      <td>87.495303</td>\n",
              "      <td>0.688436</td>\n",
              "      <td>0.595017</td>\n",
              "      <td>4.835619</td>\n",
              "      <td>4.943650</td>\n",
              "      <td>6.724044</td>\n",
              "      <td>5.866072</td>\n",
              "      <td>108.826843</td>\n",
              "      <td>102.268713</td>\n",
              "      <td>0.970202</td>\n",
              "      <td>0.752923</td>\n",
              "      <td>14.632047</td>\n",
              "      <td>11.166777</td>\n",
              "      <td>0.08663</td>\n",
              "      <td>0.111408</td>\n",
              "      <td>105.851677</td>\n",
              "      <td>59.735820</td>\n",
              "      <td>0.027626</td>\n",
              "      <td>0.132602</td>\n",
              "      <td>0.119297</td>\n",
              "      <td>0.156367</td>\n",
              "      <td>0.087958</td>\n",
              "      <td>0.064880</td>\n",
              "      <td>0.138775</td>\n",
              "      <td>0.500004</td>\n",
              "    </tr>\n",
              "    <tr>\n",
              "      <th>min</th>\n",
              "      <td>1.000000</td>\n",
              "      <td>147000.000000</td>\n",
              "      <td>1.000000</td>\n",
              "      <td>0.000000</td>\n",
              "      <td>14.844926</td>\n",
              "      <td>0.000000</td>\n",
              "      <td>137.200000</td>\n",
              "      <td>82.000000</td>\n",
              "      <td>-0.219444</td>\n",
              "      <td>0.0</td>\n",
              "      <td>38.600000</td>\n",
              "      <td>1.200000</td>\n",
              "      <td>101.000000</td>\n",
              "      <td>0.010000</td>\n",
              "      <td>0.000000</td>\n",
              "      <td>0.000000</td>\n",
              "      <td>0.100000</td>\n",
              "      <td>4.000000</td>\n",
              "      <td>0.300000</td>\n",
              "      <td>1.000000</td>\n",
              "      <td>1.000000</td>\n",
              "      <td>0.000000</td>\n",
              "      <td>1.000000</td>\n",
              "      <td>39.000000</td>\n",
              "      <td>30.000000</td>\n",
              "      <td>16.200000</td>\n",
              "      <td>0.000000</td>\n",
              "      <td>40.000000</td>\n",
              "      <td>4.000000</td>\n",
              "      <td>117.000000</td>\n",
              "      <td>32.100000</td>\n",
              "      <td>0.000000</td>\n",
              "      <td>0.000000</td>\n",
              "      <td>0.900000</td>\n",
              "      <td>46.000000</td>\n",
              "      <td>13.000000</td>\n",
              "      <td>46.000000</td>\n",
              "      <td>13.000000</td>\n",
              "      <td>58.000000</td>\n",
              "      <td>0.000000</td>\n",
              "      <td>...</td>\n",
              "      <td>6.200000</td>\n",
              "      <td>5.500000</td>\n",
              "      <td>0.340000</td>\n",
              "      <td>0.300000</td>\n",
              "      <td>73.000000</td>\n",
              "      <td>33.000000</td>\n",
              "      <td>12.000000</td>\n",
              "      <td>7.000000</td>\n",
              "      <td>6.800000</td>\n",
              "      <td>5.300000</td>\n",
              "      <td>20.400000</td>\n",
              "      <td>16.100000</td>\n",
              "      <td>0.900000</td>\n",
              "      <td>0.900000</td>\n",
              "      <td>27.000000</td>\n",
              "      <td>18.550000</td>\n",
              "      <td>2.800000</td>\n",
              "      <td>2.400000</td>\n",
              "      <td>123.000000</td>\n",
              "      <td>117.000000</td>\n",
              "      <td>1.200000</td>\n",
              "      <td>0.900000</td>\n",
              "      <td>59.000000</td>\n",
              "      <td>42.000000</td>\n",
              "      <td>0.900000</td>\n",
              "      <td>0.900000</td>\n",
              "      <td>18.400000</td>\n",
              "      <td>14.900000</td>\n",
              "      <td>7.05428</td>\n",
              "      <td>6.890000</td>\n",
              "      <td>39.000000</td>\n",
              "      <td>28.000000</td>\n",
              "      <td>0.000000</td>\n",
              "      <td>0.000000</td>\n",
              "      <td>0.000000</td>\n",
              "      <td>0.000000</td>\n",
              "      <td>0.000000</td>\n",
              "      <td>0.000000</td>\n",
              "      <td>0.000000</td>\n",
              "      <td>0.000000</td>\n",
              "    </tr>\n",
              "    <tr>\n",
              "      <th>25%</th>\n",
              "      <td>31874.250000</td>\n",
              "      <td>179971.250000</td>\n",
              "      <td>48.000000</td>\n",
              "      <td>54.000000</td>\n",
              "      <td>24.228198</td>\n",
              "      <td>0.000000</td>\n",
              "      <td>162.500000</td>\n",
              "      <td>426.000000</td>\n",
              "      <td>0.047222</td>\n",
              "      <td>0.0</td>\n",
              "      <td>68.100000</td>\n",
              "      <td>2.400000</td>\n",
              "      <td>113.000000</td>\n",
              "      <td>203.010000</td>\n",
              "      <td>0.000000</td>\n",
              "      <td>0.000000</td>\n",
              "      <td>0.400000</td>\n",
              "      <td>13.000000</td>\n",
              "      <td>0.740000</td>\n",
              "      <td>3.000000</td>\n",
              "      <td>6.000000</td>\n",
              "      <td>0.000000</td>\n",
              "      <td>4.000000</td>\n",
              "      <td>101.000000</td>\n",
              "      <td>87.000000</td>\n",
              "      <td>27.900000</td>\n",
              "      <td>0.000000</td>\n",
              "      <td>53.000000</td>\n",
              "      <td>11.000000</td>\n",
              "      <td>135.000000</td>\n",
              "      <td>36.200000</td>\n",
              "      <td>790.884000</td>\n",
              "      <td>0.000000</td>\n",
              "      <td>7.600000</td>\n",
              "      <td>74.000000</td>\n",
              "      <td>41.000000</td>\n",
              "      <td>74.000000</td>\n",
              "      <td>41.000000</td>\n",
              "      <td>88.000000</td>\n",
              "      <td>60.000000</td>\n",
              "      <td>...</td>\n",
              "      <td>7.900000</td>\n",
              "      <td>7.700000</td>\n",
              "      <td>0.790000</td>\n",
              "      <td>0.740000</td>\n",
              "      <td>128.000000</td>\n",
              "      <td>91.000000</td>\n",
              "      <td>22.000000</td>\n",
              "      <td>20.000000</td>\n",
              "      <td>9.700000</td>\n",
              "      <td>9.100000</td>\n",
              "      <td>29.700000</td>\n",
              "      <td>27.900000</td>\n",
              "      <td>1.100000</td>\n",
              "      <td>1.100000</td>\n",
              "      <td>148.000000</td>\n",
              "      <td>137.000000</td>\n",
              "      <td>3.800000</td>\n",
              "      <td>3.600000</td>\n",
              "      <td>136.000000</td>\n",
              "      <td>135.000000</td>\n",
              "      <td>8.100000</td>\n",
              "      <td>7.500000</td>\n",
              "      <td>118.000000</td>\n",
              "      <td>112.000000</td>\n",
              "      <td>1.100000</td>\n",
              "      <td>1.100000</td>\n",
              "      <td>36.000000</td>\n",
              "      <td>31.700000</td>\n",
              "      <td>7.34000</td>\n",
              "      <td>7.270000</td>\n",
              "      <td>88.000000</td>\n",
              "      <td>68.000000</td>\n",
              "      <td>0.000000</td>\n",
              "      <td>0.000000</td>\n",
              "      <td>0.000000</td>\n",
              "      <td>0.000000</td>\n",
              "      <td>0.000000</td>\n",
              "      <td>0.000000</td>\n",
              "      <td>0.000000</td>\n",
              "      <td>0.000000</td>\n",
              "    </tr>\n",
              "    <tr>\n",
              "      <th>50%</th>\n",
              "      <td>64146.500000</td>\n",
              "      <td>213120.500000</td>\n",
              "      <td>114.000000</td>\n",
              "      <td>65.000000</td>\n",
              "      <td>28.458338</td>\n",
              "      <td>0.000000</td>\n",
              "      <td>170.100000</td>\n",
              "      <td>653.000000</td>\n",
              "      <td>0.160417</td>\n",
              "      <td>0.0</td>\n",
              "      <td>82.300000</td>\n",
              "      <td>2.900000</td>\n",
              "      <td>123.000000</td>\n",
              "      <td>410.010000</td>\n",
              "      <td>0.000000</td>\n",
              "      <td>0.000000</td>\n",
              "      <td>0.600000</td>\n",
              "      <td>20.000000</td>\n",
              "      <td>1.050000</td>\n",
              "      <td>4.000000</td>\n",
              "      <td>6.000000</td>\n",
              "      <td>0.000000</td>\n",
              "      <td>5.000000</td>\n",
              "      <td>162.000000</td>\n",
              "      <td>104.000000</td>\n",
              "      <td>32.800000</td>\n",
              "      <td>0.000000</td>\n",
              "      <td>66.000000</td>\n",
              "      <td>27.000000</td>\n",
              "      <td>138.000000</td>\n",
              "      <td>36.500000</td>\n",
              "      <td>1460.073600</td>\n",
              "      <td>0.000000</td>\n",
              "      <td>10.500000</td>\n",
              "      <td>86.000000</td>\n",
              "      <td>49.000000</td>\n",
              "      <td>86.000000</td>\n",
              "      <td>50.000000</td>\n",
              "      <td>101.000000</td>\n",
              "      <td>70.000000</td>\n",
              "      <td>...</td>\n",
              "      <td>8.400000</td>\n",
              "      <td>8.200000</td>\n",
              "      <td>1.070000</td>\n",
              "      <td>1.000000</td>\n",
              "      <td>170.000000</td>\n",
              "      <td>110.000000</td>\n",
              "      <td>24.000000</td>\n",
              "      <td>23.000000</td>\n",
              "      <td>11.300000</td>\n",
              "      <td>10.800000</td>\n",
              "      <td>34.100000</td>\n",
              "      <td>32.800000</td>\n",
              "      <td>1.300000</td>\n",
              "      <td>1.200000</td>\n",
              "      <td>195.000000</td>\n",
              "      <td>186.000000</td>\n",
              "      <td>4.200000</td>\n",
              "      <td>3.900000</td>\n",
              "      <td>139.000000</td>\n",
              "      <td>138.000000</td>\n",
              "      <td>11.100000</td>\n",
              "      <td>10.200000</td>\n",
              "      <td>155.000000</td>\n",
              "      <td>147.000000</td>\n",
              "      <td>1.300000</td>\n",
              "      <td>1.200000</td>\n",
              "      <td>43.000000</td>\n",
              "      <td>37.000000</td>\n",
              "      <td>7.39000</td>\n",
              "      <td>7.338000</td>\n",
              "      <td>125.000000</td>\n",
              "      <td>84.200000</td>\n",
              "      <td>0.000000</td>\n",
              "      <td>0.000000</td>\n",
              "      <td>0.000000</td>\n",
              "      <td>0.000000</td>\n",
              "      <td>0.000000</td>\n",
              "      <td>0.000000</td>\n",
              "      <td>0.000000</td>\n",
              "      <td>0.500000</td>\n",
              "    </tr>\n",
              "    <tr>\n",
              "      <th>75%</th>\n",
              "      <td>96075.500000</td>\n",
              "      <td>245978.500000</td>\n",
              "      <td>165.000000</td>\n",
              "      <td>75.000000</td>\n",
              "      <td>34.008545</td>\n",
              "      <td>0.000000</td>\n",
              "      <td>177.800000</td>\n",
              "      <td>966.000000</td>\n",
              "      <td>0.450000</td>\n",
              "      <td>0.0</td>\n",
              "      <td>100.000000</td>\n",
              "      <td>3.300000</td>\n",
              "      <td>301.000000</td>\n",
              "      <td>703.030000</td>\n",
              "      <td>0.000000</td>\n",
              "      <td>0.000000</td>\n",
              "      <td>1.100000</td>\n",
              "      <td>35.000000</td>\n",
              "      <td>1.700000</td>\n",
              "      <td>4.000000</td>\n",
              "      <td>6.000000</td>\n",
              "      <td>0.000000</td>\n",
              "      <td>5.000000</td>\n",
              "      <td>231.000000</td>\n",
              "      <td>119.000000</td>\n",
              "      <td>37.500000</td>\n",
              "      <td>0.000000</td>\n",
              "      <td>124.000000</td>\n",
              "      <td>35.000000</td>\n",
              "      <td>141.000000</td>\n",
              "      <td>36.700000</td>\n",
              "      <td>2425.896000</td>\n",
              "      <td>1.000000</td>\n",
              "      <td>15.300000</td>\n",
              "      <td>99.000000</td>\n",
              "      <td>58.000000</td>\n",
              "      <td>99.000000</td>\n",
              "      <td>58.000000</td>\n",
              "      <td>116.000000</td>\n",
              "      <td>81.000000</td>\n",
              "      <td>...</td>\n",
              "      <td>8.900000</td>\n",
              "      <td>8.700000</td>\n",
              "      <td>1.700000</td>\n",
              "      <td>1.540000</td>\n",
              "      <td>238.000000</td>\n",
              "      <td>136.000000</td>\n",
              "      <td>27.000000</td>\n",
              "      <td>26.000000</td>\n",
              "      <td>12.800000</td>\n",
              "      <td>12.500000</td>\n",
              "      <td>38.500000</td>\n",
              "      <td>37.500000</td>\n",
              "      <td>1.600000</td>\n",
              "      <td>1.500000</td>\n",
              "      <td>252.000000</td>\n",
              "      <td>242.000000</td>\n",
              "      <td>4.600000</td>\n",
              "      <td>4.300000</td>\n",
              "      <td>142.000000</td>\n",
              "      <td>140.000000</td>\n",
              "      <td>15.362500</td>\n",
              "      <td>13.700000</td>\n",
              "      <td>220.000000</td>\n",
              "      <td>209.000000</td>\n",
              "      <td>1.600000</td>\n",
              "      <td>1.500000</td>\n",
              "      <td>50.000000</td>\n",
              "      <td>43.000000</td>\n",
              "      <td>7.44000</td>\n",
              "      <td>7.392000</td>\n",
              "      <td>203.950000</td>\n",
              "      <td>114.000000</td>\n",
              "      <td>0.000000</td>\n",
              "      <td>0.000000</td>\n",
              "      <td>0.000000</td>\n",
              "      <td>0.000000</td>\n",
              "      <td>0.000000</td>\n",
              "      <td>0.000000</td>\n",
              "      <td>0.000000</td>\n",
              "      <td>1.000000</td>\n",
              "    </tr>\n",
              "    <tr>\n",
              "      <th>max</th>\n",
              "      <td>130155.000000</td>\n",
              "      <td>278998.000000</td>\n",
              "      <td>204.000000</td>\n",
              "      <td>89.000000</td>\n",
              "      <td>67.814990</td>\n",
              "      <td>1.000000</td>\n",
              "      <td>195.590000</td>\n",
              "      <td>1111.000000</td>\n",
              "      <td>175.627778</td>\n",
              "      <td>0.0</td>\n",
              "      <td>186.000000</td>\n",
              "      <td>4.600000</td>\n",
              "      <td>308.000000</td>\n",
              "      <td>2201.050000</td>\n",
              "      <td>1.000000</td>\n",
              "      <td>1.000000</td>\n",
              "      <td>60.200000</td>\n",
              "      <td>127.000000</td>\n",
              "      <td>11.180000</td>\n",
              "      <td>4.000000</td>\n",
              "      <td>6.000000</td>\n",
              "      <td>1.000000</td>\n",
              "      <td>5.000000</td>\n",
              "      <td>598.700000</td>\n",
              "      <td>178.000000</td>\n",
              "      <td>51.400000</td>\n",
              "      <td>1.000000</td>\n",
              "      <td>200.000000</td>\n",
              "      <td>60.000000</td>\n",
              "      <td>158.000000</td>\n",
              "      <td>39.700000</td>\n",
              "      <td>8716.669632</td>\n",
              "      <td>1.000000</td>\n",
              "      <td>45.800000</td>\n",
              "      <td>165.000000</td>\n",
              "      <td>90.000000</td>\n",
              "      <td>165.000000</td>\n",
              "      <td>90.000000</td>\n",
              "      <td>177.000000</td>\n",
              "      <td>160.000000</td>\n",
              "      <td>...</td>\n",
              "      <td>10.800000</td>\n",
              "      <td>10.300000</td>\n",
              "      <td>11.110000</td>\n",
              "      <td>9.937900</td>\n",
              "      <td>611.000000</td>\n",
              "      <td>288.000000</td>\n",
              "      <td>40.000000</td>\n",
              "      <td>39.000000</td>\n",
              "      <td>17.200000</td>\n",
              "      <td>16.700000</td>\n",
              "      <td>51.500000</td>\n",
              "      <td>50.000000</td>\n",
              "      <td>7.756000</td>\n",
              "      <td>6.127000</td>\n",
              "      <td>585.000000</td>\n",
              "      <td>557.450000</td>\n",
              "      <td>7.000000</td>\n",
              "      <td>5.800000</td>\n",
              "      <td>158.000000</td>\n",
              "      <td>153.000000</td>\n",
              "      <td>46.080000</td>\n",
              "      <td>40.898000</td>\n",
              "      <td>695.045000</td>\n",
              "      <td>670.000000</td>\n",
              "      <td>7.756000</td>\n",
              "      <td>6.127000</td>\n",
              "      <td>111.000000</td>\n",
              "      <td>85.912000</td>\n",
              "      <td>7.62000</td>\n",
              "      <td>7.557860</td>\n",
              "      <td>540.865000</td>\n",
              "      <td>448.892000</td>\n",
              "      <td>1.000000</td>\n",
              "      <td>1.000000</td>\n",
              "      <td>1.000000</td>\n",
              "      <td>1.000000</td>\n",
              "      <td>1.000000</td>\n",
              "      <td>1.000000</td>\n",
              "      <td>1.000000</td>\n",
              "      <td>1.000000</td>\n",
              "    </tr>\n",
              "  </tbody>\n",
              "</table>\n",
              "<p>8 rows × 120 columns</p>\n",
              "</div>"
            ],
            "text/plain": [
              "          Unnamed: 0  ...  diabetes_mellitus\n",
              "count   56302.000000  ...       56302.000000\n",
              "mean    64424.550513  ...           0.500000\n",
              "std     37291.625559  ...           0.500004\n",
              "min         1.000000  ...           0.000000\n",
              "25%     31874.250000  ...           0.000000\n",
              "50%     64146.500000  ...           0.500000\n",
              "75%     96075.500000  ...           1.000000\n",
              "max    130155.000000  ...           1.000000\n",
              "\n",
              "[8 rows x 120 columns]"
            ]
          },
          "metadata": {
            "tags": []
          },
          "execution_count": 48
        }
      ]
    },
    {
      "cell_type": "code",
      "metadata": {
        "colab": {
          "base_uri": "https://localhost:8080/"
        },
        "id": "FJFn2ziyay48",
        "outputId": "2789dafa-5937-4bbd-f275-2d454fde92c6"
      },
      "source": [
        "sample_df_B['diabetes_mellitus'].value_counts()"
      ],
      "execution_count": 49,
      "outputs": [
        {
          "output_type": "execute_result",
          "data": {
            "text/plain": [
              "1    28151\n",
              "0    28151\n",
              "Name: diabetes_mellitus, dtype: int64"
            ]
          },
          "metadata": {
            "tags": []
          },
          "execution_count": 49
        }
      ]
    },
    {
      "cell_type": "markdown",
      "metadata": {
        "id": "YH2DJ3_jbX7-"
      },
      "source": [
        "##Drop Features Not Associated with Patient Vitals"
      ]
    },
    {
      "cell_type": "code",
      "metadata": {
        "colab": {
          "base_uri": "https://localhost:8080/"
        },
        "id": "v6pr7PVba9P0",
        "outputId": "d9caf6ba-ef7c-4e7e-c5bb-cc29ba36d811"
      },
      "source": [
        "drop_cols2 =['Unnamed: 0',\n",
        " 'encounter_id',\n",
        " 'hospital_id',\n",
        " 'elective_surgery',\n",
        " 'hospital_admit_source',\n",
        " 'icu_admit_source',\n",
        " 'icu_id',\n",
        " 'icu_stay_type',\n",
        " 'icu_type',\n",
        " 'pre_icu_los_days',\n",
        " 'readmission_status',\n",
        " ]\n",
        "\n",
        "sample_df_B2=sample_df_B.drop(drop_cols2, axis=1)\n",
        "sample_df_B2.shape"
      ],
      "execution_count": 52,
      "outputs": [
        {
          "output_type": "execute_result",
          "data": {
            "text/plain": [
              "(56302, 115)"
            ]
          },
          "metadata": {
            "tags": []
          },
          "execution_count": 52
        }
      ]
    },
    {
      "cell_type": "markdown",
      "metadata": {
        "id": "-hUK1GDTdV7W"
      },
      "source": [
        "##Encode Categorical Data in sample_df_B2 (Sample set of df_B)"
      ]
    },
    {
      "cell_type": "code",
      "metadata": {
        "colab": {
          "base_uri": "https://localhost:8080/"
        },
        "id": "TFTYs1oocgQF",
        "outputId": "f92db1ef-e48e-4940-c6c4-658515de72c2"
      },
      "source": [
        "sample_df_B2.select_dtypes(include=['object']).columns"
      ],
      "execution_count": 57,
      "outputs": [
        {
          "output_type": "execute_result",
          "data": {
            "text/plain": [
              "Index(['ethnicity', 'gender'], dtype='object')"
            ]
          },
          "metadata": {
            "tags": []
          },
          "execution_count": 57
        }
      ]
    },
    {
      "cell_type": "code",
      "metadata": {
        "colab": {
          "base_uri": "https://localhost:8080/"
        },
        "id": "nisLnoJqdo3H",
        "outputId": "bce372dd-f9a6-4dc6-ebc6-d9502fe3345b"
      },
      "source": [
        "demo_cat=pd.get_dummies(sample_df_B2[['gender','ethnicity']])\n",
        "sample_df_B3 = sample_df_B2.join(demo_cat)\n",
        "sample_df_B3=sample_df_B3.drop(['gender','ethnicity'], axis=1)\n",
        "sample_df_B3.shape"
      ],
      "execution_count": 60,
      "outputs": [
        {
          "output_type": "execute_result",
          "data": {
            "text/plain": [
              "(56302, 121)"
            ]
          },
          "metadata": {
            "tags": []
          },
          "execution_count": 60
        }
      ]
    },
    {
      "cell_type": "markdown",
      "metadata": {
        "id": "7IDkaj5RfHzf"
      },
      "source": [
        "##Normalize All Numerical Data in sample_df  using a max min scaler\n",
        "lambda x: (x - x.min()) / (x.max() - x.min()) (sample_df_B4)"
      ]
    },
    {
      "cell_type": "code",
      "metadata": {
        "colab": {
          "base_uri": "https://localhost:8080/",
          "height": 363
        },
        "id": "L-cScDYDfHWr",
        "outputId": "cdf354cb-f72b-4f4a-cfa7-eeb87720b80e"
      },
      "source": [
        "sample_df_B4 = sample_df_B3.apply(lambda x: (x - x.min()) / (x.max() - x.min()))\n",
        "sample_df_B4.describe()"
      ],
      "execution_count": 62,
      "outputs": [
        {
          "output_type": "execute_result",
          "data": {
            "text/html": [
              "<div>\n",
              "<style scoped>\n",
              "    .dataframe tbody tr th:only-of-type {\n",
              "        vertical-align: middle;\n",
              "    }\n",
              "\n",
              "    .dataframe tbody tr th {\n",
              "        vertical-align: top;\n",
              "    }\n",
              "\n",
              "    .dataframe thead th {\n",
              "        text-align: right;\n",
              "    }\n",
              "</style>\n",
              "<table border=\"1\" class=\"dataframe\">\n",
              "  <thead>\n",
              "    <tr style=\"text-align: right;\">\n",
              "      <th></th>\n",
              "      <th>age</th>\n",
              "      <th>bmi</th>\n",
              "      <th>height</th>\n",
              "      <th>weight</th>\n",
              "      <th>albumin_apache</th>\n",
              "      <th>apache_2_diagnosis</th>\n",
              "      <th>apache_3j_diagnosis</th>\n",
              "      <th>apache_post_operative</th>\n",
              "      <th>arf_apache</th>\n",
              "      <th>bilirubin_apache</th>\n",
              "      <th>bun_apache</th>\n",
              "      <th>creatinine_apache</th>\n",
              "      <th>gcs_eyes_apache</th>\n",
              "      <th>gcs_motor_apache</th>\n",
              "      <th>gcs_unable_apache</th>\n",
              "      <th>gcs_verbal_apache</th>\n",
              "      <th>glucose_apache</th>\n",
              "      <th>heart_rate_apache</th>\n",
              "      <th>hematocrit_apache</th>\n",
              "      <th>intubated_apache</th>\n",
              "      <th>map_apache</th>\n",
              "      <th>resprate_apache</th>\n",
              "      <th>sodium_apache</th>\n",
              "      <th>temp_apache</th>\n",
              "      <th>urineoutput_apache</th>\n",
              "      <th>ventilated_apache</th>\n",
              "      <th>wbc_apache</th>\n",
              "      <th>d1_diasbp_max</th>\n",
              "      <th>d1_diasbp_min</th>\n",
              "      <th>d1_diasbp_noninvasive_max</th>\n",
              "      <th>d1_diasbp_noninvasive_min</th>\n",
              "      <th>d1_heartrate_max</th>\n",
              "      <th>d1_heartrate_min</th>\n",
              "      <th>d1_mbp_max</th>\n",
              "      <th>d1_mbp_min</th>\n",
              "      <th>d1_mbp_noninvasive_max</th>\n",
              "      <th>d1_mbp_noninvasive_min</th>\n",
              "      <th>d1_resprate_max</th>\n",
              "      <th>d1_resprate_min</th>\n",
              "      <th>d1_spo2_max</th>\n",
              "      <th>...</th>\n",
              "      <th>d1_hemaglobin_max</th>\n",
              "      <th>d1_hemaglobin_min</th>\n",
              "      <th>d1_hematocrit_max</th>\n",
              "      <th>d1_hematocrit_min</th>\n",
              "      <th>d1_inr_max</th>\n",
              "      <th>d1_inr_min</th>\n",
              "      <th>d1_platelets_max</th>\n",
              "      <th>d1_platelets_min</th>\n",
              "      <th>d1_potassium_max</th>\n",
              "      <th>d1_potassium_min</th>\n",
              "      <th>d1_sodium_max</th>\n",
              "      <th>d1_sodium_min</th>\n",
              "      <th>d1_wbc_max</th>\n",
              "      <th>d1_wbc_min</th>\n",
              "      <th>h1_glucose_max</th>\n",
              "      <th>h1_glucose_min</th>\n",
              "      <th>h1_inr_max</th>\n",
              "      <th>h1_inr_min</th>\n",
              "      <th>d1_arterial_pco2_max</th>\n",
              "      <th>d1_arterial_pco2_min</th>\n",
              "      <th>d1_arterial_ph_max</th>\n",
              "      <th>d1_arterial_ph_min</th>\n",
              "      <th>d1_arterial_po2_max</th>\n",
              "      <th>d1_arterial_po2_min</th>\n",
              "      <th>aids</th>\n",
              "      <th>cirrhosis</th>\n",
              "      <th>hepatic_failure</th>\n",
              "      <th>immunosuppression</th>\n",
              "      <th>leukemia</th>\n",
              "      <th>lymphoma</th>\n",
              "      <th>solid_tumor_with_metastasis</th>\n",
              "      <th>diabetes_mellitus</th>\n",
              "      <th>gender_F</th>\n",
              "      <th>gender_M</th>\n",
              "      <th>ethnicity_African American</th>\n",
              "      <th>ethnicity_Asian</th>\n",
              "      <th>ethnicity_Caucasian</th>\n",
              "      <th>ethnicity_Hispanic</th>\n",
              "      <th>ethnicity_Native American</th>\n",
              "      <th>ethnicity_Other/Unknown</th>\n",
              "    </tr>\n",
              "  </thead>\n",
              "  <tbody>\n",
              "    <tr>\n",
              "      <th>count</th>\n",
              "      <td>54456.000000</td>\n",
              "      <td>54415.000000</td>\n",
              "      <td>55514.000000</td>\n",
              "      <td>54811.000000</td>\n",
              "      <td>22834.000000</td>\n",
              "      <td>55689.000000</td>\n",
              "      <td>56021.000000</td>\n",
              "      <td>56302.000000</td>\n",
              "      <td>56302.000000</td>\n",
              "      <td>20820.000000</td>\n",
              "      <td>45897.000000</td>\n",
              "      <td>46114.000000</td>\n",
              "      <td>55450.000000</td>\n",
              "      <td>55450.00000</td>\n",
              "      <td>56054.000000</td>\n",
              "      <td>55450.000000</td>\n",
              "      <td>51507.000000</td>\n",
              "      <td>56192.000000</td>\n",
              "      <td>44851.000000</td>\n",
              "      <td>56302.000000</td>\n",
              "      <td>56148.000000</td>\n",
              "      <td>55971.000000</td>\n",
              "      <td>46269.000000</td>\n",
              "      <td>53472.000000</td>\n",
              "      <td>28174.000000</td>\n",
              "      <td>56302.000000</td>\n",
              "      <td>43748.000000</td>\n",
              "      <td>56197.000000</td>\n",
              "      <td>56197.000000</td>\n",
              "      <td>55590.000000</td>\n",
              "      <td>55590.000000</td>\n",
              "      <td>56203.000000</td>\n",
              "      <td>56203.000000</td>\n",
              "      <td>56180.000000</td>\n",
              "      <td>56180.000000</td>\n",
              "      <td>55315.000000</td>\n",
              "      <td>55315.000000</td>\n",
              "      <td>56026.000000</td>\n",
              "      <td>56026.000000</td>\n",
              "      <td>56100.000000</td>\n",
              "      <td>...</td>\n",
              "      <td>49462.000000</td>\n",
              "      <td>49462.000000</td>\n",
              "      <td>49696.000000</td>\n",
              "      <td>49696.000000</td>\n",
              "      <td>21150.000000</td>\n",
              "      <td>21150.000000</td>\n",
              "      <td>48505.000000</td>\n",
              "      <td>48505.000000</td>\n",
              "      <td>51441.000000</td>\n",
              "      <td>51441.000000</td>\n",
              "      <td>51083.000000</td>\n",
              "      <td>51083.000000</td>\n",
              "      <td>48964.000000</td>\n",
              "      <td>48964.000000</td>\n",
              "      <td>26572.000000</td>\n",
              "      <td>26572.000000</td>\n",
              "      <td>21150.000000</td>\n",
              "      <td>21150.000000</td>\n",
              "      <td>20159.000000</td>\n",
              "      <td>20159.000000</td>\n",
              "      <td>20020.000000</td>\n",
              "      <td>20020.000000</td>\n",
              "      <td>20387.000000</td>\n",
              "      <td>20387.000000</td>\n",
              "      <td>56302.000000</td>\n",
              "      <td>56302.000000</td>\n",
              "      <td>56302.000000</td>\n",
              "      <td>56302.000000</td>\n",
              "      <td>56302.000000</td>\n",
              "      <td>56302.000000</td>\n",
              "      <td>56302.000000</td>\n",
              "      <td>56302.000000</td>\n",
              "      <td>56302.000000</td>\n",
              "      <td>56302.000000</td>\n",
              "      <td>56302.000000</td>\n",
              "      <td>56302.000000</td>\n",
              "      <td>56302.000000</td>\n",
              "      <td>56302.000000</td>\n",
              "      <td>56302.000000</td>\n",
              "      <td>56302.000000</td>\n",
              "    </tr>\n",
              "    <tr>\n",
              "      <th>mean</th>\n",
              "      <td>0.707225</td>\n",
              "      <td>0.287409</td>\n",
              "      <td>0.554780</td>\n",
              "      <td>0.324965</td>\n",
              "      <td>0.490976</td>\n",
              "      <td>0.408097</td>\n",
              "      <td>0.255540</td>\n",
              "      <td>0.204078</td>\n",
              "      <td>0.040336</td>\n",
              "      <td>0.017460</td>\n",
              "      <td>0.193666</td>\n",
              "      <td>0.120497</td>\n",
              "      <td>0.834794</td>\n",
              "      <td>0.90119</td>\n",
              "      <td>0.010775</td>\n",
              "      <td>0.763683</td>\n",
              "      <td>0.256213</td>\n",
              "      <td>0.470836</td>\n",
              "      <td>0.469158</td>\n",
              "      <td>0.156229</td>\n",
              "      <td>0.295612</td>\n",
              "      <td>0.376993</td>\n",
              "      <td>0.506749</td>\n",
              "      <td>0.567932</td>\n",
              "      <td>0.206721</td>\n",
              "      <td>0.336187</td>\n",
              "      <td>0.252281</td>\n",
              "      <td>0.355674</td>\n",
              "      <td>0.472811</td>\n",
              "      <td>0.357122</td>\n",
              "      <td>0.473545</td>\n",
              "      <td>0.378467</td>\n",
              "      <td>0.441858</td>\n",
              "      <td>0.358256</td>\n",
              "      <td>0.468475</td>\n",
              "      <td>0.366896</td>\n",
              "      <td>0.468864</td>\n",
              "      <td>0.189515</td>\n",
              "      <td>0.262782</td>\n",
              "      <td>0.992979</td>\n",
              "      <td>...</td>\n",
              "      <td>0.436481</td>\n",
              "      <td>0.482300</td>\n",
              "      <td>0.445569</td>\n",
              "      <td>0.489242</td>\n",
              "      <td>0.101517</td>\n",
              "      <td>0.110761</td>\n",
              "      <td>0.322033</td>\n",
              "      <td>0.328930</td>\n",
              "      <td>0.356726</td>\n",
              "      <td>0.454542</td>\n",
              "      <td>0.459042</td>\n",
              "      <td>0.569505</td>\n",
              "      <td>0.253421</td>\n",
              "      <td>0.261100</td>\n",
              "      <td>0.203329</td>\n",
              "      <td>0.215852</td>\n",
              "      <td>0.101517</td>\n",
              "      <td>0.110761</td>\n",
              "      <td>0.290283</td>\n",
              "      <td>0.332623</td>\n",
              "      <td>0.587357</td>\n",
              "      <td>0.645232</td>\n",
              "      <td>0.247437</td>\n",
              "      <td>0.174232</td>\n",
              "      <td>0.000764</td>\n",
              "      <td>0.017903</td>\n",
              "      <td>0.014440</td>\n",
              "      <td>0.025079</td>\n",
              "      <td>0.007797</td>\n",
              "      <td>0.004227</td>\n",
              "      <td>0.019644</td>\n",
              "      <td>0.500000</td>\n",
              "      <td>0.454797</td>\n",
              "      <td>0.544901</td>\n",
              "      <td>0.114792</td>\n",
              "      <td>0.017371</td>\n",
              "      <td>0.757362</td>\n",
              "      <td>0.041029</td>\n",
              "      <td>0.008366</td>\n",
              "      <td>0.050513</td>\n",
              "    </tr>\n",
              "    <tr>\n",
              "      <th>std</th>\n",
              "      <td>0.180011</td>\n",
              "      <td>0.163102</td>\n",
              "      <td>0.185341</td>\n",
              "      <td>0.175770</td>\n",
              "      <td>0.199313</td>\n",
              "      <td>0.417110</td>\n",
              "      <td>0.209878</td>\n",
              "      <td>0.403030</td>\n",
              "      <td>0.196748</td>\n",
              "      <td>0.037441</td>\n",
              "      <td>0.176201</td>\n",
              "      <td>0.151501</td>\n",
              "      <td>0.308157</td>\n",
              "      <td>0.24965</td>\n",
              "      <td>0.103244</td>\n",
              "      <td>0.380785</td>\n",
              "      <td>0.185643</td>\n",
              "      <td>0.205164</td>\n",
              "      <td>0.191207</td>\n",
              "      <td>0.363075</td>\n",
              "      <td>0.263974</td>\n",
              "      <td>0.268565</td>\n",
              "      <td>0.129902</td>\n",
              "      <td>0.113927</td>\n",
              "      <td>0.167186</td>\n",
              "      <td>0.472408</td>\n",
              "      <td>0.152657</td>\n",
              "      <td>0.171262</td>\n",
              "      <td>0.172564</td>\n",
              "      <td>0.171084</td>\n",
              "      <td>0.173063</td>\n",
              "      <td>0.182946</td>\n",
              "      <td>0.107053</td>\n",
              "      <td>0.170341</td>\n",
              "      <td>0.171663</td>\n",
              "      <td>0.173513</td>\n",
              "      <td>0.171996</td>\n",
              "      <td>0.135524</td>\n",
              "      <td>0.105187</td>\n",
              "      <td>0.016855</td>\n",
              "      <td>...</td>\n",
              "      <td>0.204719</td>\n",
              "      <td>0.202289</td>\n",
              "      <td>0.197299</td>\n",
              "      <td>0.197923</td>\n",
              "      <td>0.141511</td>\n",
              "      <td>0.144045</td>\n",
              "      <td>0.159880</td>\n",
              "      <td>0.162359</td>\n",
              "      <td>0.163913</td>\n",
              "      <td>0.175005</td>\n",
              "      <td>0.138161</td>\n",
              "      <td>0.137324</td>\n",
              "      <td>0.149823</td>\n",
              "      <td>0.146659</td>\n",
              "      <td>0.171099</td>\n",
              "      <td>0.162848</td>\n",
              "      <td>0.141511</td>\n",
              "      <td>0.144045</td>\n",
              "      <td>0.158013</td>\n",
              "      <td>0.157252</td>\n",
              "      <td>0.153133</td>\n",
              "      <td>0.166813</td>\n",
              "      <td>0.210917</td>\n",
              "      <td>0.141927</td>\n",
              "      <td>0.027626</td>\n",
              "      <td>0.132602</td>\n",
              "      <td>0.119297</td>\n",
              "      <td>0.156367</td>\n",
              "      <td>0.087958</td>\n",
              "      <td>0.064880</td>\n",
              "      <td>0.138775</td>\n",
              "      <td>0.500004</td>\n",
              "      <td>0.497957</td>\n",
              "      <td>0.497984</td>\n",
              "      <td>0.318773</td>\n",
              "      <td>0.130649</td>\n",
              "      <td>0.428682</td>\n",
              "      <td>0.198358</td>\n",
              "      <td>0.091081</td>\n",
              "      <td>0.219004</td>\n",
              "    </tr>\n",
              "    <tr>\n",
              "      <th>min</th>\n",
              "      <td>0.000000</td>\n",
              "      <td>0.000000</td>\n",
              "      <td>0.000000</td>\n",
              "      <td>0.000000</td>\n",
              "      <td>0.000000</td>\n",
              "      <td>0.000000</td>\n",
              "      <td>0.000000</td>\n",
              "      <td>0.000000</td>\n",
              "      <td>0.000000</td>\n",
              "      <td>0.000000</td>\n",
              "      <td>0.000000</td>\n",
              "      <td>0.000000</td>\n",
              "      <td>0.000000</td>\n",
              "      <td>0.00000</td>\n",
              "      <td>0.000000</td>\n",
              "      <td>0.000000</td>\n",
              "      <td>0.000000</td>\n",
              "      <td>0.000000</td>\n",
              "      <td>0.000000</td>\n",
              "      <td>0.000000</td>\n",
              "      <td>0.000000</td>\n",
              "      <td>0.000000</td>\n",
              "      <td>0.000000</td>\n",
              "      <td>0.000000</td>\n",
              "      <td>0.000000</td>\n",
              "      <td>0.000000</td>\n",
              "      <td>0.000000</td>\n",
              "      <td>0.000000</td>\n",
              "      <td>0.000000</td>\n",
              "      <td>0.000000</td>\n",
              "      <td>0.000000</td>\n",
              "      <td>0.000000</td>\n",
              "      <td>0.000000</td>\n",
              "      <td>0.000000</td>\n",
              "      <td>0.000000</td>\n",
              "      <td>0.000000</td>\n",
              "      <td>0.000000</td>\n",
              "      <td>0.000000</td>\n",
              "      <td>0.000000</td>\n",
              "      <td>0.000000</td>\n",
              "      <td>...</td>\n",
              "      <td>0.000000</td>\n",
              "      <td>0.000000</td>\n",
              "      <td>0.000000</td>\n",
              "      <td>0.000000</td>\n",
              "      <td>0.000000</td>\n",
              "      <td>0.000000</td>\n",
              "      <td>0.000000</td>\n",
              "      <td>0.000000</td>\n",
              "      <td>0.000000</td>\n",
              "      <td>0.000000</td>\n",
              "      <td>0.000000</td>\n",
              "      <td>0.000000</td>\n",
              "      <td>0.000000</td>\n",
              "      <td>0.000000</td>\n",
              "      <td>0.000000</td>\n",
              "      <td>0.000000</td>\n",
              "      <td>0.000000</td>\n",
              "      <td>0.000000</td>\n",
              "      <td>0.000000</td>\n",
              "      <td>0.000000</td>\n",
              "      <td>0.000000</td>\n",
              "      <td>0.000000</td>\n",
              "      <td>0.000000</td>\n",
              "      <td>0.000000</td>\n",
              "      <td>0.000000</td>\n",
              "      <td>0.000000</td>\n",
              "      <td>0.000000</td>\n",
              "      <td>0.000000</td>\n",
              "      <td>0.000000</td>\n",
              "      <td>0.000000</td>\n",
              "      <td>0.000000</td>\n",
              "      <td>0.000000</td>\n",
              "      <td>0.000000</td>\n",
              "      <td>0.000000</td>\n",
              "      <td>0.000000</td>\n",
              "      <td>0.000000</td>\n",
              "      <td>0.000000</td>\n",
              "      <td>0.000000</td>\n",
              "      <td>0.000000</td>\n",
              "      <td>0.000000</td>\n",
              "    </tr>\n",
              "    <tr>\n",
              "      <th>25%</th>\n",
              "      <td>0.606742</td>\n",
              "      <td>0.177143</td>\n",
              "      <td>0.433293</td>\n",
              "      <td>0.200136</td>\n",
              "      <td>0.352941</td>\n",
              "      <td>0.057971</td>\n",
              "      <td>0.092229</td>\n",
              "      <td>0.000000</td>\n",
              "      <td>0.000000</td>\n",
              "      <td>0.004992</td>\n",
              "      <td>0.073171</td>\n",
              "      <td>0.040441</td>\n",
              "      <td>0.666667</td>\n",
              "      <td>1.00000</td>\n",
              "      <td>0.000000</td>\n",
              "      <td>0.750000</td>\n",
              "      <td>0.110774</td>\n",
              "      <td>0.385135</td>\n",
              "      <td>0.332386</td>\n",
              "      <td>0.000000</td>\n",
              "      <td>0.081250</td>\n",
              "      <td>0.125000</td>\n",
              "      <td>0.439024</td>\n",
              "      <td>0.539474</td>\n",
              "      <td>0.090732</td>\n",
              "      <td>0.000000</td>\n",
              "      <td>0.149220</td>\n",
              "      <td>0.235294</td>\n",
              "      <td>0.363636</td>\n",
              "      <td>0.235294</td>\n",
              "      <td>0.363636</td>\n",
              "      <td>0.252101</td>\n",
              "      <td>0.375000</td>\n",
              "      <td>0.241935</td>\n",
              "      <td>0.355556</td>\n",
              "      <td>0.247934</td>\n",
              "      <td>0.355556</td>\n",
              "      <td>0.102564</td>\n",
              "      <td>0.208333</td>\n",
              "      <td>0.990000</td>\n",
              "      <td>...</td>\n",
              "      <td>0.278846</td>\n",
              "      <td>0.333333</td>\n",
              "      <td>0.299035</td>\n",
              "      <td>0.348083</td>\n",
              "      <td>0.029172</td>\n",
              "      <td>0.038263</td>\n",
              "      <td>0.216846</td>\n",
              "      <td>0.219800</td>\n",
              "      <td>0.238095</td>\n",
              "      <td>0.352941</td>\n",
              "      <td>0.371429</td>\n",
              "      <td>0.500000</td>\n",
              "      <td>0.153743</td>\n",
              "      <td>0.165008</td>\n",
              "      <td>0.092761</td>\n",
              "      <td>0.111465</td>\n",
              "      <td>0.029172</td>\n",
              "      <td>0.038263</td>\n",
              "      <td>0.190065</td>\n",
              "      <td>0.236580</td>\n",
              "      <td>0.505056</td>\n",
              "      <td>0.568982</td>\n",
              "      <td>0.097636</td>\n",
              "      <td>0.095036</td>\n",
              "      <td>0.000000</td>\n",
              "      <td>0.000000</td>\n",
              "      <td>0.000000</td>\n",
              "      <td>0.000000</td>\n",
              "      <td>0.000000</td>\n",
              "      <td>0.000000</td>\n",
              "      <td>0.000000</td>\n",
              "      <td>0.000000</td>\n",
              "      <td>0.000000</td>\n",
              "      <td>0.000000</td>\n",
              "      <td>0.000000</td>\n",
              "      <td>0.000000</td>\n",
              "      <td>1.000000</td>\n",
              "      <td>0.000000</td>\n",
              "      <td>0.000000</td>\n",
              "      <td>0.000000</td>\n",
              "    </tr>\n",
              "    <tr>\n",
              "      <th>50%</th>\n",
              "      <td>0.730337</td>\n",
              "      <td>0.257002</td>\n",
              "      <td>0.563453</td>\n",
              "      <td>0.296472</td>\n",
              "      <td>0.500000</td>\n",
              "      <td>0.106280</td>\n",
              "      <td>0.186276</td>\n",
              "      <td>0.000000</td>\n",
              "      <td>0.000000</td>\n",
              "      <td>0.008319</td>\n",
              "      <td>0.130081</td>\n",
              "      <td>0.068934</td>\n",
              "      <td>1.000000</td>\n",
              "      <td>1.00000</td>\n",
              "      <td>0.000000</td>\n",
              "      <td>1.000000</td>\n",
              "      <td>0.219761</td>\n",
              "      <td>0.500000</td>\n",
              "      <td>0.471591</td>\n",
              "      <td>0.000000</td>\n",
              "      <td>0.162500</td>\n",
              "      <td>0.410714</td>\n",
              "      <td>0.512195</td>\n",
              "      <td>0.578947</td>\n",
              "      <td>0.167504</td>\n",
              "      <td>0.000000</td>\n",
              "      <td>0.213808</td>\n",
              "      <td>0.336134</td>\n",
              "      <td>0.467532</td>\n",
              "      <td>0.336134</td>\n",
              "      <td>0.480519</td>\n",
              "      <td>0.361345</td>\n",
              "      <td>0.437500</td>\n",
              "      <td>0.338710</td>\n",
              "      <td>0.455556</td>\n",
              "      <td>0.347107</td>\n",
              "      <td>0.455556</td>\n",
              "      <td>0.153846</td>\n",
              "      <td>0.270833</td>\n",
              "      <td>1.000000</td>\n",
              "      <td>...</td>\n",
              "      <td>0.432692</td>\n",
              "      <td>0.482456</td>\n",
              "      <td>0.440514</td>\n",
              "      <td>0.492625</td>\n",
              "      <td>0.058343</td>\n",
              "      <td>0.057394</td>\n",
              "      <td>0.301075</td>\n",
              "      <td>0.310726</td>\n",
              "      <td>0.333333</td>\n",
              "      <td>0.441176</td>\n",
              "      <td>0.457143</td>\n",
              "      <td>0.583333</td>\n",
              "      <td>0.220588</td>\n",
              "      <td>0.232512</td>\n",
              "      <td>0.150933</td>\n",
              "      <td>0.167197</td>\n",
              "      <td>0.058343</td>\n",
              "      <td>0.057394</td>\n",
              "      <td>0.265659</td>\n",
              "      <td>0.311215</td>\n",
              "      <td>0.593438</td>\n",
              "      <td>0.670799</td>\n",
              "      <td>0.171361</td>\n",
              "      <td>0.133526</td>\n",
              "      <td>0.000000</td>\n",
              "      <td>0.000000</td>\n",
              "      <td>0.000000</td>\n",
              "      <td>0.000000</td>\n",
              "      <td>0.000000</td>\n",
              "      <td>0.000000</td>\n",
              "      <td>0.000000</td>\n",
              "      <td>0.500000</td>\n",
              "      <td>0.000000</td>\n",
              "      <td>1.000000</td>\n",
              "      <td>0.000000</td>\n",
              "      <td>0.000000</td>\n",
              "      <td>1.000000</td>\n",
              "      <td>0.000000</td>\n",
              "      <td>0.000000</td>\n",
              "      <td>0.000000</td>\n",
              "    </tr>\n",
              "    <tr>\n",
              "      <th>75%</th>\n",
              "      <td>0.842697</td>\n",
              "      <td>0.361782</td>\n",
              "      <td>0.695325</td>\n",
              "      <td>0.416554</td>\n",
              "      <td>0.617647</td>\n",
              "      <td>0.966184</td>\n",
              "      <td>0.319404</td>\n",
              "      <td>0.000000</td>\n",
              "      <td>0.000000</td>\n",
              "      <td>0.016639</td>\n",
              "      <td>0.252033</td>\n",
              "      <td>0.128676</td>\n",
              "      <td>1.000000</td>\n",
              "      <td>1.00000</td>\n",
              "      <td>0.000000</td>\n",
              "      <td>1.000000</td>\n",
              "      <td>0.343041</td>\n",
              "      <td>0.601351</td>\n",
              "      <td>0.605114</td>\n",
              "      <td>0.000000</td>\n",
              "      <td>0.525000</td>\n",
              "      <td>0.553571</td>\n",
              "      <td>0.585366</td>\n",
              "      <td>0.605263</td>\n",
              "      <td>0.278305</td>\n",
              "      <td>1.000000</td>\n",
              "      <td>0.320713</td>\n",
              "      <td>0.445378</td>\n",
              "      <td>0.584416</td>\n",
              "      <td>0.445378</td>\n",
              "      <td>0.584416</td>\n",
              "      <td>0.487395</td>\n",
              "      <td>0.506250</td>\n",
              "      <td>0.451613</td>\n",
              "      <td>0.577778</td>\n",
              "      <td>0.462810</td>\n",
              "      <td>0.577778</td>\n",
              "      <td>0.230769</td>\n",
              "      <td>0.333333</td>\n",
              "      <td>1.000000</td>\n",
              "      <td>...</td>\n",
              "      <td>0.576923</td>\n",
              "      <td>0.631579</td>\n",
              "      <td>0.581994</td>\n",
              "      <td>0.631268</td>\n",
              "      <td>0.102100</td>\n",
              "      <td>0.114789</td>\n",
              "      <td>0.403226</td>\n",
              "      <td>0.414641</td>\n",
              "      <td>0.428571</td>\n",
              "      <td>0.558824</td>\n",
              "      <td>0.542857</td>\n",
              "      <td>0.638889</td>\n",
              "      <td>0.315564</td>\n",
              "      <td>0.320016</td>\n",
              "      <td>0.253127</td>\n",
              "      <td>0.265924</td>\n",
              "      <td>0.102100</td>\n",
              "      <td>0.114789</td>\n",
              "      <td>0.341253</td>\n",
              "      <td>0.395708</td>\n",
              "      <td>0.681821</td>\n",
              "      <td>0.751655</td>\n",
              "      <td>0.328674</td>\n",
              "      <td>0.204328</td>\n",
              "      <td>0.000000</td>\n",
              "      <td>0.000000</td>\n",
              "      <td>0.000000</td>\n",
              "      <td>0.000000</td>\n",
              "      <td>0.000000</td>\n",
              "      <td>0.000000</td>\n",
              "      <td>0.000000</td>\n",
              "      <td>1.000000</td>\n",
              "      <td>1.000000</td>\n",
              "      <td>1.000000</td>\n",
              "      <td>0.000000</td>\n",
              "      <td>0.000000</td>\n",
              "      <td>1.000000</td>\n",
              "      <td>0.000000</td>\n",
              "      <td>0.000000</td>\n",
              "      <td>0.000000</td>\n",
              "    </tr>\n",
              "    <tr>\n",
              "      <th>max</th>\n",
              "      <td>1.000000</td>\n",
              "      <td>1.000000</td>\n",
              "      <td>1.000000</td>\n",
              "      <td>1.000000</td>\n",
              "      <td>1.000000</td>\n",
              "      <td>1.000000</td>\n",
              "      <td>1.000000</td>\n",
              "      <td>1.000000</td>\n",
              "      <td>1.000000</td>\n",
              "      <td>1.000000</td>\n",
              "      <td>1.000000</td>\n",
              "      <td>1.000000</td>\n",
              "      <td>1.000000</td>\n",
              "      <td>1.00000</td>\n",
              "      <td>1.000000</td>\n",
              "      <td>1.000000</td>\n",
              "      <td>1.000000</td>\n",
              "      <td>1.000000</td>\n",
              "      <td>1.000000</td>\n",
              "      <td>1.000000</td>\n",
              "      <td>1.000000</td>\n",
              "      <td>1.000000</td>\n",
              "      <td>1.000000</td>\n",
              "      <td>1.000000</td>\n",
              "      <td>1.000000</td>\n",
              "      <td>1.000000</td>\n",
              "      <td>1.000000</td>\n",
              "      <td>1.000000</td>\n",
              "      <td>1.000000</td>\n",
              "      <td>1.000000</td>\n",
              "      <td>1.000000</td>\n",
              "      <td>1.000000</td>\n",
              "      <td>1.000000</td>\n",
              "      <td>1.000000</td>\n",
              "      <td>1.000000</td>\n",
              "      <td>1.000000</td>\n",
              "      <td>1.000000</td>\n",
              "      <td>1.000000</td>\n",
              "      <td>1.000000</td>\n",
              "      <td>1.000000</td>\n",
              "      <td>...</td>\n",
              "      <td>1.000000</td>\n",
              "      <td>1.000000</td>\n",
              "      <td>1.000000</td>\n",
              "      <td>1.000000</td>\n",
              "      <td>1.000000</td>\n",
              "      <td>1.000000</td>\n",
              "      <td>1.000000</td>\n",
              "      <td>1.000000</td>\n",
              "      <td>1.000000</td>\n",
              "      <td>1.000000</td>\n",
              "      <td>1.000000</td>\n",
              "      <td>1.000000</td>\n",
              "      <td>1.000000</td>\n",
              "      <td>1.000000</td>\n",
              "      <td>1.000000</td>\n",
              "      <td>1.000000</td>\n",
              "      <td>1.000000</td>\n",
              "      <td>1.000000</td>\n",
              "      <td>1.000000</td>\n",
              "      <td>1.000000</td>\n",
              "      <td>1.000000</td>\n",
              "      <td>1.000000</td>\n",
              "      <td>1.000000</td>\n",
              "      <td>1.000000</td>\n",
              "      <td>1.000000</td>\n",
              "      <td>1.000000</td>\n",
              "      <td>1.000000</td>\n",
              "      <td>1.000000</td>\n",
              "      <td>1.000000</td>\n",
              "      <td>1.000000</td>\n",
              "      <td>1.000000</td>\n",
              "      <td>1.000000</td>\n",
              "      <td>1.000000</td>\n",
              "      <td>1.000000</td>\n",
              "      <td>1.000000</td>\n",
              "      <td>1.000000</td>\n",
              "      <td>1.000000</td>\n",
              "      <td>1.000000</td>\n",
              "      <td>1.000000</td>\n",
              "      <td>1.000000</td>\n",
              "    </tr>\n",
              "  </tbody>\n",
              "</table>\n",
              "<p>8 rows × 121 columns</p>\n",
              "</div>"
            ],
            "text/plain": [
              "                age  ...  ethnicity_Other/Unknown\n",
              "count  54456.000000  ...             56302.000000\n",
              "mean       0.707225  ...                 0.050513\n",
              "std        0.180011  ...                 0.219004\n",
              "min        0.000000  ...                 0.000000\n",
              "25%        0.606742  ...                 0.000000\n",
              "50%        0.730337  ...                 0.000000\n",
              "75%        0.842697  ...                 0.000000\n",
              "max        1.000000  ...                 1.000000\n",
              "\n",
              "[8 rows x 121 columns]"
            ]
          },
          "metadata": {
            "tags": []
          },
          "execution_count": 62
        }
      ]
    },
    {
      "cell_type": "markdown",
      "metadata": {
        "id": "pT2ybWdDgzoj"
      },
      "source": [
        "##Set Features and Target (sample of df_B) & Training, Test Split"
      ]
    },
    {
      "cell_type": "code",
      "metadata": {
        "id": "Y9BYidCOe7ES"
      },
      "source": [
        "y_b=sample_df_B4['diabetes_mellitus']\n",
        "X_b=sample_df_B4.drop(['diabetes_mellitus'], axis=1)\n",
        "\n",
        "X_b_train, X_b_test, y_b_train,y_b_test =train_test_split(X_b,y_b, random_state=40)"
      ],
      "execution_count": 83,
      "outputs": []
    },
    {
      "cell_type": "code",
      "metadata": {
        "colab": {
          "base_uri": "https://localhost:8080/"
        },
        "id": "z7Q-WgP0RUmZ",
        "outputId": "69176daf-2579-4057-d924-23a9347fa96b"
      },
      "source": [
        "y_b_train.shape, X_b_train.shape"
      ],
      "execution_count": 84,
      "outputs": [
        {
          "output_type": "execute_result",
          "data": {
            "text/plain": [
              "((42226,), (42226, 120))"
            ]
          },
          "metadata": {
            "tags": []
          },
          "execution_count": 84
        }
      ]
    },
    {
      "cell_type": "code",
      "metadata": {
        "colab": {
          "base_uri": "https://localhost:8080/"
        },
        "id": "IVx5fpXnR-N1",
        "outputId": "b166c13f-727a-4994-8200-167f43e06603"
      },
      "source": [
        "y_b_test.shape, X_b_test.shape"
      ],
      "execution_count": 85,
      "outputs": [
        {
          "output_type": "execute_result",
          "data": {
            "text/plain": [
              "((14076,), (14076, 120))"
            ]
          },
          "metadata": {
            "tags": []
          },
          "execution_count": 85
        }
      ]
    },
    {
      "cell_type": "markdown",
      "metadata": {
        "id": "_fmlxLLUkXx8"
      },
      "source": [
        "#Create Training and Predictive Models For df_A (Sample set of 50,000)"
      ]
    },
    {
      "cell_type": "code",
      "metadata": {
        "id": "bz8DChb0kC6A"
      },
      "source": [
        "model_1= XGBClassifier() #used to manage datasets with missing values\n",
        "model_2= Pipeline(([('imputer', KNNImputer()), ('clf', GaussianNB())]))\n",
        "model_3= Pipeline(([('imputer', SimpleImputer()), ('clf', LinearSVC())]))\n",
        "model_4= Pipeline(([('imputer', KNNImputer()), ('clf', RandomForestClassifier())]))\n"
      ],
      "execution_count": 109,
      "outputs": []
    },
    {
      "cell_type": "markdown",
      "metadata": {
        "id": "FUNT_BJrX7Td"
      },
      "source": [
        "## XGBClassifier Model 1 - df_A"
      ]
    },
    {
      "cell_type": "code",
      "metadata": {
        "colab": {
          "base_uri": "https://localhost:8080/"
        },
        "id": "D2yjS-97QFsL",
        "outputId": "a4151391-141a-4516-d7a8-902fb16ad082"
      },
      "source": [
        "model_1.fit(X_a_train,y_a_train)\n"
      ],
      "execution_count": 91,
      "outputs": [
        {
          "output_type": "execute_result",
          "data": {
            "text/plain": [
              "XGBClassifier(base_score=0.5, booster='gbtree', colsample_bylevel=1,\n",
              "              colsample_bynode=1, colsample_bytree=1, gamma=0,\n",
              "              learning_rate=0.1, max_delta_step=0, max_depth=3,\n",
              "              min_child_weight=1, missing=None, n_estimators=100, n_jobs=1,\n",
              "              nthread=None, objective='binary:logistic', random_state=0,\n",
              "              reg_alpha=0, reg_lambda=1, scale_pos_weight=1, seed=None,\n",
              "              silent=None, subsample=1, verbosity=1)"
            ]
          },
          "metadata": {
            "tags": []
          },
          "execution_count": 91
        }
      ]
    },
    {
      "cell_type": "code",
      "metadata": {
        "colab": {
          "base_uri": "https://localhost:8080/"
        },
        "id": "MPfWJ0YRQ6c6",
        "outputId": "971fb4c1-17f9-4cdd-e9d9-f399662605dc"
      },
      "source": [
        "model_1.score(X_a_test,y_a_test)"
      ],
      "execution_count": 92,
      "outputs": [
        {
          "output_type": "execute_result",
          "data": {
            "text/plain": [
              "0.76552"
            ]
          },
          "metadata": {
            "tags": []
          },
          "execution_count": 92
        }
      ]
    },
    {
      "cell_type": "markdown",
      "metadata": {
        "id": "Eq8K_qHiYHeR"
      },
      "source": [
        "##GaussianNB Model 2 - df_A"
      ]
    },
    {
      "cell_type": "code",
      "metadata": {
        "colab": {
          "base_uri": "https://localhost:8080/"
        },
        "id": "wGSk5bmWS5u7",
        "outputId": "a302d894-83cc-4eb9-d74c-5c9e9190a5ef"
      },
      "source": [
        "model_2.fit(X_a_train,y_a_train)"
      ],
      "execution_count": 93,
      "outputs": [
        {
          "output_type": "execute_result",
          "data": {
            "text/plain": [
              "Pipeline(memory=None,\n",
              "         steps=[('imputer',\n",
              "                 KNNImputer(add_indicator=False, copy=True,\n",
              "                            metric='nan_euclidean', missing_values=nan,\n",
              "                            n_neighbors=5, weights='uniform')),\n",
              "                ('clf', GaussianNB(priors=None, var_smoothing=1e-09))],\n",
              "         verbose=False)"
            ]
          },
          "metadata": {
            "tags": []
          },
          "execution_count": 93
        }
      ]
    },
    {
      "cell_type": "code",
      "metadata": {
        "colab": {
          "base_uri": "https://localhost:8080/"
        },
        "id": "i1gzJR8NTQom",
        "outputId": "93186126-cb93-4586-e7af-37c9b77121e8"
      },
      "source": [
        "model_2.score(X_a_test,y_a_test)"
      ],
      "execution_count": 94,
      "outputs": [
        {
          "output_type": "execute_result",
          "data": {
            "text/plain": [
              "0.59888"
            ]
          },
          "metadata": {
            "tags": []
          },
          "execution_count": 94
        }
      ]
    },
    {
      "cell_type": "markdown",
      "metadata": {
        "id": "ofRPXtDlYOJi"
      },
      "source": [
        "##LinearSVC Model 3 - df_A"
      ]
    },
    {
      "cell_type": "code",
      "metadata": {
        "colab": {
          "base_uri": "https://localhost:8080/"
        },
        "id": "zpaWKWgbU30_",
        "outputId": "b9f32638-eebc-4e1c-fc8c-0aab3bc314ed"
      },
      "source": [
        "model_3.fit(X_a_train,y_a_train)"
      ],
      "execution_count": 99,
      "outputs": [
        {
          "output_type": "stream",
          "text": [
            "/usr/local/lib/python3.6/dist-packages/sklearn/svm/_base.py:947: ConvergenceWarning: Liblinear failed to converge, increase the number of iterations.\n",
            "  \"the number of iterations.\", ConvergenceWarning)\n"
          ],
          "name": "stderr"
        },
        {
          "output_type": "execute_result",
          "data": {
            "text/plain": [
              "Pipeline(memory=None,\n",
              "         steps=[('imputer',\n",
              "                 SimpleImputer(add_indicator=False, copy=True, fill_value=None,\n",
              "                               missing_values=nan, strategy='mean',\n",
              "                               verbose=0)),\n",
              "                ('clf',\n",
              "                 LinearSVC(C=1.0, class_weight=None, dual=True,\n",
              "                           fit_intercept=True, intercept_scaling=1,\n",
              "                           loss='squared_hinge', max_iter=1000,\n",
              "                           multi_class='ovr', penalty='l2', random_state=None,\n",
              "                           tol=0.0001, verbose=0))],\n",
              "         verbose=False)"
            ]
          },
          "metadata": {
            "tags": []
          },
          "execution_count": 99
        }
      ]
    },
    {
      "cell_type": "code",
      "metadata": {
        "colab": {
          "base_uri": "https://localhost:8080/"
        },
        "id": "ebUWwBp3XvtW",
        "outputId": "2fb4555a-e315-493b-c38a-016612947be1"
      },
      "source": [
        "model_3.score(X_a_test,y_a_test)"
      ],
      "execution_count": 100,
      "outputs": [
        {
          "output_type": "execute_result",
          "data": {
            "text/plain": [
              "0.53624"
            ]
          },
          "metadata": {
            "tags": []
          },
          "execution_count": 100
        }
      ]
    },
    {
      "cell_type": "markdown",
      "metadata": {
        "id": "xuqAhV1XZvCy"
      },
      "source": [
        "##RandomForestClassifier Model 4- df_A"
      ]
    },
    {
      "cell_type": "code",
      "metadata": {
        "colab": {
          "base_uri": "https://localhost:8080/"
        },
        "id": "LQOKgQ4qZ2BL",
        "outputId": "f4e374d5-8dd3-4688-e808-f2491e80023f"
      },
      "source": [
        "model_4.fit(X_a_train,y_a_train)"
      ],
      "execution_count": 110,
      "outputs": [
        {
          "output_type": "execute_result",
          "data": {
            "text/plain": [
              "Pipeline(memory=None,\n",
              "         steps=[('imputer',\n",
              "                 KNNImputer(add_indicator=False, copy=True,\n",
              "                            metric='nan_euclidean', missing_values=nan,\n",
              "                            n_neighbors=5, weights='uniform')),\n",
              "                ('clf',\n",
              "                 RandomForestClassifier(bootstrap=True, ccp_alpha=0.0,\n",
              "                                        class_weight=None, criterion='gini',\n",
              "                                        max_depth=None, max_features='auto',\n",
              "                                        max_leaf_nodes=None, max_samples=None,\n",
              "                                        min_impurity_decrease=0.0,\n",
              "                                        min_impurity_split=None,\n",
              "                                        min_samples_leaf=1, min_samples_split=2,\n",
              "                                        min_weight_fraction_leaf=0.0,\n",
              "                                        n_estimators=100, n_jobs=None,\n",
              "                                        oob_score=False, random_state=None,\n",
              "                                        verbose=0, warm_start=False))],\n",
              "         verbose=False)"
            ]
          },
          "metadata": {
            "tags": []
          },
          "execution_count": 110
        }
      ]
    },
    {
      "cell_type": "code",
      "metadata": {
        "colab": {
          "base_uri": "https://localhost:8080/"
        },
        "id": "HYpmatB2Z11x",
        "outputId": "cfa62f68-5dd1-4350-d9f4-fc4d2503a573"
      },
      "source": [
        "model_4.score(X_a_test,y_a_test)"
      ],
      "execution_count": 111,
      "outputs": [
        {
          "output_type": "execute_result",
          "data": {
            "text/plain": [
              "0.74304"
            ]
          },
          "metadata": {
            "tags": []
          },
          "execution_count": 111
        }
      ]
    },
    {
      "cell_type": "markdown",
      "metadata": {
        "id": "e_ck_WlLYkJV"
      },
      "source": [
        "#Create Training and Predictive Models For df_B (Sample set of 56,302)"
      ]
    },
    {
      "cell_type": "markdown",
      "metadata": {
        "id": "WVTtwlMaZFiA"
      },
      "source": [
        "## XGBClassifier Model 1 - df_B"
      ]
    },
    {
      "cell_type": "code",
      "metadata": {
        "colab": {
          "base_uri": "https://localhost:8080/"
        },
        "id": "v9YWxWVAX0MB",
        "outputId": "9eb475e7-8581-428f-b849-81aed24332f0"
      },
      "source": [
        "model_1.fit(X_b_train,y_b_train)"
      ],
      "execution_count": 101,
      "outputs": [
        {
          "output_type": "execute_result",
          "data": {
            "text/plain": [
              "XGBClassifier(base_score=0.5, booster='gbtree', colsample_bylevel=1,\n",
              "              colsample_bynode=1, colsample_bytree=1, gamma=0,\n",
              "              learning_rate=0.1, max_delta_step=0, max_depth=3,\n",
              "              min_child_weight=1, missing=None, n_estimators=100, n_jobs=1,\n",
              "              nthread=None, objective='binary:logistic', random_state=0,\n",
              "              reg_alpha=0, reg_lambda=1, scale_pos_weight=1, seed=None,\n",
              "              silent=None, subsample=1, verbosity=1)"
            ]
          },
          "metadata": {
            "tags": []
          },
          "execution_count": 101
        }
      ]
    },
    {
      "cell_type": "code",
      "metadata": {
        "colab": {
          "base_uri": "https://localhost:8080/"
        },
        "id": "AbTw96_TY16A",
        "outputId": "0c65cdeb-b963-4e91-fa00-67d563065e23"
      },
      "source": [
        "model_1.score(X_b_test,y_b_test)"
      ],
      "execution_count": 102,
      "outputs": [
        {
          "output_type": "execute_result",
          "data": {
            "text/plain": [
              "0.7654873543620346"
            ]
          },
          "metadata": {
            "tags": []
          },
          "execution_count": 102
        }
      ]
    },
    {
      "cell_type": "markdown",
      "metadata": {
        "id": "pJ1y4lGjZLCC"
      },
      "source": [
        "##GaussianNB Model 2 - df_B"
      ]
    },
    {
      "cell_type": "code",
      "metadata": {
        "id": "Tfz0iVcpY8J6"
      },
      "source": [
        "model_2.fit(X_b_train,y_b_train)"
      ],
      "execution_count": null,
      "outputs": []
    },
    {
      "cell_type": "code",
      "metadata": {
        "id": "H2CCGqQpaEjl"
      },
      "source": [
        "model_2.score(X_b_train,y_b_train)"
      ],
      "execution_count": null,
      "outputs": []
    },
    {
      "cell_type": "markdown",
      "metadata": {
        "id": "g05BuL9naRyf"
      },
      "source": [
        "##LinearSVC Model 3 - df_B"
      ]
    },
    {
      "cell_type": "code",
      "metadata": {
        "id": "paDCTbiWaMZ-"
      },
      "source": [
        "model_3.fit(X_b_train,y_b_train)"
      ],
      "execution_count": null,
      "outputs": []
    },
    {
      "cell_type": "code",
      "metadata": {
        "id": "KOtCRsq1aLct"
      },
      "source": [
        "model_3.score(X_b_train,y_b_train)"
      ],
      "execution_count": null,
      "outputs": []
    },
    {
      "cell_type": "markdown",
      "metadata": {
        "id": "aq2qeXqhagHm"
      },
      "source": [
        "##RandomForestRegressor 4 - df_B"
      ]
    },
    {
      "cell_type": "code",
      "metadata": {
        "id": "M_2TDV7TalBE"
      },
      "source": [
        "model_4.fit(X_b_train,y_b_train)"
      ],
      "execution_count": null,
      "outputs": []
    },
    {
      "cell_type": "code",
      "metadata": {
        "id": "m08_Ptzgao2x"
      },
      "source": [
        "model_4.score(X_b_train,y_b_train)"
      ],
      "execution_count": null,
      "outputs": []
    },
    {
      "cell_type": "markdown",
      "metadata": {
        "id": "WSjzDrZBg6-H"
      },
      "source": [
        "###Results reflect that XGBClassifier and RandomForest Classifier are the strongest predictive models"
      ]
    },
    {
      "cell_type": "markdown",
      "metadata": {
        "id": "eEzHJ0qwhaXK"
      },
      "source": [
        "##Parameter Tweeking"
      ]
    },
    {
      "cell_type": "code",
      "metadata": {
        "id": "Wy6d9qNfhTf7"
      },
      "source": [
        "##Parameter Tweeking"
      ],
      "execution_count": null,
      "outputs": []
    },
    {
      "cell_type": "code",
      "metadata": {
        "id": "14FI_82bd6Dx"
      },
      "source": [
        ""
      ],
      "execution_count": null,
      "outputs": []
    }
  ]
}