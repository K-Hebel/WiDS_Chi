{
  "nbformat": 4,
  "nbformat_minor": 0,
  "metadata": {
    "colab": {
      "name": "Model_WiDS.ipynb",
      "provenance": [],
      "toc_visible": true,
      "authorship_tag": "ABX9TyMwNaB4zHHF8XH+q7sCRgwW",
      "include_colab_link": true
    },
    "kernelspec": {
      "name": "python3",
      "display_name": "Python 3"
    }
  },
  "cells": [
    {
      "cell_type": "markdown",
      "metadata": {
        "id": "view-in-github",
        "colab_type": "text"
      },
      "source": [
        "<a href=\"https://colab.research.google.com/github/K-Hebel/WiDS_Chi/blob/master/Model_WiDS.ipynb\" target=\"_parent\"><img src=\"https://colab.research.google.com/assets/colab-badge.svg\" alt=\"Open In Colab\"/></a>"
      ]
    },
    {
      "cell_type": "markdown",
      "metadata": {
        "id": "h9vhUAjn7LKZ"
      },
      "source": [
        "#Load Libraries"
      ]
    },
    {
      "cell_type": "code",
      "metadata": {
        "colab": {
          "base_uri": "https://localhost:8080/"
        },
        "id": "2Nu79Xd06NEk",
        "outputId": "8e4887c7-1c9f-4040-f0c9-9ac56ebc4c7e"
      },
      "source": [
        "#@title\n",
        "from google.colab import drive\n",
        "drive.mount('/content/drive')"
      ],
      "execution_count": 1,
      "outputs": [
        {
          "output_type": "stream",
          "text": [
            "Drive already mounted at /content/drive; to attempt to forcibly remount, call drive.mount(\"/content/drive\", force_remount=True).\n"
          ],
          "name": "stdout"
        }
      ]
    },
    {
      "cell_type": "code",
      "metadata": {
        "id": "-3cVDHTD6czm"
      },
      "source": [
        "#@title\n",
        "import pandas as pd\n",
        "import numpy as np\n",
        "import matplotlib.pyplot as plt\n",
        "%matplotlib inline"
      ],
      "execution_count": 2,
      "outputs": []
    },
    {
      "cell_type": "code",
      "metadata": {
        "id": "AQCP0SgB8WMn"
      },
      "source": [
        "from xgboost import XGBClassifier\n",
        "from sklearn.impute import KNNImputer, SimpleImputer\n",
        "from sklearn.ensemble import RandomForestClassifier\n",
        "from sklearn.linear_model import LogisticRegression\n",
        "\n",
        "from sklearn.model_selection import train_test_split, RandomizedSearchCV\n",
        "from sklearn.pipeline import Pipeline\n",
        "from sklearn import metrics "
      ],
      "execution_count": 3,
      "outputs": []
    },
    {
      "cell_type": "code",
      "metadata": {
        "colab": {
          "resources": {
            "http://localhost:8080/nbextensions/google.colab/files.js": {
              "data": "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",
              "ok": true,
              "headers": [
                [
                  "content-type",
                  "application/javascript"
                ]
              ],
              "status": 200,
              "status_text": ""
            }
          },
          "base_uri": "https://localhost:8080/",
          "height": 89
        },
        "id": "pHt6roM0VwqU",
        "outputId": "edd98207-efa7-4e59-cf0d-dc3dac6d4dca"
      },
      "source": [
        "#@title\n",
        "! pip install -q kaggle\n",
        "from google.colab import files\n",
        "\n",
        "files.upload()"
      ],
      "execution_count": 4,
      "outputs": [
        {
          "output_type": "display_data",
          "data": {
            "text/html": [
              "\n",
              "     <input type=\"file\" id=\"files-b3bb0a85-4635-43d3-b57e-cea149271ae7\" name=\"files[]\" multiple disabled\n",
              "        style=\"border:none\" />\n",
              "     <output id=\"result-b3bb0a85-4635-43d3-b57e-cea149271ae7\">\n",
              "      Upload widget is only available when the cell has been executed in the\n",
              "      current browser session. Please rerun this cell to enable.\n",
              "      </output>\n",
              "      <script src=\"/nbextensions/google.colab/files.js\"></script> "
            ],
            "text/plain": [
              "<IPython.core.display.HTML object>"
            ]
          },
          "metadata": {
            "tags": []
          }
        },
        {
          "output_type": "stream",
          "text": [
            "Saving kaggle.json to kaggle (1).json\n"
          ],
          "name": "stdout"
        },
        {
          "output_type": "execute_result",
          "data": {
            "text/plain": [
              "{'kaggle.json': b'{\"username\":\"khebel\",\"key\":\"11c0f35aedbce6808a3f45f82709accf\"}'}"
            ]
          },
          "metadata": {
            "tags": []
          },
          "execution_count": 4
        }
      ]
    },
    {
      "cell_type": "code",
      "metadata": {
        "colab": {
          "base_uri": "https://localhost:8080/"
        },
        "id": "SZ8q976qVwa1",
        "outputId": "450c8dcf-56fd-4e66-a577-329f4df26987"
      },
      "source": [
        "#@title\n",
        "! mkdir ~/.kaggle\n",
        "! cp kaggle.json ~/.kaggle/\n",
        "! chmod 600 ~/.kaggle/kaggle.json\n",
        "! kaggle competitions download -c 'widsdatathon2021'\n",
        "! unzip TrainingWiDS2021.csv.zip -d train\n",
        "! unzip UnlabeledWiDS2021.csv.zip -d train"
      ],
      "execution_count": 5,
      "outputs": [
        {
          "output_type": "stream",
          "text": [
            "mkdir: cannot create directory ‘/root/.kaggle’: File exists\n",
            "Warning: Looks like you're using an outdated API Version, please consider updating (server 1.5.10 / client 1.5.4)\n",
            "DataDictionaryWiDS2021.csv: Skipping, found more recently modified local copy (use --force to force download)\n",
            "SolutionTemplateWiDS2021.csv: Skipping, found more recently modified local copy (use --force to force download)\n",
            "UnlabeledWiDS2021.csv.zip: Skipping, found more recently modified local copy (use --force to force download)\n",
            "SampleSubmissionWiDS2021.csv: Skipping, found more recently modified local copy (use --force to force download)\n",
            "TrainingWiDS2021.csv.zip: Skipping, found more recently modified local copy (use --force to force download)\n",
            "Archive:  TrainingWiDS2021.csv.zip\n",
            "replace train/TrainingWiDS2021.csv? [y]es, [n]o, [A]ll, [N]one, [r]ename: n\n",
            "Archive:  UnlabeledWiDS2021.csv.zip\n",
            "replace train/UnlabeledWiDS2021.csv? [y]es, [n]o, [A]ll, [N]one, [r]ename: n\n"
          ],
          "name": "stdout"
        }
      ]
    },
    {
      "cell_type": "code",
      "metadata": {
        "id": "cSfbhgzn82x8"
      },
      "source": [
        "df=pd.read_csv(\"train/TrainingWiDS2021.csv\")"
      ],
      "execution_count": 6,
      "outputs": []
    },
    {
      "cell_type": "markdown",
      "metadata": {
        "id": "WbDszzJ97P14"
      },
      "source": [
        "#Reduce data Set to 50,000 record sample of orginal training dataset (Cleaned Based on EDA comments -df_A)"
      ]
    },
    {
      "cell_type": "code",
      "metadata": {
        "id": "icqYvtGS6ySj"
      },
      "source": [
        "df_A=df.groupby('diabetes_mellitus', group_keys=False).apply(lambda x: x.sample(25000))"
      ],
      "execution_count": 7,
      "outputs": []
    },
    {
      "cell_type": "markdown",
      "metadata": {
        "id": "g8j_JaUJ-1CA"
      },
      "source": [
        "##Drop Demographic data that EDA show had low correlation"
      ]
    },
    {
      "cell_type": "code",
      "metadata": {
        "id": "wCb2X60Q0vVo"
      },
      "source": [
        "df_A=df_A.drop(['Unnamed: 0',\n",
        " 'encounter_id',\n",
        " 'hospital_id',\n",
        " 'bmi',\n",
        " 'elective_surgery',\n",
        " 'ethnicity',\n",
        " 'gender',\n",
        " 'hospital_admit_source',\n",
        " 'icu_admit_source',\n",
        " 'icu_id',\n",
        " 'icu_stay_type',\n",
        " 'icu_type',\n",
        " 'pre_icu_los_days',\n",
        " 'readmission_status'], axis=1)\n"
      ],
      "execution_count": 8,
      "outputs": []
    },
    {
      "cell_type": "markdown",
      "metadata": {
        "id": "WOBs7-uF_fKd"
      },
      "source": [
        "##Calculate BMI and replace 'height' and 'weight' columns"
      ]
    },
    {
      "cell_type": "code",
      "metadata": {
        "id": "D-01ugIYFUEm"
      },
      "source": [
        "df_A['bmi']= df_A['weight']/((df_A['height']/100)**2)"
      ],
      "execution_count": 9,
      "outputs": []
    },
    {
      "cell_type": "code",
      "metadata": {
        "id": "sdMeNkYuF42a"
      },
      "source": [
        "df_A_2=df_A.drop(['height', 'weight'], axis = 1)"
      ],
      "execution_count": 10,
      "outputs": []
    },
    {
      "cell_type": "markdown",
      "metadata": {
        "id": "Yhhkuf0PYmrO"
      },
      "source": [
        "##Proportion of Missing Data in df_A by Feature Column and Count of Available data by Feature Column"
      ]
    },
    {
      "cell_type": "code",
      "metadata": {
        "colab": {
          "base_uri": "https://localhost:8080/",
          "height": 0
        },
        "id": "bbkQaqutcftL",
        "outputId": "9a8483ff-b9fb-44a6-905a-48344ed2910d"
      },
      "source": [
        "missing_data= pd.DataFrame(df_A_2.isna().sum()/df_A_2['diabetes_mellitus'].count())\n",
        "missing_data['Available']= df_A_2.notna().sum()\n",
        "missing_data.sort_values(0,ascending=False)"
      ],
      "execution_count": 11,
      "outputs": [
        {
          "output_type": "execute_result",
          "data": {
            "text/html": [
              "<div>\n",
              "<style scoped>\n",
              "    .dataframe tbody tr th:only-of-type {\n",
              "        vertical-align: middle;\n",
              "    }\n",
              "\n",
              "    .dataframe tbody tr th {\n",
              "        vertical-align: top;\n",
              "    }\n",
              "\n",
              "    .dataframe thead th {\n",
              "        text-align: right;\n",
              "    }\n",
              "</style>\n",
              "<table border=\"1\" class=\"dataframe\">\n",
              "  <thead>\n",
              "    <tr style=\"text-align: right;\">\n",
              "      <th></th>\n",
              "      <th>0</th>\n",
              "      <th>Available</th>\n",
              "    </tr>\n",
              "  </thead>\n",
              "  <tbody>\n",
              "    <tr>\n",
              "      <th>h1_bilirubin_max</th>\n",
              "      <td>0.91996</td>\n",
              "      <td>4002</td>\n",
              "    </tr>\n",
              "    <tr>\n",
              "      <th>h1_bilirubin_min</th>\n",
              "      <td>0.91996</td>\n",
              "      <td>4002</td>\n",
              "    </tr>\n",
              "    <tr>\n",
              "      <th>h1_albumin_min</th>\n",
              "      <td>0.91254</td>\n",
              "      <td>4373</td>\n",
              "    </tr>\n",
              "    <tr>\n",
              "      <th>h1_albumin_max</th>\n",
              "      <td>0.91254</td>\n",
              "      <td>4373</td>\n",
              "    </tr>\n",
              "    <tr>\n",
              "      <th>h1_lactate_min</th>\n",
              "      <td>0.90712</td>\n",
              "      <td>4644</td>\n",
              "    </tr>\n",
              "    <tr>\n",
              "      <th>...</th>\n",
              "      <td>...</td>\n",
              "      <td>...</td>\n",
              "    </tr>\n",
              "    <tr>\n",
              "      <th>leukemia</th>\n",
              "      <td>0.00000</td>\n",
              "      <td>50000</td>\n",
              "    </tr>\n",
              "    <tr>\n",
              "      <th>lymphoma</th>\n",
              "      <td>0.00000</td>\n",
              "      <td>50000</td>\n",
              "    </tr>\n",
              "    <tr>\n",
              "      <th>solid_tumor_with_metastasis</th>\n",
              "      <td>0.00000</td>\n",
              "      <td>50000</td>\n",
              "    </tr>\n",
              "    <tr>\n",
              "      <th>diabetes_mellitus</th>\n",
              "      <td>0.00000</td>\n",
              "      <td>50000</td>\n",
              "    </tr>\n",
              "    <tr>\n",
              "      <th>ventilated_apache</th>\n",
              "      <td>0.00000</td>\n",
              "      <td>50000</td>\n",
              "    </tr>\n",
              "  </tbody>\n",
              "</table>\n",
              "<p>166 rows × 2 columns</p>\n",
              "</div>"
            ],
            "text/plain": [
              "                                   0  Available\n",
              "h1_bilirubin_max             0.91996       4002\n",
              "h1_bilirubin_min             0.91996       4002\n",
              "h1_albumin_min               0.91254       4373\n",
              "h1_albumin_max               0.91254       4373\n",
              "h1_lactate_min               0.90712       4644\n",
              "...                              ...        ...\n",
              "leukemia                     0.00000      50000\n",
              "lymphoma                     0.00000      50000\n",
              "solid_tumor_with_metastasis  0.00000      50000\n",
              "diabetes_mellitus            0.00000      50000\n",
              "ventilated_apache            0.00000      50000\n",
              "\n",
              "[166 rows x 2 columns]"
            ]
          },
          "metadata": {
            "tags": []
          },
          "execution_count": 11
        }
      ]
    },
    {
      "cell_type": "markdown",
      "metadata": {
        "id": "4gmp2NY2Ifmr"
      },
      "source": [
        "## Drop Features where total available data is less than 20% of data set"
      ]
    },
    {
      "cell_type": "code",
      "metadata": {
        "id": "hIK8YxbcGZGE"
      },
      "source": [
        "features_under_20per =[]\n",
        "\n",
        "for col in list(df_A_2.columns):\n",
        "  if df_A_2[col].count()/df_A_2.count()[-1]< .2:\n",
        "    features_under_20per.append(col)"
      ],
      "execution_count": 12,
      "outputs": []
    },
    {
      "cell_type": "code",
      "metadata": {
        "id": "5P8rJVsaIIiS"
      },
      "source": [
        "df_A_3 = df_A_2.drop(features_under_20per, axis=1)"
      ],
      "execution_count": 13,
      "outputs": []
    },
    {
      "cell_type": "markdown",
      "metadata": {
        "id": "eTeMBtPi7iTj"
      },
      "source": [
        "##Set Features and Target (df_A) and Train_Test_split"
      ]
    },
    {
      "cell_type": "code",
      "metadata": {
        "id": "ymK6URZV7Jya"
      },
      "source": [
        "y_a=df_A_3['diabetes_mellitus']\n",
        "X_a=df_A_3.drop(['diabetes_mellitus'], axis=1)\n",
        "\n",
        "X_a_train, X_a_test,y_a_train, y_a_test =train_test_split(X_a,y_a, random_state=40)"
      ],
      "execution_count": 14,
      "outputs": []
    },
    {
      "cell_type": "code",
      "metadata": {
        "colab": {
          "base_uri": "https://localhost:8080/"
        },
        "id": "NsNZhFlrRJ9a",
        "outputId": "14033593-d956-43d8-aeb4-6da5f0194b3c"
      },
      "source": [
        "y_a.shape, X_a.shape"
      ],
      "execution_count": 15,
      "outputs": [
        {
          "output_type": "execute_result",
          "data": {
            "text/plain": [
              "((50000,), (50000, 145))"
            ]
          },
          "metadata": {
            "tags": []
          },
          "execution_count": 15
        }
      ]
    },
    {
      "cell_type": "code",
      "metadata": {
        "colab": {
          "base_uri": "https://localhost:8080/"
        },
        "id": "ciL1yg1fSTF5",
        "outputId": "f6c50b1b-b403-4569-e48b-c180945ef98f"
      },
      "source": [
        "y_a_train.shape, X_a_train.shape"
      ],
      "execution_count": 16,
      "outputs": [
        {
          "output_type": "execute_result",
          "data": {
            "text/plain": [
              "((37500,), (37500, 145))"
            ]
          },
          "metadata": {
            "tags": []
          },
          "execution_count": 16
        }
      ]
    },
    {
      "cell_type": "markdown",
      "metadata": {
        "id": "_fmlxLLUkXx8"
      },
      "source": [
        "#Create Training and Predictive Models For df_A (Sample set of 50,000)"
      ]
    },
    {
      "cell_type": "code",
      "metadata": {
        "id": "bz8DChb0kC6A"
      },
      "source": [
        "model_1_A= XGBClassifier(booster='dart', n_estimators=300) #used to manage datasets with missing values"
      ],
      "execution_count": 17,
      "outputs": []
    },
    {
      "cell_type": "markdown",
      "metadata": {
        "id": "FUNT_BJrX7Td"
      },
      "source": [
        "## XGBClassifier Model 1 - df_A"
      ]
    },
    {
      "cell_type": "code",
      "metadata": {
        "colab": {
          "base_uri": "https://localhost:8080/"
        },
        "id": "D2yjS-97QFsL",
        "outputId": "4f0ecf45-8ec5-4861-f6b8-c624c948c273"
      },
      "source": [
        "model_1_A.fit(X_a_train,y_a_train)\n"
      ],
      "execution_count": 18,
      "outputs": [
        {
          "output_type": "execute_result",
          "data": {
            "text/plain": [
              "XGBClassifier(base_score=0.5, booster='dart', colsample_bylevel=1,\n",
              "              colsample_bynode=1, colsample_bytree=1, gamma=0,\n",
              "              learning_rate=0.1, max_delta_step=0, max_depth=3,\n",
              "              min_child_weight=1, missing=None, n_estimators=300, n_jobs=1,\n",
              "              nthread=None, objective='binary:logistic', random_state=0,\n",
              "              reg_alpha=0, reg_lambda=1, scale_pos_weight=1, seed=None,\n",
              "              silent=None, subsample=1, verbosity=1)"
            ]
          },
          "metadata": {
            "tags": []
          },
          "execution_count": 18
        }
      ]
    },
    {
      "cell_type": "code",
      "metadata": {
        "colab": {
          "base_uri": "https://localhost:8080/"
        },
        "id": "MPfWJ0YRQ6c6",
        "outputId": "3398d464-bdd7-4ca3-d945-c7cbbf00076f"
      },
      "source": [
        "model_1_A.score(X_a_test,y_a_test)"
      ],
      "execution_count": 19,
      "outputs": [
        {
          "output_type": "execute_result",
          "data": {
            "text/plain": [
              "0.7804"
            ]
          },
          "metadata": {
            "tags": []
          },
          "execution_count": 19
        }
      ]
    },
    {
      "cell_type": "markdown",
      "metadata": {
        "id": "ubCbD15mr6ym"
      },
      "source": [
        "##Predictions based on model_A XGBClassifier"
      ]
    },
    {
      "cell_type": "code",
      "metadata": {
        "id": "QKm4lBdlkO4g"
      },
      "source": [
        "test_df_A=pd.read_csv('train/UnlabeledWiDS2021.csv')"
      ],
      "execution_count": null,
      "outputs": []
    },
    {
      "cell_type": "code",
      "metadata": {
        "id": "uiNRl46Ul02k"
      },
      "source": [
        "test_col_A=list(X_a.columns)"
      ],
      "execution_count": 38,
      "outputs": []
    },
    {
      "cell_type": "code",
      "metadata": {
        "colab": {
          "base_uri": "https://localhost:8080/",
          "height": 0
        },
        "id": "EaCXIcMK381A",
        "outputId": "59c2a85f-81ac-42cc-d7bd-2d1771845ad0"
      },
      "source": [
        "test_df_A['diabetes_mellitus']=model_1_A.predict(test_df_A[test_col_A])\n",
        "submit_A = test_df_A[['encounter_id','diabetes_mellitus']]\n",
        "submit_A"
      ],
      "execution_count": 39,
      "outputs": [
        {
          "output_type": "execute_result",
          "data": {
            "text/html": [
              "<div>\n",
              "<style scoped>\n",
              "    .dataframe tbody tr th:only-of-type {\n",
              "        vertical-align: middle;\n",
              "    }\n",
              "\n",
              "    .dataframe tbody tr th {\n",
              "        vertical-align: top;\n",
              "    }\n",
              "\n",
              "    .dataframe thead th {\n",
              "        text-align: right;\n",
              "    }\n",
              "</style>\n",
              "<table border=\"1\" class=\"dataframe\">\n",
              "  <thead>\n",
              "    <tr style=\"text-align: right;\">\n",
              "      <th></th>\n",
              "      <th>encounter_id</th>\n",
              "      <th>diabetes_mellitus</th>\n",
              "    </tr>\n",
              "  </thead>\n",
              "  <tbody>\n",
              "    <tr>\n",
              "      <th>0</th>\n",
              "      <td>144740</td>\n",
              "      <td>0</td>\n",
              "    </tr>\n",
              "    <tr>\n",
              "      <th>1</th>\n",
              "      <td>141990</td>\n",
              "      <td>0</td>\n",
              "    </tr>\n",
              "    <tr>\n",
              "      <th>2</th>\n",
              "      <td>142038</td>\n",
              "      <td>0</td>\n",
              "    </tr>\n",
              "    <tr>\n",
              "      <th>3</th>\n",
              "      <td>138628</td>\n",
              "      <td>0</td>\n",
              "    </tr>\n",
              "    <tr>\n",
              "      <th>4</th>\n",
              "      <td>141682</td>\n",
              "      <td>1</td>\n",
              "    </tr>\n",
              "    <tr>\n",
              "      <th>...</th>\n",
              "      <td>...</td>\n",
              "      <td>...</td>\n",
              "    </tr>\n",
              "    <tr>\n",
              "      <th>10229</th>\n",
              "      <td>143750</td>\n",
              "      <td>0</td>\n",
              "    </tr>\n",
              "    <tr>\n",
              "      <th>10230</th>\n",
              "      <td>143813</td>\n",
              "      <td>0</td>\n",
              "    </tr>\n",
              "    <tr>\n",
              "      <th>10231</th>\n",
              "      <td>137126</td>\n",
              "      <td>0</td>\n",
              "    </tr>\n",
              "    <tr>\n",
              "      <th>10232</th>\n",
              "      <td>135652</td>\n",
              "      <td>0</td>\n",
              "    </tr>\n",
              "    <tr>\n",
              "      <th>10233</th>\n",
              "      <td>136852</td>\n",
              "      <td>0</td>\n",
              "    </tr>\n",
              "  </tbody>\n",
              "</table>\n",
              "<p>10234 rows × 2 columns</p>\n",
              "</div>"
            ],
            "text/plain": [
              "       encounter_id  diabetes_mellitus\n",
              "0            144740                  0\n",
              "1            141990                  0\n",
              "2            142038                  0\n",
              "3            138628                  0\n",
              "4            141682                  1\n",
              "...             ...                ...\n",
              "10229        143750                  0\n",
              "10230        143813                  0\n",
              "10231        137126                  0\n",
              "10232        135652                  0\n",
              "10233        136852                  0\n",
              "\n",
              "[10234 rows x 2 columns]"
            ]
          },
          "metadata": {
            "tags": []
          },
          "execution_count": 39
        }
      ]
    },
    {
      "cell_type": "code",
      "metadata": {
        "colab": {
          "base_uri": "https://localhost:8080/"
        },
        "id": "h_66qEJDmsyo",
        "outputId": "b596f513-263d-43a6-c835-6988e04f3a24"
      },
      "source": [
        "test_df_A['diabetes_mellitus'].sum()"
      ],
      "execution_count": 40,
      "outputs": [
        {
          "output_type": "execute_result",
          "data": {
            "text/plain": [
              "3504"
            ]
          },
          "metadata": {
            "tags": []
          },
          "execution_count": 40
        }
      ]
    },
    {
      "cell_type": "code",
      "metadata": {
        "id": "A1R0itGZm9js"
      },
      "source": [
        "submit_A.to_csv('Boost_Class_A.csv',index=False)"
      ],
      "execution_count": 41,
      "outputs": []
    },
    {
      "cell_type": "code",
      "metadata": {
        "id": "14FI_82bd6Dx"
      },
      "source": [
        "test_df_B=pd.read_csv('train/UnlabeledWiDS2021.csv')"
      ],
      "execution_count": 92,
      "outputs": []
    },
    {
      "cell_type": "markdown",
      "metadata": {
        "id": "Exj2ExxwVQiz"
      },
      "source": [
        "#Load Original DataFile of 130,157 records (Clean Based on Prop of Available Data - df_B)"
      ]
    },
    {
      "cell_type": "code",
      "metadata": {
        "id": "ktrGmTosVwOs"
      },
      "source": [
        "#@title\n",
        "df_B=pd.read_csv(\"train/TrainingWiDS2021.csv\")\n",
        "\n"
      ],
      "execution_count": 20,
      "outputs": []
    },
    {
      "cell_type": "markdown",
      "metadata": {
        "id": "-ZE8W6cMWb0Z"
      },
      "source": [
        "##Proportion of Missing Data in df_B by Feature Column and Count of Available data by Feature Column"
      ]
    },
    {
      "cell_type": "code",
      "metadata": {
        "colab": {
          "base_uri": "https://localhost:8080/",
          "height": 419
        },
        "id": "KANJfH4dWVqu",
        "outputId": "59988d77-2ec8-4943-aa46-d78139d15a03"
      },
      "source": [
        "missing_data_B= pd.DataFrame(df_B.isna().sum()/df_B['diabetes_mellitus'].count())\n",
        "missing_data_B['Available']= df_B.notna().sum()\n",
        "missing_data_B.sort_values(0,ascending=False)"
      ],
      "execution_count": 21,
      "outputs": [
        {
          "output_type": "execute_result",
          "data": {
            "text/html": [
              "<div>\n",
              "<style scoped>\n",
              "    .dataframe tbody tr th:only-of-type {\n",
              "        vertical-align: middle;\n",
              "    }\n",
              "\n",
              "    .dataframe tbody tr th {\n",
              "        vertical-align: top;\n",
              "    }\n",
              "\n",
              "    .dataframe thead th {\n",
              "        text-align: right;\n",
              "    }\n",
              "</style>\n",
              "<table border=\"1\" class=\"dataframe\">\n",
              "  <thead>\n",
              "    <tr style=\"text-align: right;\">\n",
              "      <th></th>\n",
              "      <th>0</th>\n",
              "      <th>Available</th>\n",
              "    </tr>\n",
              "  </thead>\n",
              "  <tbody>\n",
              "    <tr>\n",
              "      <th>h1_bilirubin_max</th>\n",
              "      <td>0.920896</td>\n",
              "      <td>10296</td>\n",
              "    </tr>\n",
              "    <tr>\n",
              "      <th>h1_bilirubin_min</th>\n",
              "      <td>0.920896</td>\n",
              "      <td>10296</td>\n",
              "    </tr>\n",
              "    <tr>\n",
              "      <th>h1_albumin_max</th>\n",
              "      <td>0.914319</td>\n",
              "      <td>11152</td>\n",
              "    </tr>\n",
              "    <tr>\n",
              "      <th>h1_albumin_min</th>\n",
              "      <td>0.914319</td>\n",
              "      <td>11152</td>\n",
              "    </tr>\n",
              "    <tr>\n",
              "      <th>h1_lactate_min</th>\n",
              "      <td>0.910185</td>\n",
              "      <td>11690</td>\n",
              "    </tr>\n",
              "    <tr>\n",
              "      <th>...</th>\n",
              "      <td>...</td>\n",
              "      <td>...</td>\n",
              "    </tr>\n",
              "    <tr>\n",
              "      <th>icu_stay_type</th>\n",
              "      <td>0.000000</td>\n",
              "      <td>130157</td>\n",
              "    </tr>\n",
              "    <tr>\n",
              "      <th>icu_id</th>\n",
              "      <td>0.000000</td>\n",
              "      <td>130157</td>\n",
              "    </tr>\n",
              "    <tr>\n",
              "      <th>elective_surgery</th>\n",
              "      <td>0.000000</td>\n",
              "      <td>130157</td>\n",
              "    </tr>\n",
              "    <tr>\n",
              "      <th>hospital_id</th>\n",
              "      <td>0.000000</td>\n",
              "      <td>130157</td>\n",
              "    </tr>\n",
              "    <tr>\n",
              "      <th>diabetes_mellitus</th>\n",
              "      <td>0.000000</td>\n",
              "      <td>130157</td>\n",
              "    </tr>\n",
              "  </tbody>\n",
              "</table>\n",
              "<p>181 rows × 2 columns</p>\n",
              "</div>"
            ],
            "text/plain": [
              "                          0  Available\n",
              "h1_bilirubin_max   0.920896      10296\n",
              "h1_bilirubin_min   0.920896      10296\n",
              "h1_albumin_max     0.914319      11152\n",
              "h1_albumin_min     0.914319      11152\n",
              "h1_lactate_min     0.910185      11690\n",
              "...                     ...        ...\n",
              "icu_stay_type      0.000000     130157\n",
              "icu_id             0.000000     130157\n",
              "elective_surgery   0.000000     130157\n",
              "hospital_id        0.000000     130157\n",
              "diabetes_mellitus  0.000000     130157\n",
              "\n",
              "[181 rows x 2 columns]"
            ]
          },
          "metadata": {
            "tags": []
          },
          "execution_count": 21
        }
      ]
    },
    {
      "cell_type": "markdown",
      "metadata": {
        "id": "q1KYbCMPWxmS"
      },
      "source": [
        "##Drop Columns with missing data >=70% from df_B"
      ]
    },
    {
      "cell_type": "code",
      "metadata": {
        "colab": {
          "base_uri": "https://localhost:8080/"
        },
        "id": "979OcQBKWpdP",
        "outputId": "46cc55ee-4186-4f50-8a45-5da28a0beac3"
      },
      "source": [
        "col_drop=missing_data_B[missing_data_B[0]>= 0.70].sort_values(by=0, ascending=False)\n",
        "df_B= df_B.drop(list(col_drop.index), axis=1) #[0].sort_values\n",
        "df_B.shape"
      ],
      "execution_count": 22,
      "outputs": [
        {
          "output_type": "execute_result",
          "data": {
            "text/plain": [
              "(130157, 126)"
            ]
          },
          "metadata": {
            "tags": []
          },
          "execution_count": 22
        }
      ]
    },
    {
      "cell_type": "markdown",
      "metadata": {
        "id": "lrwnQTxuaD-G"
      },
      "source": [
        "##Create Stratified Sample of df_B dataset to balance target variable value counts for sample size of 56,302 (included all positive diabetes_mellitus from original dataset)"
      ]
    },
    {
      "cell_type": "code",
      "metadata": {
        "colab": {
          "base_uri": "https://localhost:8080/"
        },
        "id": "L0-nPUs4XY5X",
        "outputId": "8e2c3842-257a-44c6-e1bf-58a557401c01"
      },
      "source": [
        "df_B['diabetes_mellitus'].value_counts()"
      ],
      "execution_count": 23,
      "outputs": [
        {
          "output_type": "execute_result",
          "data": {
            "text/plain": [
              "0    102006\n",
              "1     28151\n",
              "Name: diabetes_mellitus, dtype: int64"
            ]
          },
          "metadata": {
            "tags": []
          },
          "execution_count": 23
        }
      ]
    },
    {
      "cell_type": "code",
      "metadata": {
        "colab": {
          "base_uri": "https://localhost:8080/",
          "height": 346
        },
        "id": "njlQ5c9dZtUt",
        "outputId": "c5407ac6-3459-4102-b86c-f6add6f00b4a"
      },
      "source": [
        "sample_df_B=df_B.groupby('diabetes_mellitus', group_keys=False).apply(lambda x: x.sample(28151))\n",
        "sample_df_B.describe()"
      ],
      "execution_count": 24,
      "outputs": [
        {
          "output_type": "execute_result",
          "data": {
            "text/html": [
              "<div>\n",
              "<style scoped>\n",
              "    .dataframe tbody tr th:only-of-type {\n",
              "        vertical-align: middle;\n",
              "    }\n",
              "\n",
              "    .dataframe tbody tr th {\n",
              "        vertical-align: top;\n",
              "    }\n",
              "\n",
              "    .dataframe thead th {\n",
              "        text-align: right;\n",
              "    }\n",
              "</style>\n",
              "<table border=\"1\" class=\"dataframe\">\n",
              "  <thead>\n",
              "    <tr style=\"text-align: right;\">\n",
              "      <th></th>\n",
              "      <th>Unnamed: 0</th>\n",
              "      <th>encounter_id</th>\n",
              "      <th>hospital_id</th>\n",
              "      <th>age</th>\n",
              "      <th>bmi</th>\n",
              "      <th>elective_surgery</th>\n",
              "      <th>height</th>\n",
              "      <th>icu_id</th>\n",
              "      <th>pre_icu_los_days</th>\n",
              "      <th>readmission_status</th>\n",
              "      <th>weight</th>\n",
              "      <th>albumin_apache</th>\n",
              "      <th>apache_2_diagnosis</th>\n",
              "      <th>apache_3j_diagnosis</th>\n",
              "      <th>apache_post_operative</th>\n",
              "      <th>arf_apache</th>\n",
              "      <th>bilirubin_apache</th>\n",
              "      <th>bun_apache</th>\n",
              "      <th>creatinine_apache</th>\n",
              "      <th>gcs_eyes_apache</th>\n",
              "      <th>gcs_motor_apache</th>\n",
              "      <th>gcs_unable_apache</th>\n",
              "      <th>gcs_verbal_apache</th>\n",
              "      <th>glucose_apache</th>\n",
              "      <th>heart_rate_apache</th>\n",
              "      <th>hematocrit_apache</th>\n",
              "      <th>intubated_apache</th>\n",
              "      <th>map_apache</th>\n",
              "      <th>resprate_apache</th>\n",
              "      <th>sodium_apache</th>\n",
              "      <th>temp_apache</th>\n",
              "      <th>urineoutput_apache</th>\n",
              "      <th>ventilated_apache</th>\n",
              "      <th>wbc_apache</th>\n",
              "      <th>d1_diasbp_max</th>\n",
              "      <th>d1_diasbp_min</th>\n",
              "      <th>d1_diasbp_noninvasive_max</th>\n",
              "      <th>d1_diasbp_noninvasive_min</th>\n",
              "      <th>d1_heartrate_max</th>\n",
              "      <th>d1_heartrate_min</th>\n",
              "      <th>...</th>\n",
              "      <th>d1_calcium_max</th>\n",
              "      <th>d1_calcium_min</th>\n",
              "      <th>d1_creatinine_max</th>\n",
              "      <th>d1_creatinine_min</th>\n",
              "      <th>d1_glucose_max</th>\n",
              "      <th>d1_glucose_min</th>\n",
              "      <th>d1_hco3_max</th>\n",
              "      <th>d1_hco3_min</th>\n",
              "      <th>d1_hemaglobin_max</th>\n",
              "      <th>d1_hemaglobin_min</th>\n",
              "      <th>d1_hematocrit_max</th>\n",
              "      <th>d1_hematocrit_min</th>\n",
              "      <th>d1_inr_max</th>\n",
              "      <th>d1_inr_min</th>\n",
              "      <th>d1_platelets_max</th>\n",
              "      <th>d1_platelets_min</th>\n",
              "      <th>d1_potassium_max</th>\n",
              "      <th>d1_potassium_min</th>\n",
              "      <th>d1_sodium_max</th>\n",
              "      <th>d1_sodium_min</th>\n",
              "      <th>d1_wbc_max</th>\n",
              "      <th>d1_wbc_min</th>\n",
              "      <th>h1_glucose_max</th>\n",
              "      <th>h1_glucose_min</th>\n",
              "      <th>h1_inr_max</th>\n",
              "      <th>h1_inr_min</th>\n",
              "      <th>d1_arterial_pco2_max</th>\n",
              "      <th>d1_arterial_pco2_min</th>\n",
              "      <th>d1_arterial_ph_max</th>\n",
              "      <th>d1_arterial_ph_min</th>\n",
              "      <th>d1_arterial_po2_max</th>\n",
              "      <th>d1_arterial_po2_min</th>\n",
              "      <th>aids</th>\n",
              "      <th>cirrhosis</th>\n",
              "      <th>hepatic_failure</th>\n",
              "      <th>immunosuppression</th>\n",
              "      <th>leukemia</th>\n",
              "      <th>lymphoma</th>\n",
              "      <th>solid_tumor_with_metastasis</th>\n",
              "      <th>diabetes_mellitus</th>\n",
              "    </tr>\n",
              "  </thead>\n",
              "  <tbody>\n",
              "    <tr>\n",
              "      <th>count</th>\n",
              "      <td>56302.000000</td>\n",
              "      <td>56302.000000</td>\n",
              "      <td>56302.000000</td>\n",
              "      <td>54457.000000</td>\n",
              "      <td>54386.000000</td>\n",
              "      <td>56302.000000</td>\n",
              "      <td>55484.000000</td>\n",
              "      <td>56302.000000</td>\n",
              "      <td>56302.000000</td>\n",
              "      <td>56302.0</td>\n",
              "      <td>54814.000000</td>\n",
              "      <td>22816.000000</td>\n",
              "      <td>55702.000000</td>\n",
              "      <td>56040.000000</td>\n",
              "      <td>56302.000000</td>\n",
              "      <td>56302.000000</td>\n",
              "      <td>20747.000000</td>\n",
              "      <td>45781.000000</td>\n",
              "      <td>46016.000000</td>\n",
              "      <td>55495.000000</td>\n",
              "      <td>55495.000000</td>\n",
              "      <td>56068.000000</td>\n",
              "      <td>55495.000000</td>\n",
              "      <td>51422.000000</td>\n",
              "      <td>56175.000000</td>\n",
              "      <td>44768.000000</td>\n",
              "      <td>56302.000000</td>\n",
              "      <td>56144.000000</td>\n",
              "      <td>55957.000000</td>\n",
              "      <td>46169.000000</td>\n",
              "      <td>53482.000000</td>\n",
              "      <td>28223.000000</td>\n",
              "      <td>56302.000000</td>\n",
              "      <td>43642.000000</td>\n",
              "      <td>56192.000000</td>\n",
              "      <td>56192.000000</td>\n",
              "      <td>55554.000000</td>\n",
              "      <td>55554.000000</td>\n",
              "      <td>56197.000000</td>\n",
              "      <td>56197.000000</td>\n",
              "      <td>...</td>\n",
              "      <td>49649.000000</td>\n",
              "      <td>49649.000000</td>\n",
              "      <td>51020.000000</td>\n",
              "      <td>51020.000000</td>\n",
              "      <td>53591.000000</td>\n",
              "      <td>53591.000000</td>\n",
              "      <td>47941.000000</td>\n",
              "      <td>47941.000000</td>\n",
              "      <td>49373.000000</td>\n",
              "      <td>49373.000000</td>\n",
              "      <td>49619.000000</td>\n",
              "      <td>49619.000000</td>\n",
              "      <td>21001.000000</td>\n",
              "      <td>21001.000000</td>\n",
              "      <td>48420.000000</td>\n",
              "      <td>48420.000000</td>\n",
              "      <td>51357.000000</td>\n",
              "      <td>51357.000000</td>\n",
              "      <td>51000.000000</td>\n",
              "      <td>51000.000000</td>\n",
              "      <td>48898.000000</td>\n",
              "      <td>48898.000000</td>\n",
              "      <td>26499.000000</td>\n",
              "      <td>26499.000000</td>\n",
              "      <td>21001.000000</td>\n",
              "      <td>21001.000000</td>\n",
              "      <td>20206.000000</td>\n",
              "      <td>20206.000000</td>\n",
              "      <td>20020.000000</td>\n",
              "      <td>20020.000000</td>\n",
              "      <td>20410.000000</td>\n",
              "      <td>20410.000000</td>\n",
              "      <td>56302.000000</td>\n",
              "      <td>56302.000000</td>\n",
              "      <td>56302.000000</td>\n",
              "      <td>56302.000000</td>\n",
              "      <td>56302.000000</td>\n",
              "      <td>56302.000000</td>\n",
              "      <td>56302.000000</td>\n",
              "      <td>56302.000000</td>\n",
              "    </tr>\n",
              "    <tr>\n",
              "      <th>mean</th>\n",
              "      <td>64717.925456</td>\n",
              "      <td>212962.999361</td>\n",
              "      <td>106.136301</td>\n",
              "      <td>62.909213</td>\n",
              "      <td>30.060988</td>\n",
              "      <td>0.188537</td>\n",
              "      <td>169.556044</td>\n",
              "      <td>660.103886</td>\n",
              "      <td>0.880909</td>\n",
              "      <td>0.0</td>\n",
              "      <td>86.408973</td>\n",
              "      <td>2.873935</td>\n",
              "      <td>185.684715</td>\n",
              "      <td>564.583607</td>\n",
              "      <td>0.203847</td>\n",
              "      <td>0.039945</td>\n",
              "      <td>1.148710</td>\n",
              "      <td>27.786649</td>\n",
              "      <td>1.609176</td>\n",
              "      <td>3.504928</td>\n",
              "      <td>5.504802</td>\n",
              "      <td>0.010220</td>\n",
              "      <td>4.051915</td>\n",
              "      <td>182.223309</td>\n",
              "      <td>99.589177</td>\n",
              "      <td>32.701968</td>\n",
              "      <td>0.156904</td>\n",
              "      <td>87.087020</td>\n",
              "      <td>25.082823</td>\n",
              "      <td>137.797732</td>\n",
              "      <td>36.414840</td>\n",
              "      <td>1815.718317</td>\n",
              "      <td>0.334109</td>\n",
              "      <td>12.258195</td>\n",
              "      <td>88.359357</td>\n",
              "      <td>49.342148</td>\n",
              "      <td>88.532635</td>\n",
              "      <td>49.407495</td>\n",
              "      <td>103.063811</td>\n",
              "      <td>70.660160</td>\n",
              "      <td>...</td>\n",
              "      <td>8.400957</td>\n",
              "      <td>8.176378</td>\n",
              "      <td>1.625132</td>\n",
              "      <td>1.477625</td>\n",
              "      <td>198.095986</td>\n",
              "      <td>117.989625</td>\n",
              "      <td>24.417002</td>\n",
              "      <td>23.019568</td>\n",
              "      <td>11.337200</td>\n",
              "      <td>10.797466</td>\n",
              "      <td>34.253359</td>\n",
              "      <td>32.673770</td>\n",
              "      <td>1.594107</td>\n",
              "      <td>1.479580</td>\n",
              "      <td>207.509748</td>\n",
              "      <td>196.533663</td>\n",
              "      <td>4.296518</td>\n",
              "      <td>3.943544</td>\n",
              "      <td>139.097888</td>\n",
              "      <td>137.520198</td>\n",
              "      <td>12.602686</td>\n",
              "      <td>11.370023</td>\n",
              "      <td>188.236879</td>\n",
              "      <td>177.463187</td>\n",
              "      <td>1.594107</td>\n",
              "      <td>1.479580</td>\n",
              "      <td>45.314751</td>\n",
              "      <td>38.557364</td>\n",
              "      <td>7.386343</td>\n",
              "      <td>7.320815</td>\n",
              "      <td>163.520027</td>\n",
              "      <td>101.940710</td>\n",
              "      <td>0.000710</td>\n",
              "      <td>0.017424</td>\n",
              "      <td>0.014280</td>\n",
              "      <td>0.025434</td>\n",
              "      <td>0.007460</td>\n",
              "      <td>0.004121</td>\n",
              "      <td>0.019946</td>\n",
              "      <td>0.500000</td>\n",
              "    </tr>\n",
              "    <tr>\n",
              "      <th>std</th>\n",
              "      <td>37297.009886</td>\n",
              "      <td>38152.582319</td>\n",
              "      <td>63.878489</td>\n",
              "      <td>16.152345</td>\n",
              "      <td>8.645612</td>\n",
              "      <td>0.391144</td>\n",
              "      <td>10.851177</td>\n",
              "      <td>302.030462</td>\n",
              "      <td>2.671541</td>\n",
              "      <td>0.0</td>\n",
              "      <td>25.913173</td>\n",
              "      <td>0.677925</td>\n",
              "      <td>86.402091</td>\n",
              "      <td>461.544571</td>\n",
              "      <td>0.402860</td>\n",
              "      <td>0.195832</td>\n",
              "      <td>2.234559</td>\n",
              "      <td>21.669375</td>\n",
              "      <td>1.647976</td>\n",
              "      <td>0.924575</td>\n",
              "      <td>1.249287</td>\n",
              "      <td>0.100576</td>\n",
              "      <td>1.523813</td>\n",
              "      <td>103.738714</td>\n",
              "      <td>30.448948</td>\n",
              "      <td>6.710964</td>\n",
              "      <td>0.363713</td>\n",
              "      <td>42.095914</td>\n",
              "      <td>15.015417</td>\n",
              "      <td>5.320693</td>\n",
              "      <td>0.855073</td>\n",
              "      <td>1467.980726</td>\n",
              "      <td>0.471682</td>\n",
              "      <td>6.932575</td>\n",
              "      <td>20.429866</td>\n",
              "      <td>13.320362</td>\n",
              "      <td>20.419978</td>\n",
              "      <td>13.349584</td>\n",
              "      <td>21.810610</td>\n",
              "      <td>17.044897</td>\n",
              "      <td>...</td>\n",
              "      <td>0.735678</td>\n",
              "      <td>0.783022</td>\n",
              "      <td>1.634574</td>\n",
              "      <td>1.441447</td>\n",
              "      <td>99.196354</td>\n",
              "      <td>42.772120</td>\n",
              "      <td>4.459057</td>\n",
              "      <td>5.252716</td>\n",
              "      <td>2.127447</td>\n",
              "      <td>2.300007</td>\n",
              "      <td>6.130969</td>\n",
              "      <td>6.697925</td>\n",
              "      <td>0.967643</td>\n",
              "      <td>0.753627</td>\n",
              "      <td>89.750667</td>\n",
              "      <td>87.896164</td>\n",
              "      <td>0.686561</td>\n",
              "      <td>0.591508</td>\n",
              "      <td>4.843890</td>\n",
              "      <td>4.942907</td>\n",
              "      <td>6.798524</td>\n",
              "      <td>5.922026</td>\n",
              "      <td>108.295712</td>\n",
              "      <td>101.932059</td>\n",
              "      <td>0.967643</td>\n",
              "      <td>0.753627</td>\n",
              "      <td>14.570183</td>\n",
              "      <td>11.121883</td>\n",
              "      <td>0.086642</td>\n",
              "      <td>0.111747</td>\n",
              "      <td>105.455923</td>\n",
              "      <td>60.520515</td>\n",
              "      <td>0.026645</td>\n",
              "      <td>0.130846</td>\n",
              "      <td>0.118644</td>\n",
              "      <td>0.157441</td>\n",
              "      <td>0.086048</td>\n",
              "      <td>0.064060</td>\n",
              "      <td>0.139816</td>\n",
              "      <td>0.500004</td>\n",
              "    </tr>\n",
              "    <tr>\n",
              "      <th>min</th>\n",
              "      <td>1.000000</td>\n",
              "      <td>147004.000000</td>\n",
              "      <td>1.000000</td>\n",
              "      <td>0.000000</td>\n",
              "      <td>14.844926</td>\n",
              "      <td>0.000000</td>\n",
              "      <td>137.200000</td>\n",
              "      <td>82.000000</td>\n",
              "      <td>-0.244444</td>\n",
              "      <td>0.0</td>\n",
              "      <td>38.600000</td>\n",
              "      <td>1.200000</td>\n",
              "      <td>101.000000</td>\n",
              "      <td>0.010000</td>\n",
              "      <td>0.000000</td>\n",
              "      <td>0.000000</td>\n",
              "      <td>0.100000</td>\n",
              "      <td>4.000000</td>\n",
              "      <td>0.300000</td>\n",
              "      <td>1.000000</td>\n",
              "      <td>1.000000</td>\n",
              "      <td>0.000000</td>\n",
              "      <td>1.000000</td>\n",
              "      <td>39.000000</td>\n",
              "      <td>30.000000</td>\n",
              "      <td>16.200000</td>\n",
              "      <td>0.000000</td>\n",
              "      <td>40.000000</td>\n",
              "      <td>4.000000</td>\n",
              "      <td>117.000000</td>\n",
              "      <td>32.100000</td>\n",
              "      <td>0.000000</td>\n",
              "      <td>0.000000</td>\n",
              "      <td>0.900000</td>\n",
              "      <td>46.000000</td>\n",
              "      <td>13.000000</td>\n",
              "      <td>46.000000</td>\n",
              "      <td>13.000000</td>\n",
              "      <td>58.000000</td>\n",
              "      <td>0.000000</td>\n",
              "      <td>...</td>\n",
              "      <td>6.200000</td>\n",
              "      <td>5.500000</td>\n",
              "      <td>0.340000</td>\n",
              "      <td>0.300000</td>\n",
              "      <td>73.000000</td>\n",
              "      <td>33.000000</td>\n",
              "      <td>12.000000</td>\n",
              "      <td>7.000000</td>\n",
              "      <td>6.800000</td>\n",
              "      <td>5.300000</td>\n",
              "      <td>20.400000</td>\n",
              "      <td>16.100000</td>\n",
              "      <td>0.900000</td>\n",
              "      <td>0.900000</td>\n",
              "      <td>27.000000</td>\n",
              "      <td>18.550000</td>\n",
              "      <td>2.800000</td>\n",
              "      <td>2.400000</td>\n",
              "      <td>123.000000</td>\n",
              "      <td>117.000000</td>\n",
              "      <td>1.200000</td>\n",
              "      <td>0.900000</td>\n",
              "      <td>59.000000</td>\n",
              "      <td>42.000000</td>\n",
              "      <td>0.900000</td>\n",
              "      <td>0.900000</td>\n",
              "      <td>18.400000</td>\n",
              "      <td>14.900000</td>\n",
              "      <td>7.054280</td>\n",
              "      <td>6.890000</td>\n",
              "      <td>39.000000</td>\n",
              "      <td>28.000000</td>\n",
              "      <td>0.000000</td>\n",
              "      <td>0.000000</td>\n",
              "      <td>0.000000</td>\n",
              "      <td>0.000000</td>\n",
              "      <td>0.000000</td>\n",
              "      <td>0.000000</td>\n",
              "      <td>0.000000</td>\n",
              "      <td>0.000000</td>\n",
              "    </tr>\n",
              "    <tr>\n",
              "      <th>25%</th>\n",
              "      <td>32197.250000</td>\n",
              "      <td>179736.750000</td>\n",
              "      <td>48.000000</td>\n",
              "      <td>54.000000</td>\n",
              "      <td>24.208110</td>\n",
              "      <td>0.000000</td>\n",
              "      <td>162.500000</td>\n",
              "      <td>426.000000</td>\n",
              "      <td>0.047917</td>\n",
              "      <td>0.0</td>\n",
              "      <td>68.040000</td>\n",
              "      <td>2.400000</td>\n",
              "      <td>113.000000</td>\n",
              "      <td>203.010000</td>\n",
              "      <td>0.000000</td>\n",
              "      <td>0.000000</td>\n",
              "      <td>0.400000</td>\n",
              "      <td>13.000000</td>\n",
              "      <td>0.740000</td>\n",
              "      <td>3.000000</td>\n",
              "      <td>6.000000</td>\n",
              "      <td>0.000000</td>\n",
              "      <td>4.000000</td>\n",
              "      <td>101.000000</td>\n",
              "      <td>86.000000</td>\n",
              "      <td>27.900000</td>\n",
              "      <td>0.000000</td>\n",
              "      <td>53.000000</td>\n",
              "      <td>11.000000</td>\n",
              "      <td>135.000000</td>\n",
              "      <td>36.200000</td>\n",
              "      <td>797.342400</td>\n",
              "      <td>0.000000</td>\n",
              "      <td>7.600000</td>\n",
              "      <td>74.000000</td>\n",
              "      <td>41.000000</td>\n",
              "      <td>74.000000</td>\n",
              "      <td>41.000000</td>\n",
              "      <td>88.000000</td>\n",
              "      <td>60.000000</td>\n",
              "      <td>...</td>\n",
              "      <td>7.900000</td>\n",
              "      <td>7.700000</td>\n",
              "      <td>0.790000</td>\n",
              "      <td>0.740000</td>\n",
              "      <td>128.000000</td>\n",
              "      <td>91.000000</td>\n",
              "      <td>22.000000</td>\n",
              "      <td>20.000000</td>\n",
              "      <td>9.700000</td>\n",
              "      <td>9.100000</td>\n",
              "      <td>29.700000</td>\n",
              "      <td>27.900000</td>\n",
              "      <td>1.100000</td>\n",
              "      <td>1.100000</td>\n",
              "      <td>148.000000</td>\n",
              "      <td>138.000000</td>\n",
              "      <td>3.800000</td>\n",
              "      <td>3.600000</td>\n",
              "      <td>136.000000</td>\n",
              "      <td>135.000000</td>\n",
              "      <td>8.100000</td>\n",
              "      <td>7.500000</td>\n",
              "      <td>118.000000</td>\n",
              "      <td>112.000000</td>\n",
              "      <td>1.100000</td>\n",
              "      <td>1.100000</td>\n",
              "      <td>36.200000</td>\n",
              "      <td>32.000000</td>\n",
              "      <td>7.340000</td>\n",
              "      <td>7.270000</td>\n",
              "      <td>88.000000</td>\n",
              "      <td>68.000000</td>\n",
              "      <td>0.000000</td>\n",
              "      <td>0.000000</td>\n",
              "      <td>0.000000</td>\n",
              "      <td>0.000000</td>\n",
              "      <td>0.000000</td>\n",
              "      <td>0.000000</td>\n",
              "      <td>0.000000</td>\n",
              "      <td>0.000000</td>\n",
              "    </tr>\n",
              "    <tr>\n",
              "      <th>50%</th>\n",
              "      <td>64510.500000</td>\n",
              "      <td>213065.000000</td>\n",
              "      <td>113.000000</td>\n",
              "      <td>65.000000</td>\n",
              "      <td>28.468696</td>\n",
              "      <td>0.000000</td>\n",
              "      <td>170.000000</td>\n",
              "      <td>653.000000</td>\n",
              "      <td>0.160417</td>\n",
              "      <td>0.0</td>\n",
              "      <td>82.100000</td>\n",
              "      <td>2.900000</td>\n",
              "      <td>123.000000</td>\n",
              "      <td>410.010000</td>\n",
              "      <td>0.000000</td>\n",
              "      <td>0.000000</td>\n",
              "      <td>0.600000</td>\n",
              "      <td>21.000000</td>\n",
              "      <td>1.050000</td>\n",
              "      <td>4.000000</td>\n",
              "      <td>6.000000</td>\n",
              "      <td>0.000000</td>\n",
              "      <td>5.000000</td>\n",
              "      <td>162.000000</td>\n",
              "      <td>104.000000</td>\n",
              "      <td>32.800000</td>\n",
              "      <td>0.000000</td>\n",
              "      <td>66.000000</td>\n",
              "      <td>27.000000</td>\n",
              "      <td>138.000000</td>\n",
              "      <td>36.500000</td>\n",
              "      <td>1467.763200</td>\n",
              "      <td>0.000000</td>\n",
              "      <td>10.500000</td>\n",
              "      <td>86.000000</td>\n",
              "      <td>49.000000</td>\n",
              "      <td>86.000000</td>\n",
              "      <td>49.000000</td>\n",
              "      <td>101.000000</td>\n",
              "      <td>70.000000</td>\n",
              "      <td>...</td>\n",
              "      <td>8.400000</td>\n",
              "      <td>8.200000</td>\n",
              "      <td>1.070000</td>\n",
              "      <td>1.000000</td>\n",
              "      <td>170.000000</td>\n",
              "      <td>110.000000</td>\n",
              "      <td>24.000000</td>\n",
              "      <td>23.000000</td>\n",
              "      <td>11.300000</td>\n",
              "      <td>10.800000</td>\n",
              "      <td>34.100000</td>\n",
              "      <td>32.800000</td>\n",
              "      <td>1.300000</td>\n",
              "      <td>1.200000</td>\n",
              "      <td>196.000000</td>\n",
              "      <td>186.000000</td>\n",
              "      <td>4.200000</td>\n",
              "      <td>3.900000</td>\n",
              "      <td>139.000000</td>\n",
              "      <td>138.000000</td>\n",
              "      <td>11.100000</td>\n",
              "      <td>10.200000</td>\n",
              "      <td>155.000000</td>\n",
              "      <td>147.000000</td>\n",
              "      <td>1.300000</td>\n",
              "      <td>1.200000</td>\n",
              "      <td>42.900000</td>\n",
              "      <td>37.000000</td>\n",
              "      <td>7.390000</td>\n",
              "      <td>7.337000</td>\n",
              "      <td>126.000000</td>\n",
              "      <td>85.000000</td>\n",
              "      <td>0.000000</td>\n",
              "      <td>0.000000</td>\n",
              "      <td>0.000000</td>\n",
              "      <td>0.000000</td>\n",
              "      <td>0.000000</td>\n",
              "      <td>0.000000</td>\n",
              "      <td>0.000000</td>\n",
              "      <td>0.500000</td>\n",
              "    </tr>\n",
              "    <tr>\n",
              "      <th>75%</th>\n",
              "      <td>96370.000000</td>\n",
              "      <td>246050.250000</td>\n",
              "      <td>165.000000</td>\n",
              "      <td>75.000000</td>\n",
              "      <td>34.041004</td>\n",
              "      <td>0.000000</td>\n",
              "      <td>177.800000</td>\n",
              "      <td>966.000000</td>\n",
              "      <td>0.442361</td>\n",
              "      <td>0.0</td>\n",
              "      <td>99.900000</td>\n",
              "      <td>3.300000</td>\n",
              "      <td>302.000000</td>\n",
              "      <td>703.030000</td>\n",
              "      <td>0.000000</td>\n",
              "      <td>0.000000</td>\n",
              "      <td>1.100000</td>\n",
              "      <td>35.000000</td>\n",
              "      <td>1.700000</td>\n",
              "      <td>4.000000</td>\n",
              "      <td>6.000000</td>\n",
              "      <td>0.000000</td>\n",
              "      <td>5.000000</td>\n",
              "      <td>232.000000</td>\n",
              "      <td>119.000000</td>\n",
              "      <td>37.500000</td>\n",
              "      <td>0.000000</td>\n",
              "      <td>124.000000</td>\n",
              "      <td>35.000000</td>\n",
              "      <td>141.000000</td>\n",
              "      <td>36.700000</td>\n",
              "      <td>2442.873600</td>\n",
              "      <td>1.000000</td>\n",
              "      <td>15.340000</td>\n",
              "      <td>99.000000</td>\n",
              "      <td>57.000000</td>\n",
              "      <td>99.000000</td>\n",
              "      <td>58.000000</td>\n",
              "      <td>116.000000</td>\n",
              "      <td>81.000000</td>\n",
              "      <td>...</td>\n",
              "      <td>8.900000</td>\n",
              "      <td>8.700000</td>\n",
              "      <td>1.700000</td>\n",
              "      <td>1.540000</td>\n",
              "      <td>239.000000</td>\n",
              "      <td>137.000000</td>\n",
              "      <td>27.000000</td>\n",
              "      <td>26.000000</td>\n",
              "      <td>12.800000</td>\n",
              "      <td>12.500000</td>\n",
              "      <td>38.500000</td>\n",
              "      <td>37.500000</td>\n",
              "      <td>1.600000</td>\n",
              "      <td>1.500000</td>\n",
              "      <td>252.000000</td>\n",
              "      <td>242.000000</td>\n",
              "      <td>4.600000</td>\n",
              "      <td>4.300000</td>\n",
              "      <td>142.000000</td>\n",
              "      <td>140.000000</td>\n",
              "      <td>15.400000</td>\n",
              "      <td>13.800000</td>\n",
              "      <td>220.000000</td>\n",
              "      <td>209.000000</td>\n",
              "      <td>1.600000</td>\n",
              "      <td>1.500000</td>\n",
              "      <td>50.300000</td>\n",
              "      <td>43.000000</td>\n",
              "      <td>7.440000</td>\n",
              "      <td>7.392000</td>\n",
              "      <td>204.000000</td>\n",
              "      <td>114.000000</td>\n",
              "      <td>0.000000</td>\n",
              "      <td>0.000000</td>\n",
              "      <td>0.000000</td>\n",
              "      <td>0.000000</td>\n",
              "      <td>0.000000</td>\n",
              "      <td>0.000000</td>\n",
              "      <td>0.000000</td>\n",
              "      <td>1.000000</td>\n",
              "    </tr>\n",
              "    <tr>\n",
              "      <th>max</th>\n",
              "      <td>130157.000000</td>\n",
              "      <td>279000.000000</td>\n",
              "      <td>204.000000</td>\n",
              "      <td>89.000000</td>\n",
              "      <td>67.814990</td>\n",
              "      <td>1.000000</td>\n",
              "      <td>195.590000</td>\n",
              "      <td>1111.000000</td>\n",
              "      <td>175.627778</td>\n",
              "      <td>0.0</td>\n",
              "      <td>186.000000</td>\n",
              "      <td>4.600000</td>\n",
              "      <td>308.000000</td>\n",
              "      <td>2201.050000</td>\n",
              "      <td>1.000000</td>\n",
              "      <td>1.000000</td>\n",
              "      <td>60.200000</td>\n",
              "      <td>127.000000</td>\n",
              "      <td>11.180000</td>\n",
              "      <td>4.000000</td>\n",
              "      <td>6.000000</td>\n",
              "      <td>1.000000</td>\n",
              "      <td>5.000000</td>\n",
              "      <td>598.700000</td>\n",
              "      <td>178.000000</td>\n",
              "      <td>51.400000</td>\n",
              "      <td>1.000000</td>\n",
              "      <td>200.000000</td>\n",
              "      <td>60.000000</td>\n",
              "      <td>158.000000</td>\n",
              "      <td>39.700000</td>\n",
              "      <td>8716.669632</td>\n",
              "      <td>1.000000</td>\n",
              "      <td>45.800000</td>\n",
              "      <td>165.000000</td>\n",
              "      <td>90.000000</td>\n",
              "      <td>165.000000</td>\n",
              "      <td>90.000000</td>\n",
              "      <td>177.000000</td>\n",
              "      <td>160.000000</td>\n",
              "      <td>...</td>\n",
              "      <td>10.800000</td>\n",
              "      <td>10.300000</td>\n",
              "      <td>11.110000</td>\n",
              "      <td>9.937900</td>\n",
              "      <td>611.000000</td>\n",
              "      <td>288.000000</td>\n",
              "      <td>40.000000</td>\n",
              "      <td>39.000000</td>\n",
              "      <td>17.200000</td>\n",
              "      <td>16.700000</td>\n",
              "      <td>51.500000</td>\n",
              "      <td>50.000000</td>\n",
              "      <td>7.756000</td>\n",
              "      <td>6.127000</td>\n",
              "      <td>585.000000</td>\n",
              "      <td>557.450000</td>\n",
              "      <td>7.000000</td>\n",
              "      <td>5.800000</td>\n",
              "      <td>158.000000</td>\n",
              "      <td>153.000000</td>\n",
              "      <td>46.080000</td>\n",
              "      <td>40.898000</td>\n",
              "      <td>695.045000</td>\n",
              "      <td>670.000000</td>\n",
              "      <td>7.756000</td>\n",
              "      <td>6.127000</td>\n",
              "      <td>111.000000</td>\n",
              "      <td>85.912000</td>\n",
              "      <td>7.620000</td>\n",
              "      <td>7.557860</td>\n",
              "      <td>540.865000</td>\n",
              "      <td>448.892000</td>\n",
              "      <td>1.000000</td>\n",
              "      <td>1.000000</td>\n",
              "      <td>1.000000</td>\n",
              "      <td>1.000000</td>\n",
              "      <td>1.000000</td>\n",
              "      <td>1.000000</td>\n",
              "      <td>1.000000</td>\n",
              "      <td>1.000000</td>\n",
              "    </tr>\n",
              "  </tbody>\n",
              "</table>\n",
              "<p>8 rows × 120 columns</p>\n",
              "</div>"
            ],
            "text/plain": [
              "          Unnamed: 0  ...  diabetes_mellitus\n",
              "count   56302.000000  ...       56302.000000\n",
              "mean    64717.925456  ...           0.500000\n",
              "std     37297.009886  ...           0.500004\n",
              "min         1.000000  ...           0.000000\n",
              "25%     32197.250000  ...           0.000000\n",
              "50%     64510.500000  ...           0.500000\n",
              "75%     96370.000000  ...           1.000000\n",
              "max    130157.000000  ...           1.000000\n",
              "\n",
              "[8 rows x 120 columns]"
            ]
          },
          "metadata": {
            "tags": []
          },
          "execution_count": 24
        }
      ]
    },
    {
      "cell_type": "code",
      "metadata": {
        "colab": {
          "base_uri": "https://localhost:8080/"
        },
        "id": "FJFn2ziyay48",
        "outputId": "324a9b7b-2a59-481e-e9bb-72b6cd7cf85f"
      },
      "source": [
        "sample_df_B['diabetes_mellitus'].value_counts()"
      ],
      "execution_count": 25,
      "outputs": [
        {
          "output_type": "execute_result",
          "data": {
            "text/plain": [
              "1    28151\n",
              "0    28151\n",
              "Name: diabetes_mellitus, dtype: int64"
            ]
          },
          "metadata": {
            "tags": []
          },
          "execution_count": 25
        }
      ]
    },
    {
      "cell_type": "markdown",
      "metadata": {
        "id": "YH2DJ3_jbX7-"
      },
      "source": [
        "##Drop Features Not Associated with Patient Vitals"
      ]
    },
    {
      "cell_type": "code",
      "metadata": {
        "colab": {
          "base_uri": "https://localhost:8080/"
        },
        "id": "v6pr7PVba9P0",
        "outputId": "05d93300-e2e7-4748-a004-ea841a65d477"
      },
      "source": [
        "drop_cols2 =['Unnamed: 0',\n",
        " 'encounter_id',\n",
        " 'hospital_id',\n",
        " 'elective_surgery',\n",
        " 'hospital_admit_source',\n",
        " 'icu_admit_source',\n",
        " 'icu_id',\n",
        " 'icu_stay_type',\n",
        " 'icu_type',\n",
        " 'pre_icu_los_days',\n",
        " 'readmission_status',\n",
        " ]\n",
        "\n",
        "sample_df_B2=sample_df_B.drop(drop_cols2, axis=1)\n",
        "sample_df_B2.shape"
      ],
      "execution_count": 26,
      "outputs": [
        {
          "output_type": "execute_result",
          "data": {
            "text/plain": [
              "(56302, 115)"
            ]
          },
          "metadata": {
            "tags": []
          },
          "execution_count": 26
        }
      ]
    },
    {
      "cell_type": "markdown",
      "metadata": {
        "id": "-hUK1GDTdV7W"
      },
      "source": [
        "##Encode Categorical Data in sample_df_B2 (Sample set of df_B)"
      ]
    },
    {
      "cell_type": "code",
      "metadata": {
        "colab": {
          "base_uri": "https://localhost:8080/"
        },
        "id": "TFTYs1oocgQF",
        "outputId": "76239da9-1750-436b-fd37-d740c6a27ee4"
      },
      "source": [
        "sample_df_B2.select_dtypes(include=['object']).columns"
      ],
      "execution_count": 27,
      "outputs": [
        {
          "output_type": "execute_result",
          "data": {
            "text/plain": [
              "Index(['ethnicity', 'gender'], dtype='object')"
            ]
          },
          "metadata": {
            "tags": []
          },
          "execution_count": 27
        }
      ]
    },
    {
      "cell_type": "code",
      "metadata": {
        "colab": {
          "base_uri": "https://localhost:8080/"
        },
        "id": "nisLnoJqdo3H",
        "outputId": "2f22352f-0873-4e33-ed59-e8aa8a342926"
      },
      "source": [
        "demo_cat=pd.get_dummies(sample_df_B2[['gender','ethnicity']])\n",
        "sample_df_B3 = sample_df_B2.join(demo_cat)\n",
        "sample_df_B3=sample_df_B3.drop(['gender','ethnicity'], axis=1)\n",
        "sample_df_B3.shape"
      ],
      "execution_count": 28,
      "outputs": [
        {
          "output_type": "execute_result",
          "data": {
            "text/plain": [
              "(56302, 121)"
            ]
          },
          "metadata": {
            "tags": []
          },
          "execution_count": 28
        }
      ]
    },
    {
      "cell_type": "markdown",
      "metadata": {
        "id": "pT2ybWdDgzoj"
      },
      "source": [
        "##Set Features and Target (sample of df_B) & Training, Test Split"
      ]
    },
    {
      "cell_type": "code",
      "metadata": {
        "id": "Y9BYidCOe7ES"
      },
      "source": [
        "y_b=sample_df_B3['diabetes_mellitus']\n",
        "X_b=sample_df_B3.drop(['diabetes_mellitus','aids',\n",
        " 'cirrhosis',\n",
        " 'hepatic_failure',\n",
        " 'immunosuppression',\n",
        " 'leukemia',\n",
        " 'lymphoma',\n",
        " 'solid_tumor_with_metastasis',\n",
        " 'gender_F',\n",
        " 'gender_M',\n",
        " 'ethnicity_African American',\n",
        " 'ethnicity_Asian',\n",
        " 'ethnicity_Caucasian',\n",
        " 'ethnicity_Hispanic',\n",
        " 'ethnicity_Native American',\n",
        " 'ethnicity_Other/Unknown'], axis=1)\n",
        "\n",
        "X_b_train, X_b_test, y_b_train,y_b_test =train_test_split(X_b,y_b, random_state=40)"
      ],
      "execution_count": 29,
      "outputs": []
    },
    {
      "cell_type": "code",
      "metadata": {
        "colab": {
          "base_uri": "https://localhost:8080/"
        },
        "id": "z7Q-WgP0RUmZ",
        "outputId": "9103a1d5-757d-4bf4-e918-c9304a74a911"
      },
      "source": [
        "y_b_train.shape, X_b_train.shape"
      ],
      "execution_count": 30,
      "outputs": [
        {
          "output_type": "execute_result",
          "data": {
            "text/plain": [
              "((42226,), (42226, 105))"
            ]
          },
          "metadata": {
            "tags": []
          },
          "execution_count": 30
        }
      ]
    },
    {
      "cell_type": "code",
      "metadata": {
        "colab": {
          "base_uri": "https://localhost:8080/"
        },
        "id": "IVx5fpXnR-N1",
        "outputId": "04895b65-85c7-47c4-abc0-fe7f5c751bc3"
      },
      "source": [
        "y_b_test.shape, X_b_test.shape"
      ],
      "execution_count": 31,
      "outputs": [
        {
          "output_type": "execute_result",
          "data": {
            "text/plain": [
              "((14076,), (14076, 105))"
            ]
          },
          "metadata": {
            "tags": []
          },
          "execution_count": 31
        }
      ]
    },
    {
      "cell_type": "markdown",
      "metadata": {
        "id": "e_ck_WlLYkJV"
      },
      "source": [
        "#Create Training and Predictive Models For df_B (Sample set of 56,302)"
      ]
    },
    {
      "cell_type": "code",
      "metadata": {
        "id": "Qs-lqYGRzLvX"
      },
      "source": [
        "model_1_B= XGBClassifier() #used to manage datasets with missing values"
      ],
      "execution_count": 32,
      "outputs": []
    },
    {
      "cell_type": "markdown",
      "metadata": {
        "id": "WVTtwlMaZFiA"
      },
      "source": [
        "## XGBClassifier Model 1 - df_B"
      ]
    },
    {
      "cell_type": "code",
      "metadata": {
        "colab": {
          "base_uri": "https://localhost:8080/"
        },
        "id": "v9YWxWVAX0MB",
        "outputId": "fd5e3d45-de57-4980-d2db-5b517521ad1e"
      },
      "source": [
        "model_1_B.fit(X_b_train,y_b_train)"
      ],
      "execution_count": 33,
      "outputs": [
        {
          "output_type": "execute_result",
          "data": {
            "text/plain": [
              "XGBClassifier(base_score=0.5, booster='gbtree', colsample_bylevel=1,\n",
              "              colsample_bynode=1, colsample_bytree=1, gamma=0,\n",
              "              learning_rate=0.1, max_delta_step=0, max_depth=3,\n",
              "              min_child_weight=1, missing=None, n_estimators=100, n_jobs=1,\n",
              "              nthread=None, objective='binary:logistic', random_state=0,\n",
              "              reg_alpha=0, reg_lambda=1, scale_pos_weight=1, seed=None,\n",
              "              silent=None, subsample=1, verbosity=1)"
            ]
          },
          "metadata": {
            "tags": []
          },
          "execution_count": 33
        }
      ]
    },
    {
      "cell_type": "code",
      "metadata": {
        "colab": {
          "base_uri": "https://localhost:8080/"
        },
        "id": "AbTw96_TY16A",
        "outputId": "0c48d14d-75bd-410d-835a-114abe605696"
      },
      "source": [
        "\n",
        "model_1_B.score(X_b_test,y_b_test)"
      ],
      "execution_count": 34,
      "outputs": [
        {
          "output_type": "execute_result",
          "data": {
            "text/plain": [
              "0.7660556976413754"
            ]
          },
          "metadata": {
            "tags": []
          },
          "execution_count": 34
        }
      ]
    },
    {
      "cell_type": "code",
      "metadata": {
        "colab": {
          "base_uri": "https://localhost:8080/",
          "height": 295
        },
        "id": "Q___NoqDI4_4",
        "outputId": "299fbe62-ff1c-453d-d6f3-9d1159de3b2b"
      },
      "source": [
        "from xgboost import plot_importance\n",
        "plot_importance(model_1_B)\n",
        "plt.show()"
      ],
      "execution_count": 35,
      "outputs": [
        {
          "output_type": "display_data",
          "data": {
            "image/png": "[encoded data removed]",
            "text/plain": [
              "<Figure size 432x288 with 1 Axes>"
            ]
          },
          "metadata": {
            "tags": [],
            "needs_background": "light"
          }
        }
      ]
    },
    {
      "cell_type": "code",
      "metadata": {
        "colab": {
          "base_uri": "https://localhost:8080/"
        },
        "id": "Or86XcAXF_1p",
        "outputId": "d3da08d9-7f22-48ad-9b4e-fc13a6dff627"
      },
      "source": [
        "model_1_B.feature_importances_"
      ],
      "execution_count": 36,
      "outputs": [
        {
          "output_type": "execute_result",
          "data": {
            "text/plain": [
              "array([0.03030516, 0.03324857, 0.00255417, 0.01385327, 0.        ,\n",
              "       0.01100838, 0.01064261, 0.        , 0.0332147 , 0.00458245,\n",
              "       0.01398497, 0.00603223, 0.03182501, 0.01850843, 0.        ,\n",
              "       0.01855296, 0.01757384, 0.0171796 , 0.        , 0.        ,\n",
              "       0.        , 0.        , 0.00480568, 0.00442252, 0.00920616,\n",
              "       0.02683004, 0.01035378, 0.0083265 , 0.00530095, 0.00811944,\n",
              "       0.00265151, 0.01335341, 0.        , 0.        , 0.00270399,\n",
              "       0.        , 0.        , 0.        , 0.00799808, 0.00487294,\n",
              "       0.        , 0.011275  , 0.00728985, 0.0119106 , 0.00463963,\n",
              "       0.00460969, 0.00492604, 0.00919401, 0.00671905, 0.00419571,\n",
              "       0.00458553, 0.00329798, 0.00418613, 0.        , 0.        ,\n",
              "       0.        , 0.00309911, 0.0038707 , 0.00576067, 0.00457413,\n",
              "       0.        , 0.0069081 , 0.00617549, 0.        , 0.00526952,\n",
              "       0.        , 0.        , 0.00579551, 0.00325165, 0.        ,\n",
              "       0.00301262, 0.00398554, 0.01785665, 0.        , 0.01113254,\n",
              "       0.01458658, 0.0512165 , 0.18565564, 0.02159869, 0.0071272 ,\n",
              "       0.0082163 , 0.01622481, 0.        , 0.00769726, 0.00510342,\n",
              "       0.01258139, 0.00715248, 0.00518268, 0.0071475 , 0.0044262 ,\n",
              "       0.        , 0.00533354, 0.00658538, 0.02503181, 0.00273674,\n",
              "       0.00944043, 0.00831775, 0.        , 0.        , 0.01514407,\n",
              "       0.00984574, 0.0031663 , 0.01085859, 0.01460175, 0.00548842],\n",
              "      dtype=float32)"
            ]
          },
          "metadata": {
            "tags": []
          },
          "execution_count": 36
        }
      ]
    },
    {
      "cell_type": "markdown",
      "metadata": {
        "id": "f9tMb3Pj7S-k"
      },
      "source": [
        "##Predictions based on model_B XGBClassifier"
      ]
    },
    {
      "cell_type": "code",
      "metadata": {
        "id": "cNlvJVGMtLqt"
      },
      "source": [
        "test_col_B=list(X_b.columns)\n"
      ],
      "execution_count": 42,
      "outputs": []
    },
    {
      "cell_type": "code",
      "metadata": {
        "colab": {
          "base_uri": "https://localhost:8080/",
          "height": 419
        },
        "id": "3H9QS0HPoYud",
        "outputId": "ae9a4a45-4a98-4b23-99be-60376ceab02e"
      },
      "source": [
        "test_df_B['diabetes_mellitus']=model_1_B.predict(test_df_B[test_col_B])\n",
        "submit_B = test_df_B[['encounter_id','diabetes_mellitus']]\n",
        "submit_B"
      ],
      "execution_count": 43,
      "outputs": [
        {
          "output_type": "execute_result",
          "data": {
            "text/html": [
              "<div>\n",
              "<style scoped>\n",
              "    .dataframe tbody tr th:only-of-type {\n",
              "        vertical-align: middle;\n",
              "    }\n",
              "\n",
              "    .dataframe tbody tr th {\n",
              "        vertical-align: top;\n",
              "    }\n",
              "\n",
              "    .dataframe thead th {\n",
              "        text-align: right;\n",
              "    }\n",
              "</style>\n",
              "<table border=\"1\" class=\"dataframe\">\n",
              "  <thead>\n",
              "    <tr style=\"text-align: right;\">\n",
              "      <th></th>\n",
              "      <th>encounter_id</th>\n",
              "      <th>diabetes_mellitus</th>\n",
              "    </tr>\n",
              "  </thead>\n",
              "  <tbody>\n",
              "    <tr>\n",
              "      <th>0</th>\n",
              "      <td>144740</td>\n",
              "      <td>0</td>\n",
              "    </tr>\n",
              "    <tr>\n",
              "      <th>1</th>\n",
              "      <td>141990</td>\n",
              "      <td>0</td>\n",
              "    </tr>\n",
              "    <tr>\n",
              "      <th>2</th>\n",
              "      <td>142038</td>\n",
              "      <td>0</td>\n",
              "    </tr>\n",
              "    <tr>\n",
              "      <th>3</th>\n",
              "      <td>138628</td>\n",
              "      <td>0</td>\n",
              "    </tr>\n",
              "    <tr>\n",
              "      <th>4</th>\n",
              "      <td>141682</td>\n",
              "      <td>1</td>\n",
              "    </tr>\n",
              "    <tr>\n",
              "      <th>...</th>\n",
              "      <td>...</td>\n",
              "      <td>...</td>\n",
              "    </tr>\n",
              "    <tr>\n",
              "      <th>10229</th>\n",
              "      <td>143750</td>\n",
              "      <td>0</td>\n",
              "    </tr>\n",
              "    <tr>\n",
              "      <th>10230</th>\n",
              "      <td>143813</td>\n",
              "      <td>0</td>\n",
              "    </tr>\n",
              "    <tr>\n",
              "      <th>10231</th>\n",
              "      <td>137126</td>\n",
              "      <td>0</td>\n",
              "    </tr>\n",
              "    <tr>\n",
              "      <th>10232</th>\n",
              "      <td>135652</td>\n",
              "      <td>0</td>\n",
              "    </tr>\n",
              "    <tr>\n",
              "      <th>10233</th>\n",
              "      <td>136852</td>\n",
              "      <td>0</td>\n",
              "    </tr>\n",
              "  </tbody>\n",
              "</table>\n",
              "<p>10234 rows × 2 columns</p>\n",
              "</div>"
            ],
            "text/plain": [
              "       encounter_id  diabetes_mellitus\n",
              "0            144740                  0\n",
              "1            141990                  0\n",
              "2            142038                  0\n",
              "3            138628                  0\n",
              "4            141682                  1\n",
              "...             ...                ...\n",
              "10229        143750                  0\n",
              "10230        143813                  0\n",
              "10231        137126                  0\n",
              "10232        135652                  0\n",
              "10233        136852                  0\n",
              "\n",
              "[10234 rows x 2 columns]"
            ]
          },
          "metadata": {
            "tags": []
          },
          "execution_count": 43
        }
      ]
    },
    {
      "cell_type": "code",
      "metadata": {
        "colab": {
          "base_uri": "https://localhost:8080/"
        },
        "id": "mMpLg2tnvGxu",
        "outputId": "2db359c0-5337-496e-f562-39e4e143b3f4"
      },
      "source": [
        "test_df_B['diabetes_mellitus'].sum()"
      ],
      "execution_count": 44,
      "outputs": [
        {
          "output_type": "execute_result",
          "data": {
            "text/plain": [
              "3654"
            ]
          },
          "metadata": {
            "tags": []
          },
          "execution_count": 44
        }
      ]
    },
    {
      "cell_type": "code",
      "metadata": {
        "id": "C7cPobMAxWUB"
      },
      "source": [
        "submit_B.to_csv('Boost_Class_B.csv',index=False)"
      ],
      "execution_count": 45,
      "outputs": []
    }
  ]
}